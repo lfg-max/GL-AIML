{
  "cells": [
    {
      "cell_type": "markdown",
      "metadata": {
        "id": "E0FG5VngrybU"
      },
      "source": [
        "<center><p float=\"center\">\n",
        "  <img src=\"https://upload.wikimedia.org/wikipedia/commons/e/e9/4_RGB_McCombs_School_Brand_Branded.png\" width=\"300\" height=\"100\"/>\n",
        "  <img src=\"https://mma.prnewswire.com/media/1458111/Great_Learning_Logo.jpg?p=facebook\" width=\"200\" height=\"100\"/>\n",
        "</p></center>\n",
        "\n",
        "<center><font size=10>Applied Statistics</center></font>\n",
        "<center><font size=5>Common Statistical Tests - Week 3</font></center>\n",
        "\n",
        "\n",
        "\n",
        "\n"
      ]
    },
    {
      "cell_type": "markdown",
      "metadata": {
        "id": "rwIqTziDr11_"
      },
      "source": [
        "<center><img src=\"https://cdn.pixabay.com/photo/2020/08/21/18/53/healthy-5506822__340.jpg\" width=\"1000\" height=\"600\"></center>\n",
        "\n",
        "<b><center><font size=5>Diet Case Study</font></center></b>\n"
      ]
    },
    {
      "cell_type": "markdown",
      "metadata": {
        "id": "mD04kKWLsulE"
      },
      "source": [
        "## **Problem Statement**"
      ]
    },
    {
      "cell_type": "markdown",
      "metadata": {
        "id": "IvgViS0Y77T0"
      },
      "source": [
        "### **Business Context**"
      ]
    },
    {
      "cell_type": "markdown",
      "metadata": {
        "id": "83qvSWOy77nl"
      },
      "source": [
        "From children to adults to the elderly, the importance of a balanced diet can't be emphasized enough for any age group for a healthy lifestyle. A proper, well-balanced meal plan helps to attain ideal body weight and reduce the risk of chronic diseases like diabetes, cardiovascular and other types of cancer.\n",
        "\n",
        "**The Health Company**, which provides various diet plans for weight loss, conducted a market test experiment to test three different kinds of diets (A, B, C). Each of the volunteers was given one of the three diet plans and asked to follow the diet for 6 weeks."
      ]
    },
    {
      "cell_type": "markdown",
      "metadata": {
        "id": "6WGGQGqa78CB"
      },
      "source": [
        "### **Objective**"
      ]
    },
    {
      "cell_type": "markdown",
      "metadata": {
        "id": "Bvdoju1r78eZ"
      },
      "source": [
        "In order to understand the effectiveness of each of the different diets for weight loss, the executives of the company reached out to you, a data scientist at the company. The weights before starting the diet and the weight 6 weeks after following the diet were recorded for 78 volunteers who were provided with either of the three diet plans. You have been asked to perform a statistical analysis to find evidence of whether the mean weight losses with respect to the three diet plans are significantly different. Consider a 5% significance level for the analysis."
      ]
    },
    {
      "cell_type": "markdown",
      "metadata": {
        "id": "1CP5C0-Z8Ii6"
      },
      "source": [
        "### **Data Dictionary**"
      ]
    },
    {
      "cell_type": "markdown",
      "metadata": {
        "id": "brcQpXtUrl9x"
      },
      "source": [
        "\n",
        "\n",
        "\n",
        "\n",
        "\n",
        "\n",
        "\n",
        "\n",
        "The *diet.csv* file contains the following information:\n",
        "\n",
        "1. diet: Type of the diet\n",
        "2. preweight: Weight (in kg) before following the diet plan\n",
        "3. weight6weeks: Weight (in kg) after 6 weeks of following the diet plan"
      ]
    },
    {
      "cell_type": "markdown",
      "metadata": {
        "id": "9tRIjr4im6uI"
      },
      "source": [
        "## **Let us start by importing the required libraries**"
      ]
    },
    {
      "cell_type": "code",
      "execution_count": null,
      "metadata": {},
      "outputs": [],
      "source": [
        "import sys\n",
        "import subprocess\n",
        "\n",
        "if 'google.colab' in sys.modules:\n",
        "    pass  # Do not install anything in Colab\n",
        "else:\n",
        "    # Install packages from requirements.txt if not in Colab\n",
        "    subprocess.check_call([sys.executable, '-m', 'pip', 'install', '-r', 'requirements.txt'])"
      ]
    },
    {
      "cell_type": "markdown",
      "metadata": {},
      "source": [
        "### Package Installation\n",
        "This cell checks whether we are running in Google Colab or a local environment. If we're in a local environment, it installs the required packages from `requirements.txt`. This ensures all necessary dependencies are available for our analysis."
      ]
    },
    {
      "cell_type": "markdown",
      "metadata": {
        "id": "Opd_TKlOzL11"
      },
      "source": [
        "**Note**: *After running the above cell, kindly restart the notebook kernel and run all cells sequentially from the start again.*"
      ]
    },
    {
      "cell_type": "markdown",
      "metadata": {
        "id": "15c27a03"
      },
      "source": [
        "## **Import the necessary libraries**\n",
        "\n"
      ]
    },
    {
      "cell_type": "code",
      "execution_count": 2,
      "metadata": {
        "id": "e52eb36f"
      },
      "outputs": [],
      "source": [
        "# Libraries to help with reading and manipulating data\n",
        "import numpy as np\n",
        "import pandas as pd\n",
        "\n",
        "# Libraries to help with data visualization\n",
        "import matplotlib.pyplot as plt\n",
        "import seaborn as sns\n",
        "%matplotlib inline\n",
        "\n",
        "# Library to help with statistical analysis\n",
        "import scipy.stats as stats"
      ]
    },
    {
      "cell_type": "markdown",
      "metadata": {},
      "source": [
        "### Library Imports\n",
        "In this cell, we import all the necessary Python libraries for our analysis:\n",
        "- `numpy` and `pandas`: For data manipulation and analysis\n",
        "- `matplotlib.pyplot` and `seaborn`: For data visualization\n",
        "- `scipy.stats`: For statistical analysis\n",
        "\n",
        "The `%matplotlib inline` magic command ensures that our plots are displayed directly in the notebook."
      ]
    },
    {
      "cell_type": "markdown",
      "metadata": {
        "id": "74aae585"
      },
      "source": [
        "## **Loading the dataset**"
      ]
    },
    {
      "cell_type": "code",
      "execution_count": null,
      "metadata": {
        "id": "8NFWeGdGxlur"
      },
      "outputs": [],
      "source": [
        "# uncomment the below code cell to mount your google drive\n",
        "#  from google.colab import drive\n",
        "#  drive.mount('/content/drive')"
      ]
    },
    {
      "cell_type": "markdown",
      "metadata": {},
      "source": [
        "### Loading the Dataset\n",
        "The following cells handle loading our diet study data:\n",
        "1. First, we have an optional cell for mounting Google Drive (commented out as we're working locally)\n",
        "2. Then we load the data from 'diet.csv' using pandas\n",
        "3. Finally, we create a copy of the data to preserve the original dataset while we work"
      ]
    },
    {
      "cell_type": "code",
      "execution_count": 3,
      "metadata": {
        "id": "eauwqu5zphup"
      },
      "outputs": [],
      "source": [
        "data = pd.read_csv('diet.csv')"
      ]
    },
    {
      "cell_type": "code",
      "execution_count": 4,
      "metadata": {
        "id": "xjhw9O3bp1Jo"
      },
      "outputs": [],
      "source": [
        "# copying data to another variable to avoid any changes to original data\n",
        "df = data.copy()"
      ]
    },
    {
      "cell_type": "markdown",
      "metadata": {
        "id": "zQxhWYkHp6PQ"
      },
      "source": [
        "## **Data Overview**"
      ]
    },
    {
      "cell_type": "markdown",
      "metadata": {
        "id": "KaxlQSqzqAfP"
      },
      "source": [
        "The initial steps to get an overview of any dataset is to:\n",
        "- observe the first few rows of the dataset, to check whether the dataset has been loaded properly or not\n",
        "- get information about the number of rows and columns in the dataset\n",
        "- find out the data types of the columns to ensure that data is stored in the preferred format and the value of each property is as expected.\n",
        "- check the statistical summary of the dataset to get an overview of the numerical columns of the data"
      ]
    },
    {
      "cell_type": "markdown",
      "metadata": {
        "id": "c25e66c1"
      },
      "source": [
        "#### **Displaying the first few rows of the dataset**"
      ]
    },
    {
      "cell_type": "code",
      "execution_count": 5,
      "metadata": {
        "colab": {
          "base_uri": "https://localhost:8080/"
        },
        "id": "c5fa6936",
        "outputId": "3c183ca3-cffe-4001-a404-03d20c65be7a"
      },
      "outputs": [
        {
          "data": {
            "text/html": [
              "<div>\n",
              "<style scoped>\n",
              "    .dataframe tbody tr th:only-of-type {\n",
              "        vertical-align: middle;\n",
              "    }\n",
              "\n",
              "    .dataframe tbody tr th {\n",
              "        vertical-align: top;\n",
              "    }\n",
              "\n",
              "    .dataframe thead th {\n",
              "        text-align: right;\n",
              "    }\n",
              "</style>\n",
              "<table border=\"1\" class=\"dataframe\">\n",
              "  <thead>\n",
              "    <tr style=\"text-align: right;\">\n",
              "      <th></th>\n",
              "      <th>diet</th>\n",
              "      <th>preweight</th>\n",
              "      <th>weight6weeks</th>\n",
              "    </tr>\n",
              "  </thead>\n",
              "  <tbody>\n",
              "    <tr>\n",
              "      <th>0</th>\n",
              "      <td>B</td>\n",
              "      <td>60</td>\n",
              "      <td>60.0</td>\n",
              "    </tr>\n",
              "    <tr>\n",
              "      <th>1</th>\n",
              "      <td>B</td>\n",
              "      <td>103</td>\n",
              "      <td>103.0</td>\n",
              "    </tr>\n",
              "    <tr>\n",
              "      <th>2</th>\n",
              "      <td>A</td>\n",
              "      <td>58</td>\n",
              "      <td>54.2</td>\n",
              "    </tr>\n",
              "    <tr>\n",
              "      <th>3</th>\n",
              "      <td>A</td>\n",
              "      <td>60</td>\n",
              "      <td>54.0</td>\n",
              "    </tr>\n",
              "    <tr>\n",
              "      <th>4</th>\n",
              "      <td>A</td>\n",
              "      <td>64</td>\n",
              "      <td>63.3</td>\n",
              "    </tr>\n",
              "  </tbody>\n",
              "</table>\n",
              "</div>"
            ],
            "text/plain": [
              "  diet  preweight  weight6weeks\n",
              "0    B         60          60.0\n",
              "1    B        103         103.0\n",
              "2    A         58          54.2\n",
              "3    A         60          54.0\n",
              "4    A         64          63.3"
            ]
          },
          "execution_count": 5,
          "metadata": {},
          "output_type": "execute_result"
        }
      ],
      "source": [
        "# looking at head (5 observations)\n",
        "df.head()"
      ]
    },
    {
      "cell_type": "markdown",
      "metadata": {},
      "source": [
        "### Data Exploration - First Few Rows\n",
        "This cell displays the first 5 rows of our dataset using the `head()` function. This gives us a quick overview of:\n",
        "- The structure of our data\n",
        "- The column names and their content\n",
        "- The format of the values in each column"
      ]
    },
    {
      "cell_type": "markdown",
      "metadata": {
        "id": "af898527"
      },
      "source": [
        "* The dataset contains the diet type, pre-weight and weight after 6 weeks for one person in each row."
      ]
    },
    {
      "cell_type": "markdown",
      "metadata": {
        "id": "4f91affe"
      },
      "source": [
        "#### **Checking the shape of the dataset**"
      ]
    },
    {
      "cell_type": "code",
      "execution_count": 6,
      "metadata": {
        "colab": {
          "base_uri": "https://localhost:8080/"
        },
        "id": "87534031",
        "outputId": "11bccd65-e8a0-4b74-e52d-6d813fc467d1"
      },
      "outputs": [
        {
          "data": {
            "text/plain": [
              "(78, 3)"
            ]
          },
          "execution_count": 6,
          "metadata": {},
          "output_type": "execute_result"
        }
      ],
      "source": [
        "df.shape"
      ]
    },
    {
      "cell_type": "markdown",
      "metadata": {},
      "source": [
        "### Dataset Dimensions\n",
        "This cell shows us the dimensions (shape) of our dataset using `df.shape`, which returns a tuple of (number of rows, number of columns). This helps us understand:\n",
        "- How many participants we have in our study\n",
        "- How many variables we are tracking for each participant"
      ]
    },
    {
      "cell_type": "markdown",
      "metadata": {
        "id": "Yb3iDWBOrl94"
      },
      "source": [
        "* The dataset contains 78 rows and 3 columns"
      ]
    },
    {
      "cell_type": "markdown",
      "metadata": {
        "id": "9e803198"
      },
      "source": [
        "#### **Checking the data types of the columns for the dataset**"
      ]
    },
    {
      "cell_type": "code",
      "execution_count": 7,
      "metadata": {
        "colab": {
          "base_uri": "https://localhost:8080/"
        },
        "id": "da718cad",
        "outputId": "eb7cc424-2770-43db-ee27-80cb6ddec61d"
      },
      "outputs": [
        {
          "name": "stdout",
          "output_type": "stream",
          "text": [
            "<class 'pandas.core.frame.DataFrame'>\n",
            "RangeIndex: 78 entries, 0 to 77\n",
            "Data columns (total 3 columns):\n",
            " #   Column        Non-Null Count  Dtype  \n",
            "---  ------        --------------  -----  \n",
            " 0   diet          78 non-null     object \n",
            " 1   preweight     78 non-null     int64  \n",
            " 2   weight6weeks  78 non-null     float64\n",
            "dtypes: float64(1), int64(1), object(1)\n",
            "memory usage: 2.0+ KB\n"
          ]
        }
      ],
      "source": [
        "df.info()"
      ]
    },
    {
      "cell_type": "markdown",
      "metadata": {},
      "source": [
        "### Data Types and Missing Values\n",
        "Using `df.info()`, we examine:\n",
        "- The data types of each column (object for categorical, float/int for numerical)\n",
        "- The number of non-null values in each column to check for missing data\n",
        "- Memory usage of the dataframe"
      ]
    },
    {
      "cell_type": "markdown",
      "metadata": {
        "id": "ub5eAck0rl95"
      },
      "source": [
        "* The `diet` column is categorical. While, `preweight` and `weight6weeks` are numerical.\n",
        "* There are no missing values in the dataset"
      ]
    },
    {
      "cell_type": "markdown",
      "metadata": {
        "id": "1eee9694"
      },
      "source": [
        "#### **Statistical summary of the dataset**"
      ]
    },
    {
      "cell_type": "code",
      "execution_count": 8,
      "metadata": {
        "colab": {
          "base_uri": "https://localhost:8080/"
        },
        "id": "848897d9",
        "outputId": "9a08afd8-0d72-4ded-f3a7-60e104f5cd10"
      },
      "outputs": [
        {
          "data": {
            "text/html": [
              "<div>\n",
              "<style scoped>\n",
              "    .dataframe tbody tr th:only-of-type {\n",
              "        vertical-align: middle;\n",
              "    }\n",
              "\n",
              "    .dataframe tbody tr th {\n",
              "        vertical-align: top;\n",
              "    }\n",
              "\n",
              "    .dataframe thead th {\n",
              "        text-align: right;\n",
              "    }\n",
              "</style>\n",
              "<table border=\"1\" class=\"dataframe\">\n",
              "  <thead>\n",
              "    <tr style=\"text-align: right;\">\n",
              "      <th></th>\n",
              "      <th>preweight</th>\n",
              "      <th>weight6weeks</th>\n",
              "    </tr>\n",
              "  </thead>\n",
              "  <tbody>\n",
              "    <tr>\n",
              "      <th>count</th>\n",
              "      <td>78.000000</td>\n",
              "      <td>78.000000</td>\n",
              "    </tr>\n",
              "    <tr>\n",
              "      <th>mean</th>\n",
              "      <td>72.525641</td>\n",
              "      <td>68.680769</td>\n",
              "    </tr>\n",
              "    <tr>\n",
              "      <th>std</th>\n",
              "      <td>8.723344</td>\n",
              "      <td>8.924504</td>\n",
              "    </tr>\n",
              "    <tr>\n",
              "      <th>min</th>\n",
              "      <td>58.000000</td>\n",
              "      <td>53.000000</td>\n",
              "    </tr>\n",
              "    <tr>\n",
              "      <th>25%</th>\n",
              "      <td>66.000000</td>\n",
              "      <td>61.850000</td>\n",
              "    </tr>\n",
              "    <tr>\n",
              "      <th>50%</th>\n",
              "      <td>72.000000</td>\n",
              "      <td>68.950000</td>\n",
              "    </tr>\n",
              "    <tr>\n",
              "      <th>75%</th>\n",
              "      <td>78.000000</td>\n",
              "      <td>73.825000</td>\n",
              "    </tr>\n",
              "    <tr>\n",
              "      <th>max</th>\n",
              "      <td>103.000000</td>\n",
              "      <td>103.000000</td>\n",
              "    </tr>\n",
              "  </tbody>\n",
              "</table>\n",
              "</div>"
            ],
            "text/plain": [
              "        preweight  weight6weeks\n",
              "count   78.000000     78.000000\n",
              "mean    72.525641     68.680769\n",
              "std      8.723344      8.924504\n",
              "min     58.000000     53.000000\n",
              "25%     66.000000     61.850000\n",
              "50%     72.000000     68.950000\n",
              "75%     78.000000     73.825000\n",
              "max    103.000000    103.000000"
            ]
          },
          "execution_count": 8,
          "metadata": {},
          "output_type": "execute_result"
        }
      ],
      "source": [
        "df.describe()"
      ]
    },
    {
      "cell_type": "markdown",
      "metadata": {},
      "source": [
        "### Statistical Summary\n",
        "Using `df.describe()`, we get key statistical measures for our numerical columns:\n",
        "- Central tendency (mean, median)\n",
        "- Spread (standard deviation, quartiles)\n",
        "- Range (minimum, maximum)\n",
        "This helps us understand the distribution of weights before and after the diet plans."
      ]
    },
    {
      "cell_type": "markdown",
      "metadata": {
        "id": "xb5i3fGmrl96"
      },
      "source": [
        "* The average weight before any diet plan is 72.53 kg, while the average weight after 6 weeks of a diet plan is 68.68 kg. Overall, taking a diet has reduced the average weight.\n",
        "* The variation in the weights is very similar before and after taking a diet."
      ]
    },
    {
      "cell_type": "markdown",
      "metadata": {
        "id": "r2oAHvFywcfF"
      },
      "source": [
        "#### **Value counts of different types of diet**"
      ]
    },
    {
      "cell_type": "code",
      "execution_count": 9,
      "metadata": {
        "ExecuteTime": {
          "end_time": "2020-05-06T07:29:25.010688Z",
          "start_time": "2020-05-06T07:29:24.973174Z"
        },
        "colab": {
          "base_uri": "https://localhost:8080/"
        },
        "id": "QrYFUdbCrl96",
        "outputId": "48ccb84c-c011-4809-94cb-5f0d52ad646e"
      },
      "outputs": [
        {
          "data": {
            "text/plain": [
              "diet\n",
              "B    27\n",
              "C    27\n",
              "A    24\n",
              "Name: count, dtype: int64"
            ]
          },
          "execution_count": 9,
          "metadata": {},
          "output_type": "execute_result"
        }
      ],
      "source": [
        "df.diet.value_counts()"
      ]
    },
    {
      "cell_type": "markdown",
      "metadata": {},
      "source": [
        "### Distribution of Diet Plans\n",
        "Using `value_counts()`, we examine the distribution of participants across different diet plans:\n",
        "- How many participants were assigned to each diet type\n",
        "- Whether we have a balanced distribution among diet plans\n",
        "This information is crucial for ensuring our statistical analysis is valid."
      ]
    },
    {
      "cell_type": "markdown",
      "metadata": {
        "id": "LCOq7Ki7rl96"
      },
      "source": [
        "* As mentioned in the problem statement, there are three types of diet plans: A, B, and C\n",
        "* In the sample of 78 people, 27 each took diet plans B and C, while 24 took diet plan A"
      ]
    },
    {
      "cell_type": "markdown",
      "metadata": {
        "id": "ueDvxAmArl97"
      },
      "source": [
        "## **Creating a new column 'weightloss'**"
      ]
    },
    {
      "cell_type": "markdown",
      "metadata": {
        "id": "nLzc8EZ90sQt"
      },
      "source": [
        "To assess the loss in weight after taking a diet plan, we shall create a new column `weightloss` by subtracting the weight before taking the diet from the weight after taking the diet."
      ]
    },
    {
      "cell_type": "code",
      "execution_count": 10,
      "metadata": {
        "colab": {
          "base_uri": "https://localhost:8080/"
        },
        "id": "eHdy1m-Zrl97",
        "outputId": "3db2f858-6b67-4ce3-8eb2-68a96a9e1db9"
      },
      "outputs": [
        {
          "data": {
            "text/html": [
              "<div>\n",
              "<style scoped>\n",
              "    .dataframe tbody tr th:only-of-type {\n",
              "        vertical-align: middle;\n",
              "    }\n",
              "\n",
              "    .dataframe tbody tr th {\n",
              "        vertical-align: top;\n",
              "    }\n",
              "\n",
              "    .dataframe thead th {\n",
              "        text-align: right;\n",
              "    }\n",
              "</style>\n",
              "<table border=\"1\" class=\"dataframe\">\n",
              "  <thead>\n",
              "    <tr style=\"text-align: right;\">\n",
              "      <th></th>\n",
              "      <th>diet</th>\n",
              "      <th>preweight</th>\n",
              "      <th>weight6weeks</th>\n",
              "      <th>weightloss</th>\n",
              "    </tr>\n",
              "  </thead>\n",
              "  <tbody>\n",
              "    <tr>\n",
              "      <th>0</th>\n",
              "      <td>B</td>\n",
              "      <td>60</td>\n",
              "      <td>60.0</td>\n",
              "      <td>0.0</td>\n",
              "    </tr>\n",
              "    <tr>\n",
              "      <th>1</th>\n",
              "      <td>B</td>\n",
              "      <td>103</td>\n",
              "      <td>103.0</td>\n",
              "      <td>0.0</td>\n",
              "    </tr>\n",
              "    <tr>\n",
              "      <th>2</th>\n",
              "      <td>A</td>\n",
              "      <td>58</td>\n",
              "      <td>54.2</td>\n",
              "      <td>-3.8</td>\n",
              "    </tr>\n",
              "    <tr>\n",
              "      <th>3</th>\n",
              "      <td>A</td>\n",
              "      <td>60</td>\n",
              "      <td>54.0</td>\n",
              "      <td>-6.0</td>\n",
              "    </tr>\n",
              "    <tr>\n",
              "      <th>4</th>\n",
              "      <td>A</td>\n",
              "      <td>64</td>\n",
              "      <td>63.3</td>\n",
              "      <td>-0.7</td>\n",
              "    </tr>\n",
              "  </tbody>\n",
              "</table>\n",
              "</div>"
            ],
            "text/plain": [
              "  diet  preweight  weight6weeks  weightloss\n",
              "0    B         60          60.0         0.0\n",
              "1    B        103         103.0         0.0\n",
              "2    A         58          54.2        -3.8\n",
              "3    A         60          54.0        -6.0\n",
              "4    A         64          63.3        -0.7"
            ]
          },
          "execution_count": 10,
          "metadata": {},
          "output_type": "execute_result"
        }
      ],
      "source": [
        "# calculate the weight-loss\n",
        "df['weightloss'] = df['weight6weeks'] - df['preweight']\n",
        "df.head()"
      ]
    },
    {
      "cell_type": "markdown",
      "metadata": {},
      "source": [
        "### Calculate Weight Loss\n",
        "We create a new column 'weightloss' by:\n",
        "1. Subtracting the initial weight ('preweight') from the weight after 6 weeks ('weight6weeks')\n",
        "2. A negative value indicates successful weight loss\n",
        "3. This derived variable will be our key metric for comparing diet effectiveness"
      ]
    },
    {
      "cell_type": "markdown",
      "metadata": {
        "id": "3VeSBZ0d1V8f"
      },
      "source": [
        "* A negative value of `weightloss` indicates that the diet was effective in decreasing the weight of the person after 6 weeks"
      ]
    },
    {
      "cell_type": "markdown",
      "metadata": {
        "id": "EHAML7JV1oN9"
      },
      "source": [
        "### **Visualize data**"
      ]
    },
    {
      "cell_type": "code",
      "execution_count": 11,
      "metadata": {
        "colab": {
          "base_uri": "https://localhost:8080/"
        },
        "id": "E6_FHrRdrl97",
        "outputId": "850e8027-a149-42d8-963c-05ff21686b62"
      },
      "outputs": [
        {
          "data": {
            "image/png": "[encoded data removed]",
            "text/plain": [
              "<Figure size 640x480 with 1 Axes>"
            ]
          },
          "metadata": {},
          "output_type": "display_data"
        }
      ],
      "source": [
        "# visual analysis of the weightloss for the three diet-plans\n",
        "sns.boxplot(x=\"diet\", y=\"weightloss\", data = df)\n",
        "plt.show()"
      ]
    },
    {
      "cell_type": "markdown",
      "metadata": {},
      "source": [
        "### Visualize Weight Loss Distribution\n",
        "Using a boxplot to compare weight loss across diet plans:\n",
        "- The box shows the interquartile range (IQR) containing 50% of the data\n",
        "- The line inside the box represents the median\n",
        "- The whiskers show the spread of the data\n",
        "- Individual points represent potential outliers\n",
        "This visualization helps us identify patterns and differences between diet plans."
      ]
    },
    {
      "cell_type": "markdown",
      "metadata": {
        "id": "YXCNIWtyrl98"
      },
      "source": [
        "* The distribution of weight loss seem to differ among the three groups.\n",
        "* Diet plan C seems to impact the highest weight loss.\n",
        "* The median weight loss seems to be very close for the plans A and B, but the variation is higher in the weight-losses by diet-plan B as compared to A.\n",
        "* Is the osberved difference in weight loss among the three groups significant enough to conclude the same about the three diet plans? To determine this, we will test the difference using a statistical test."
      ]
    },
    {
      "cell_type": "markdown",
      "metadata": {
        "id": "p-63BK922TZR"
      },
      "source": [
        "## **Hypothesis Testing**"
      ]
    },
    {
      "cell_type": "markdown",
      "metadata": {
        "id": "8l6egG90rl98"
      },
      "source": [
        "### **Step 1: Define null and alternative hypotheses**"
      ]
    },
    {
      "cell_type": "markdown",
      "metadata": {
        "id": "GWuzdCmArl98"
      },
      "source": [
        "The null and alternative hypotheses can be formulated as:\n",
        "\n",
        "> $H_0$ : The mean weight losses with respect to each diet category is equal. <br>\n",
        "> $H_a$ : At least one of the mean weight losses with respect to the three diet category is different."
      ]
    },
    {
      "cell_type": "markdown",
      "metadata": {
        "id": "2ej13Tp8rl98"
      },
      "source": [
        "### **Step 2: Select Appropriate test**"
      ]
    },
    {
      "cell_type": "markdown",
      "metadata": {
        "id": "csIIeSGirl98"
      },
      "source": [
        "This is a problem, concerning three population means. One-way ANOVA is an appropriate test here provided normality and equality of variance assumptions are verified.\n",
        "\n",
        "**One-way ANOVA test**\n",
        "\n",
        "In a one-way ANOVA test, we compare the means from several populations to test if there is any significance difference between them. The results from an ANOVA test are most reliable when the assumptions of normality and equality of variances are satisfied.\n",
        "\n",
        "* For testing of normality, Shapiro-Wilk’s test is applied to the response variable.\n",
        "\n",
        "* For equality of variance, Levene test is applied to the response variable."
      ]
    },
    {
      "cell_type": "markdown",
      "metadata": {
        "id": "UnG4Lod3rl99"
      },
      "source": [
        "**Shapiro-Wilk’s test**\n",
        "\n",
        "We will test the null hypothesis\n",
        "\n",
        ">$H_0:$ The weight losses follow a normal distribution\n",
        "\n",
        "against the alternative hypothesis\n",
        "\n",
        ">$H_a:$ The weight losses do not not follow a normal distribution"
      ]
    },
    {
      "cell_type": "code",
      "execution_count": 12,
      "metadata": {
        "colab": {
          "base_uri": "https://localhost:8080/"
        },
        "id": "1Tf_n6RFrl99",
        "outputId": "7db2d684-1a5a-4a89-a681-66b6314240a7"
      },
      "outputs": [
        {
          "name": "stdout",
          "output_type": "stream",
          "text": [
            "The p-value is 0.8019883459467786\n"
          ]
        }
      ],
      "source": [
        "# Assumption 1: Normality\n",
        "# Use the shapiro function for the scipy.stats library for this test\n",
        "\n",
        "# find the p-value\n",
        "w, p_value = stats.shapiro(df['weightloss'])\n",
        "print('The p-value is', p_value)"
      ]
    },
    {
      "cell_type": "markdown",
      "metadata": {},
      "source": [
        "### Shapiro-Wilk Normality Test\n",
        "Testing if our weight loss data follows a normal distribution:\n",
        "- Uses Shapiro-Wilk test for normality\n",
        "- Null hypothesis: Data follows a normal distribution\n",
        "- If p-value > 0.05, we fail to reject the null hypothesis\n",
        "This test is crucial because normality is an assumption for ANOVA."
      ]
    },
    {
      "cell_type": "markdown",
      "metadata": {
        "id": "vag3cHsnrl99"
      },
      "source": [
        "Since p-value of the test is very large than the 5% significance level, we fail to reject the null hypothesis that the response follows the normal distribution."
      ]
    },
    {
      "cell_type": "markdown",
      "metadata": {
        "id": "W9wXJzX6rl99"
      },
      "source": [
        "**Levene’s test**\n",
        "\n",
        "We will test the null hypothesis\n",
        "\n",
        ">$H_0$: All the population variances are equal\n",
        "\n",
        "against the alternative hypothesis\n",
        "\n",
        ">$H_a$: At least one variance is different from the rest"
      ]
    },
    {
      "cell_type": "code",
      "execution_count": 13,
      "metadata": {
        "colab": {
          "base_uri": "https://localhost:8080/"
        },
        "id": "FNK04dGHrl99",
        "outputId": "695ecc3a-a8a2-43b2-c40a-bd39741b58df"
      },
      "outputs": [
        {
          "name": "stdout",
          "output_type": "stream",
          "text": [
            "The p-value is 0.5376731304274011\n"
          ]
        }
      ],
      "source": [
        "#Assumption 2: Homogeneity of Variance\n",
        "# use levene function from scipy.stats library for this test\n",
        "\n",
        "# find the p-value\n",
        "statistic, p_value = stats.levene(df[df['diet']=='A']['weightloss'],\n",
        "                            df[df['diet']=='B']['weightloss'],\n",
        "                            df[df['diet']=='C']['weightloss'])\n",
        "print('The p-value is', p_value)"
      ]
    },
    {
      "cell_type": "markdown",
      "metadata": {},
      "source": [
        "### Levene's Test for Homogeneity of Variance\n",
        "Testing if our groups have equal variances:\n",
        "- Uses Levene's test for homogeneity of variance\n",
        "- Null hypothesis: All groups have equal variances\n",
        "- If p-value > 0.05, we fail to reject the null hypothesis\n",
        "This is another crucial assumption for ANOVA testing."
      ]
    },
    {
      "cell_type": "markdown",
      "metadata": {
        "id": "D5y3Wcbfrl99"
      },
      "source": [
        "Since the p-value is large than the 5% significance level, we fail to reject the null hypothesis of homogeneity of variances."
      ]
    },
    {
      "cell_type": "markdown",
      "metadata": {
        "id": "yvuApOr1rl9-"
      },
      "source": [
        "### **Step 3: Decide the significance level**"
      ]
    },
    {
      "cell_type": "markdown",
      "metadata": {
        "id": "2A2Gfma5rl9-"
      },
      "source": [
        "As given in the problem statement, we select $\\alpha = 0.05$"
      ]
    },
    {
      "cell_type": "markdown",
      "metadata": {
        "id": "bb3tjjI9rl9-"
      },
      "source": [
        "### **Step 4: Collect and prepare data**"
      ]
    },
    {
      "cell_type": "code",
      "execution_count": 14,
      "metadata": {
        "id": "AnaVWddYrl9-"
      },
      "outputs": [],
      "source": [
        "# create separate variables to store the weightlosses with respect to the three diet-plans\n",
        "weightloss_diet_A = df[df['diet']=='A']['weightloss']\n",
        "weightloss_diet_B = df[df['diet']=='B']['weightloss']\n",
        "weightloss_diet_C = df[df['diet']=='C']['weightloss']"
      ]
    },
    {
      "cell_type": "markdown",
      "metadata": {},
      "source": [
        "### Prepare Data for ANOVA\n",
        "We separate the weight loss data by diet type:\n",
        "- Create three separate variables for each diet plan\n",
        "- This format is required for the one-way ANOVA test\n",
        "- Each variable contains the weight loss values for that specific diet plan"
      ]
    },
    {
      "cell_type": "markdown",
      "metadata": {
        "id": "0j9FQc1Vrl9-"
      },
      "source": [
        "### **Step 5: Calculate the p-value**"
      ]
    },
    {
      "cell_type": "markdown",
      "metadata": {
        "id": "A2o3S2sb4YSG"
      },
      "source": [
        "- We will use the `f_oneway()` function from the `scipy.stats` library to perform a one-way ANOVA test.\n",
        "- The `f_oneway()` function takes the sample observations from the different groups and returns the test statistic and the p-value for the test.\n",
        "    - The sample observations are the values of weight losses with respect to the three diet-plans."
      ]
    },
    {
      "cell_type": "code",
      "execution_count": 15,
      "metadata": {
        "ExecuteTime": {
          "end_time": "2020-05-06T07:31:40.967079Z",
          "start_time": "2020-05-06T07:31:40.922403Z"
        },
        "colab": {
          "base_uri": "https://localhost:8080/"
        },
        "id": "PAwO0g0frl9-",
        "outputId": "2c89bab8-68bc-4bcc-da67-7a7bce0561c7"
      },
      "outputs": [
        {
          "name": "stdout",
          "output_type": "stream",
          "text": [
            "The p-value is  0.0032290142385893524\n"
          ]
        }
      ],
      "source": [
        "# import the required function\n",
        "from scipy.stats import f_oneway\n",
        "\n",
        "# find the p-value\n",
        "test_stat, p_value = f_oneway(weightloss_diet_A, weightloss_diet_B, weightloss_diet_C)\n",
        "print('The p-value is ', p_value)"
      ]
    },
    {
      "cell_type": "markdown",
      "metadata": {},
      "source": [
        "### One-way ANOVA Test\n",
        "Performing the one-way ANOVA to test for differences between diet plans:\n",
        "- Uses `scipy.stats.f_oneway` function\n",
        "- Tests if the means of all groups are equal\n",
        "- Returns F-statistic and p-value\n",
        "- If p-value < 0.05, we reject the null hypothesis that all means are equal"
      ]
    },
    {
      "cell_type": "markdown",
      "metadata": {
        "id": "v2BOfCZyrl9-"
      },
      "source": [
        "### **Step 6: Compare the p-value with $\\alpha$**"
      ]
    },
    {
      "cell_type": "code",
      "execution_count": 16,
      "metadata": {
        "colab": {
          "base_uri": "https://localhost:8080/"
        },
        "id": "77K1phgXrl9-",
        "outputId": "8050cc1a-2b76-48cb-ac1d-03b70f5cfffb"
      },
      "outputs": [
        {
          "name": "stdout",
          "output_type": "stream",
          "text": [
            "As the p-value 0.0032290142385893524 is less than the level of significance, we reject the null hypothesis.\n"
          ]
        }
      ],
      "source": [
        "# print the conclusion based on p-value\n",
        "if p_value < 0.05:\n",
        "    print(f'As the p-value {p_value} is less than the level of significance, we reject the null hypothesis.')\n",
        "else:\n",
        "    print(f'As the p-value {p_value} is greater than the level of significance, we fail to reject the null hypothesis.')"
      ]
    },
    {
      "cell_type": "markdown",
      "metadata": {},
      "source": [
        "### Test Decision\n",
        "This cell makes the final decision based on the ANOVA test:\n",
        "- Compares p-value with significance level (0.05)\n",
        "- If p-value < 0.05: Reject null hypothesis (means are different)\n",
        "- If p-value ≥ 0.05: Fail to reject null hypothesis (means are equal)\n",
        "This helps us conclude whether the diet plans have significantly different effects."
      ]
    },
    {
      "cell_type": "markdown",
      "metadata": {
        "id": "-KvFxrA_rl9_"
      },
      "source": [
        "### **Step 7:  Draw inference**"
      ]
    },
    {
      "cell_type": "markdown",
      "metadata": {
        "id": "AuaaUbZErl9_"
      },
      "source": [
        "Since the p-value is less than the level of significance (5%), we reject the null hypothesis. Hence, we have enough statistical evidence to say that at least one of the mean weight losses with respect to the three diet-plans is different."
      ]
    },
    {
      "cell_type": "markdown",
      "metadata": {
        "id": "Z5Kk71mGnsRt"
      },
      "source": [
        "## **Conclusions**"
      ]
    },
    {
      "cell_type": "markdown",
      "metadata": {
        "id": "aJVlSGsKnydA"
      },
      "source": [
        "* From the sample data, it was observed that taking a diet has reduced the average weight\n",
        "\n",
        "\n",
        "* The variation in the weights is very similar before and after taking a diet\n",
        "\n",
        "\n",
        "* From the sample data, it was observed that the diet-plan C has resulted in higher weight loss as compared to the other two plans\n",
        "\n",
        "\n",
        "* There was enough statistical evidence to say that the effect on weight loss is different for at least one of the diet plans\n",
        "\n",
        "\n",
        "* Further statistical analysis can be done to determine if the impact of diet-plan C is significantly greater than the other two plans\n"
      ]
    },
    {
      "cell_type": "markdown",
      "metadata": {
        "id": "NxWyc0kq5i0K"
      },
      "source": [
        "---"
      ]
    },
    {
      "cell_type": "markdown",
      "metadata": {},
      "source": []
    },
    {
      "cell_type": "markdown",
      "metadata": {},
      "source": []
    },
    {
      "cell_type": "markdown",
      "metadata": {},
      "source": []
    },
    {
      "cell_type": "markdown",
      "metadata": {},
      "source": []
    },
    {
      "cell_type": "markdown",
      "metadata": {},
      "source": []
    },
    {
      "cell_type": "markdown",
      "metadata": {},
      "source": []
    }
  ],
  "metadata": {
    "colab": {
      "collapsed_sections": [
        "15c27a03",
        "74aae585",
        "zQxhWYkHp6PQ",
        "c25e66c1",
        "4f91affe",
        "9e803198",
        "1eee9694",
        "r2oAHvFywcfF",
        "ueDvxAmArl97",
        "EHAML7JV1oN9",
        "p-63BK922TZR",
        "8l6egG90rl98",
        "2ej13Tp8rl98",
        "yvuApOr1rl9-",
        "bb3tjjI9rl9-",
        "0j9FQc1Vrl9-",
        "Z5Kk71mGnsRt"
      ],
      "provenance": []
    },
    "kernelspec": {
      "display_name": ".venv",
      "language": "python",
      "name": "python3"
    },
    "language_info": {
      "codemirror_mode": {
        "name": "ipython",
        "version": 3
      },
      "file_extension": ".py",
      "mimetype": "text/x-python",
      "name": "python",
      "nbconvert_exporter": "python",
      "pygments_lexer": "ipython3",
      "version": "3.13.1"
    },
    "toc": {
      "base_numbering": 1,
      "nav_menu": {},
      "number_sections": true,
      "sideBar": true,
      "skip_h1_title": false,
      "title_cell": "Table of Contents",
      "title_sidebar": "Contents",
      "toc_cell": false,
      "toc_position": {},
      "toc_section_display": true,
      "toc_window_display": false
    },
    "varInspector": {
      "cols": {
        "lenName": 16,
        "lenType": 16,
        "lenVar": 40
      },
      "kernels_config": {
        "python": {
          "delete_cmd_postfix": "",
          "delete_cmd_prefix": "del ",
          "library": "var_list.py",
          "varRefreshCmd": "print(var_dic_list())"
        },
        "r": {
          "delete_cmd_postfix": ") ",
          "delete_cmd_prefix": "rm(",
          "library": "var_list.r",
          "varRefreshCmd": "cat(var_dic_list()) "
        }
      },
      "types_to_exclude": [
        "module",
        "function",
        "builtin_function_or_method",
        "instance",
        "_Feature"
      ],
      "window_display": false
    }
  },
  "nbformat": 4,
  "nbformat_minor": 0
}
