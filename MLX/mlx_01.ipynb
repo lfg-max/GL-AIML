{
 "cells": [
  {
   "cell_type": "code",
   "execution_count": 1,
   "metadata": {},
   "outputs": [
    {
     "name": "stdout",
     "output_type": "stream",
     "text": [
      "Requirement already satisfied: mlx-lm in /Users/nra29/VScode/.venv/lib/python3.12/site-packages (0.20.5)\n",
      "Requirement already satisfied: mlx>=0.19.2 in /Users/nra29/VScode/.venv/lib/python3.12/site-packages (from mlx-lm) (0.21.1)\n",
      "Requirement already satisfied: numpy in /Users/nra29/VScode/.venv/lib/python3.12/site-packages (from mlx-lm) (1.26.4)\n",
      "Requirement already satisfied: transformers>=4.39.3 in /Users/nra29/VScode/.venv/lib/python3.12/site-packages (from transformers[sentencepiece]>=4.39.3->mlx-lm) (4.47.1)\n",
      "Requirement already satisfied: protobuf in /Users/nra29/VScode/.venv/lib/python3.12/site-packages (from mlx-lm) (5.29.0)\n",
      "Requirement already satisfied: pyyaml in /Users/nra29/VScode/.venv/lib/python3.12/site-packages (from mlx-lm) (6.0.2)\n",
      "Requirement already satisfied: jinja2 in /Users/nra29/VScode/.venv/lib/python3.12/site-packages (from mlx-lm) (3.1.4)\n",
      "Requirement already satisfied: filelock in /Users/nra29/VScode/.venv/lib/python3.12/site-packages (from transformers>=4.39.3->transformers[sentencepiece]>=4.39.3->mlx-lm) (3.16.1)\n",
      "Requirement already satisfied: huggingface-hub<1.0,>=0.24.0 in /Users/nra29/VScode/.venv/lib/python3.12/site-packages (from transformers>=4.39.3->transformers[sentencepiece]>=4.39.3->mlx-lm) (0.27.0)\n",
      "Requirement already satisfied: packaging>=20.0 in /Users/nra29/VScode/.venv/lib/python3.12/site-packages (from transformers>=4.39.3->transformers[sentencepiece]>=4.39.3->mlx-lm) (23.2)\n",
      "Requirement already satisfied: regex!=2019.12.17 in /Users/nra29/VScode/.venv/lib/python3.12/site-packages (from transformers>=4.39.3->transformers[sentencepiece]>=4.39.3->mlx-lm) (2024.11.6)\n",
      "Requirement already satisfied: requests in /Users/nra29/VScode/.venv/lib/python3.12/site-packages (from transformers>=4.39.3->transformers[sentencepiece]>=4.39.3->mlx-lm) (2.32.3)\n",
      "Requirement already satisfied: tokenizers<0.22,>=0.21 in /Users/nra29/VScode/.venv/lib/python3.12/site-packages (from transformers>=4.39.3->transformers[sentencepiece]>=4.39.3->mlx-lm) (0.21.0)\n",
      "Requirement already satisfied: safetensors>=0.4.1 in /Users/nra29/VScode/.venv/lib/python3.12/site-packages (from transformers>=4.39.3->transformers[sentencepiece]>=4.39.3->mlx-lm) (0.4.5)\n",
      "Requirement already satisfied: tqdm>=4.27 in /Users/nra29/VScode/.venv/lib/python3.12/site-packages (from transformers>=4.39.3->transformers[sentencepiece]>=4.39.3->mlx-lm) (4.67.1)\n",
      "Requirement already satisfied: sentencepiece!=0.1.92,>=0.1.91 in /Users/nra29/VScode/.venv/lib/python3.12/site-packages (from transformers[sentencepiece]>=4.39.3->mlx-lm) (0.2.0)\n",
      "Requirement already satisfied: MarkupSafe>=2.0 in /Users/nra29/VScode/.venv/lib/python3.12/site-packages (from jinja2->mlx-lm) (3.0.2)\n",
      "Requirement already satisfied: fsspec>=2023.5.0 in /Users/nra29/VScode/.venv/lib/python3.12/site-packages (from huggingface-hub<1.0,>=0.24.0->transformers>=4.39.3->transformers[sentencepiece]>=4.39.3->mlx-lm) (2024.10.0)\n",
      "Requirement already satisfied: typing-extensions>=3.7.4.3 in /Users/nra29/VScode/.venv/lib/python3.12/site-packages (from huggingface-hub<1.0,>=0.24.0->transformers>=4.39.3->transformers[sentencepiece]>=4.39.3->mlx-lm) (4.12.2)\n",
      "Requirement already satisfied: charset-normalizer<4,>=2 in /Users/nra29/VScode/.venv/lib/python3.12/site-packages (from requests->transformers>=4.39.3->transformers[sentencepiece]>=4.39.3->mlx-lm) (3.4.0)\n",
      "Requirement already satisfied: idna<4,>=2.5 in /Users/nra29/VScode/.venv/lib/python3.12/site-packages (from requests->transformers>=4.39.3->transformers[sentencepiece]>=4.39.3->mlx-lm) (3.10)\n",
      "Requirement already satisfied: urllib3<3,>=1.21.1 in /Users/nra29/VScode/.venv/lib/python3.12/site-packages (from requests->transformers>=4.39.3->transformers[sentencepiece]>=4.39.3->mlx-lm) (2.2.3)\n",
      "Requirement already satisfied: certifi>=2017.4.17 in /Users/nra29/VScode/.venv/lib/python3.12/site-packages (from requests->transformers>=4.39.3->transformers[sentencepiece]>=4.39.3->mlx-lm) (2024.8.30)\n",
      "Note: you may need to restart the kernel to use updated packages.\n"
     ]
    }
   ],
   "source": [
    "pip install mlx-lm\n"
   ]
  },
  {
   "cell_type": "code",
   "execution_count": null,
   "metadata": {},
   "outputs": [
    {
     "name": "stderr",
     "output_type": "stream",
     "text": [
      "/Users/nra29/VScode/.venv/lib/python3.12/site-packages/tqdm/auto.py:21: TqdmWarning: IProgress not found. Please update jupyter and ipywidgets. See https://ipywidgets.readthedocs.io/en/stable/user_install.html\n",
      "  from .autonotebook import tqdm as notebook_tqdm\n",
      "Fetching 75 files:   1%|▏         | 1/75 [07:48<9:37:50, 468.51s/it]\n"
     ]
    }
   ],
   "source": [
    "from mlx_lm import load, generate\n",
    "\n",
    "model, tokenizer = load(\"mlx-community/DeepSeek-V3-3bit-bf16\")\n",
    "\n",
    "prompt = \"hello\"\n",
    "\n",
    "if tokenizer.chat_template is not None:\n",
    "    messages = [{\"role\": \"user\", \"content\": prompt}]\n",
    "    prompt = tokenizer.apply_chat_template(\n",
    "        messages, add_generation_prompt=True\n",
    "    )\n",
    "\n",
    "response = generate(model, tokenizer, prompt=prompt, verbose=True)\n"
   ]
  }
 ],
 "metadata": {
  "kernelspec": {
   "display_name": ".venv",
   "language": "python",
   "name": "python3"
  },
  "language_info": {
   "codemirror_mode": {
    "name": "ipython",
    "version": 3
   },
   "file_extension": ".py",
   "mimetype": "text/x-python",
   "name": "python",
   "nbconvert_exporter": "python",
   "pygments_lexer": "ipython3",
   "version": "3.12.0"
  }
 },
 "nbformat": 4,
 "nbformat_minor": 2
}
