{
 "cells": [
  {
   "cell_type": "code",
   "execution_count": 32,
   "metadata": {},
   "outputs": [
    {
     "name": "stdout",
     "output_type": "stream",
     "text": [
      "{'wait_time': 36}\n",
      "36\n"
     ]
    }
   ],
   "source": [
    "def read_config():\n",
    "    config = {}\n",
    "    try:\n",
    "        with open('config.txt', 'r') as file:\n",
    "            for line in file:\n",
    "                name, value = line.strip().split('=')\n",
    "                config[name] = int(value)\n",
    "    except FileNotFoundError:\n",
    "        print(\"Config file not found. Using default values.\")\n",
    "    except ValueError:\n",
    "        print(\"Error parsing config file. Using default values.\")\n",
    "    return config\n",
    "\n",
    "\n",
    "config= read_config()\n",
    "print(config)\n",
    "wait_time = config.get('wait_time')  # Default to 10 if not found\n",
    "print(wait_time)\n"
   ]
  },
  {
   "cell_type": "code",
   "execution_count": 33,
   "metadata": {},
   "outputs": [
    {
     "name": "stdout",
     "output_type": "stream",
     "text": [
      "36\n"
     ]
    }
   ],
   "source": [
    "print(config.get('wait_time', 10))  # Default to 10 if not found"
   ]
  },
  {
   "cell_type": "code",
   "execution_count": 34,
   "metadata": {},
   "outputs": [
    {
     "data": {
      "text/plain": [
       "dict_keys(['wait_time'])"
      ]
     },
     "execution_count": 34,
     "metadata": {},
     "output_type": "execute_result"
    }
   ],
   "source": [
    "\n",
    "config.keys()"
   ]
  },
  {
   "cell_type": "code",
   "execution_count": null,
   "metadata": {},
   "outputs": [],
   "source": []
  },
  {
   "cell_type": "code",
   "execution_count": null,
   "metadata": {},
   "outputs": [],
   "source": []
  }
 ],
 "metadata": {
  "kernelspec": {
   "display_name": ".venv",
   "language": "python",
   "name": "python3"
  },
  "language_info": {
   "codemirror_mode": {
    "name": "ipython",
    "version": 3
   },
   "file_extension": ".py",
   "mimetype": "text/x-python",
   "name": "python",
   "nbconvert_exporter": "python",
   "pygments_lexer": "ipython3",
   "version": "3.12.0"
  }
 },
 "nbformat": 4,
 "nbformat_minor": 2
}
