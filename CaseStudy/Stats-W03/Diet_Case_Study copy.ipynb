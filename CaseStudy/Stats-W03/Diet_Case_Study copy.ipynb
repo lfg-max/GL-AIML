{
 "cells": [
  {
   "cell_type": "markdown",
   "metadata": {
    "id": "E0FG5VngrybU"
   },
   "source": [
    "<center><p float=\"center\">
",
    "  <img src=\"https://upload.wikimedia.org/wikipedia/commons/e/e9/4_RGB_McCombs_School_Brand_Branded.png\" width=\"300\" height=\"100\"/>
",
    "  <img src=\"https://mma.prnewswire.com/media/1458111/Great_Learning_Logo.jpg?p=facebook\" width=\"200\" height=\"100\"/>
",
    "</p></center>\n",
    "\n",
    "<center><font size=10>Applied Statistics</center></font>
",
    "<center><font size=5>Common Statistical Tests - Week 3</font></center>\n",
    "\n",
    "\n",
    "\n"
   ]
  },
  {
   "cell_type": "markdown",
   "metadata": {
    "id": "rwIqTziDr11_"
   },
   "source": [
    "<center><img src=\"https://cdn.pixabay.com/photo/2020/08/21/18/53/healthy-5506822__340.jpg\" width=\"1000\" height=\"600"></center>\n",
    "\n",
    "<b><center><font size=5>Diet Case Study</font></center></b>
   ]
  },
  {
   "cell_type": "markdown",
   "metadata": {
    "id": "mD04kKWLsulE"
   },
   "source": [
    "## **Problem Statement**"
   ]
  },
  {
   "cell_type": "markdown",
   "metadata": {
    "id": "IvgViS0Y77T0"
   },
   "source": [
    "### **Business Context**"
   ]
  },
  {
   "cell_type": "markdown",
   "metadata": {
    "id": "83qvSWOy77nl"
   },
   "source": [
    "From children to adults to the elderly, the importance of a balanced diet can't be emphasized enough for any age group for a healthy lifestyle. A proper, well-balanced meal plan helps to attain ideal body weight and reduce the risk of chronic diseases like diabetes, cardiovascular and other types of cancer.\n",
    "\n",
    "**The Health Company**, which provides various diet plans for weight loss, conducted a market test experiment to test three different kinds of diets (A, B, C). Each of the volunteers was given one of the three diet plans and asked to follow the diet for 6 weeks."
   ]
  },
  {
   "cell_type": "markdown",
   "metadata": {
    "id": "6WGGQGqa78CB"
   },
   "source": [
    "### **Objective**"
   ]
  },
  {
   "cell_type": "markdown",
   "metadata": {
    "id": "Bvdoju1r78eZ"
   },
   "source": [
    "In order to understand the effectiveness of each of the different diets for weight loss, the executives of the company reached out to you, a data scientist at the company. The weights before starting the diet and the weight 6 weeks after following the diet were recorded for 78 volunteers who were provided with either of the three diet plans. You have been asked to perform a statistical analysis to find evidence of whether the mean weight losses with respect to the three diet plans are significantly different. Consider a 5% significance level for the analysis."
   ]
  },
  {
   "cell_type": "markdown",
   "metadata": {
    "id": "1CP5C0-Z8Ii6"
   },
   "source": [
    