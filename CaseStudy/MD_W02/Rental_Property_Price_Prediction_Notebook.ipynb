{
  "cells": [
    {
      "cell_type": "markdown",
      "metadata": {
        "id": "F5QisEbqUNW-"
      },
      "source": [
        "<center><p float=\"center\">\n",
        "  <img src=\"https://upload.wikimedia.org/wikipedia/commons/e/e9/4_RGB_McCombs_School_Brand_Branded.png\" width=\"300\" height=\"100\"/>\n",
        "  <img src=\"https://mma.prnewswire.com/media/1458111/Great_Learning_Logo.jpg?p=facebook\" width=\"200\" height=\"100\"/>\n",
        "</p></center>\n",
        "\n",
        "<center><font size=10>Artificial Intelligence and Machine Learning</center></font>\n",
        "<center><font size=6>Model Deployment: Week 2 - Containerization</center>"
      ]
    },
    {
      "cell_type": "markdown",
      "metadata": {
        "id": "8HmfdfOnUYXq"
      },
      "source": [
        "<center><img src=\"https://www.vectorlogo.zone/logos/airbnb/airbnb-ar21.svg\" width=\"720\"></center>\n",
        "\n",
        "<center><b><font size='5'>Airbnb Rental Price Prediction</font></b></center>"
      ]
    },
    {
      "cell_type": "markdown",
      "metadata": {
        "id": "o5Iixw4vHWG9"
      },
      "source": [
        "# Problem Statement"
      ]
    },
    {
      "cell_type": "markdown",
      "metadata": {
        "id": "daBFxPKyAhrl"
      },
      "source": [
        "## Business Context"
      ]
    },
    {
      "cell_type": "markdown",
      "metadata": {
        "id": "ucRv3UZ6zed-"
      },
      "source": [
        "Airbnb has transformed the short-term rental industry by providing a platform that connects property owners with travelers seeking accommodation. From individual hosts offering single-room listings to large-scale property management firms, Airbnb serves a broad spectrum of customers with diverse needs. With an expanding number of listings globally, setting the right rental price has become increasingly complex. Hosts aim to optimize their pricing strategies to maximize occupancy while ensuring competitive pricing that attracts guests. Airbnb itself must ensure its pricing structure remains attractive, ensuring both hosts and travelers find value.\n",
        "\n",
        "To address these challenges, Airbnb has adopted a data-driven approach to create a dynamic pricing strategy. By leveraging historical rental data, Airbnb uses predictive models to assist hosts in setting optimal rental prices. This solution not only enhances business profitability but also improves customer satisfaction by ensuring fair and competitive pricing.\n",
        "\n",
        "The existing model for rental price prediction, while effective, is facing challenges with scaling and deployment. The demand for real-time predictions from Airbnb’s geographically dispersed hosts and internal teams is growing, leading to a need for a scalable and reliable solution."
      ]
    },
    {
      "cell_type": "markdown",
      "metadata": {
        "id": "o7nc6WZUvX3Z"
      },
      "source": [
        "## Objective"
      ]
    },
    {
      "cell_type": "markdown",
      "metadata": {
        "id": "GllLo7aI02Ep"
      },
      "source": [
        "As a Data Scientist at Airbnb, you are tasked with deploying the rental price prediction model into a containerized, decoupled web application for efficient, real-time use by Airbnb hosts and internal teams. The goal is to ensure that the model can be accessed reliably by geographically distributed teams and stakeholders, providing them with accurate rental price predictions in a user-friendly manner. The solution should:\n",
        "\n",
        "- **Enable Real-Time Predictions:** Allow Airbnb hosts to input property details and obtain rental price predictions instantly, improving data-driven pricing decisions.\n",
        "\n",
        "- **Ensure Scalable Deployment:** Address the challenges of scaling and distributing the model by deploying it in a containerized, microservice-based architecture.\n",
        "\n",
        "- **Provide Seamless User Interaction:** Host the model’s prediction API in a Flask backend and create a Streamlit frontend, decoupled from the backend, allowing for easy integration and a smooth user experience.\n",
        "\n",
        "- **Simplify Deployment Across Environments:** Leverage Docker to encapsulate the model, environment, and dependencies, ensuring consistent and reliable deployment in multiple Hugging Face Spaces, avoiding issues related to different system environments.\n",
        "\n",
        "Successful implementation will streamline Airbnb’s pricing strategy, reduce latency in providing price recommendations, and enhance the overall host and user experience across the platform."
      ]
    },
    {
      "cell_type": "markdown",
      "source": [
        "# Deployment Approach"
      ],
      "metadata": {
        "id": "f85iiAH66Yog"
      }
    },
    {
      "cell_type": "markdown",
      "source": [
        "The crux of our solution is to decouple the frontend and backend of the application for better accessibility and seamless integration with other services. This modular design enhances maintainability and scalability.\n",
        "\n",
        "**Backend Development (Flask):**\n",
        "\n",
        "1. We will develop a Flask application (app.py) responsible for:\n",
        "  - Loading the serialized XGBoost model we trained and saved as rental_price_prediction_model_v1_0.joblib.\n",
        "  - Exposing two API endpoints:\n",
        "    - `/v1/rental`: For predicting the rental price of a single property, accepting input features as JSON, mirroring the data format used during training and EDA.\n",
        "    - `/v1/rentalbatch`: For batch predictions on multiple properties, processing data uploaded as a CSV file, consistent with the dataset structure.\n",
        "2. This backend handles the core prediction logic, applying the same data preprocessing steps (imputation, scaling, and encoding) used during model training to ensure consistency and accuracy. It returns predictions as JSON responses, facilitating easy integration with the frontend.\n",
        "3. We'll deploy this Flask app, the serialized model, and the requirements.txt file to a Hugging Face Space using a Dockerfile. This makes the prediction service publicly accessible via a unique URL.\n",
        "\n",
        "\n",
        "**Frontend Development (Streamlit):**\n",
        "\n",
        "1. A separate Streamlit application (app.py) will serve as the user interface, tailored for Airbnb hosts and internal teams.\n",
        "\n",
        "2. This frontend will include:\n",
        "  - Form-based inputs for online predictions, allowing users to enter property details like room type, accommodates, bathrooms, etc., aligning with the features used in the model.\n",
        "  - A CSV file uploader for batch predictions, enabling users to analyze multiple properties simultaneously, similar to the dataset format used for training.\n",
        "3. The Streamlit app will use the `requests` library to communicate with the Flask API, sending input data and displaying predictions in a user-friendly format. This interaction facilitates a seamless user experience.\n",
        "4. Similar to the backend, we'll deploy the Streamlit app to a Hugging Face Space using a `Dockerfile` with its own `requirements.txt` for managing dependencies.\n",
        "\n",
        "Once deployed, Airbnb stakeholders can access the application through the frontend URL. They can input property details or upload a CSV file to obtain instant rental price predictions, enabling data-driven pricing strategies. This decoupled approach ensures flexibility and ease of access for Airbnb users."
      ],
      "metadata": {
        "id": "vr1DasSw6bv-"
      }
    },
    {
      "cell_type": "markdown",
      "metadata": {
        "id": "lqkUvTHzO3UH"
      },
      "source": [
        "# Load the Serialized Model"
      ]
    },
    {
      "cell_type": "markdown",
      "metadata": {
        "id": "HEBTmBHOIcVH"
      },
      "source": [
        "**Note:** To ensure continuity and leverage our previous work, we'll utilize the serialized XGBoost model trained and saved in the previous week."
      ]
    },
    {
      "cell_type": "code",
      "execution_count": null,
      "metadata": {
        "id": "SwIewqGpiRtW"
      },
      "outputs": [],
      "source": [
        "import os\n",
        "\n",
        "# Create a folder to upload your trained serialized model into it\n",
        "os.makedirs(\"backend_files\", exist_ok=True)"
      ]
    },
    {
      "cell_type": "markdown",
      "source": [
        "- We need to now upload the serialized model (`rental_price_prediction_model_v1_0.joblib`) into the `backend_files` folder.\n",
        "- Once uploaded, we will load this model into our application for generating rental price predictions.\n",
        "\n",
        "- This approach allows us to seamlessly integrate the pre-trained model into our deployment workflow, eliminating the need for retraining."
      ],
      "metadata": {
        "id": "0l7lK38qWmhO"
      }
    },
    {
      "cell_type": "code",
      "execution_count": null,
      "metadata": {
        "id": "E5-0ybugEl_5"
      },
      "outputs": [],
      "source": [
        "# Define the file path to load the uploaded serialized model\n",
        "model_path = \"backend_files/rental_price_prediction_model_v1_0.joblib\""
      ]
    },
    {
      "cell_type": "code",
      "execution_count": null,
      "metadata": {
        "colab": {
          "base_uri": "https://localhost:8080/"
        },
        "id": "uNR7Dxj2MTM9",
        "outputId": "4cc4d1ce-be9a-474b-aa3f-b22b6c7e43e4"
      },
      "outputs": [
        {
          "output_type": "stream",
          "name": "stdout",
          "text": [
            "Model loaded successfully.\n"
          ]
        }
      ],
      "source": [
        "import joblib\n",
        "\n",
        "# Load the saved model pipeline from the file\n",
        "saved_model = joblib.load(model_path)\n",
        "\n",
        "# Confirm the model is loaded\n",
        "print(\"Model loaded successfully.\")"
      ]
    },
    {
      "cell_type": "code",
      "execution_count": null,
      "metadata": {
        "colab": {
          "base_uri": "https://localhost:8080/",
          "height": 286
        },
        "id": "LoPE6PZUM7Uh",
        "outputId": "f3faca35-e5bc-416f-baa1-d62407492f13"
      },
      "outputs": [
        {
          "output_type": "execute_result",
          "data": {
            "text/plain": [
              "Pipeline(steps=[('columntransformer',\n",
              "                 ColumnTransformer(transformers=[('pipeline-1',\n",
              "                                                  Pipeline(steps=[('num_imputer',\n",
              "                                                                   SimpleImputer(strategy='median')),\n",
              "                                                                  ('scaler',\n",
              "                                                                   StandardScaler())]),\n",
              "                                                  ['accommodates', 'bathrooms',\n",
              "                                                   'review_scores_rating',\n",
              "                                                   'bedrooms', 'beds']),\n",
              "                                                 ('pipeline-2',\n",
              "                                                  Pipeline(steps=[('cat_imputer',\n",
              "                                                                   SimpleImputer(strategy='most_frequent')),\n",
              "                                                                  ('encoder',\n",
              "                                                                   OneH...\n",
              "                              device=None, early_stopping_rounds=None,\n",
              "                              enable_categorical=False, eval_metric=None,\n",
              "                              feature_types=None, gamma=None, grow_policy=None,\n",
              "                              importance_type=None,\n",
              "                              interaction_constraints=None, learning_rate=None,\n",
              "                              max_bin=None, max_cat_threshold=None,\n",
              "                              max_cat_to_onehot=None, max_delta_step=None,\n",
              "                              max_depth=None, max_leaves=None,\n",
              "                              min_child_weight=None, missing=nan,\n",
              "                              monotone_constraints=None, ...))])"
            ],
            "text/html": [
              "<style>#sk-container-id-1 {\n",
              "  /* Definition of color scheme common for light and dark mode */\n",
              "  --sklearn-color-text: #000;\n",
              "  --sklearn-color-text-muted: #666;\n",
              "  --sklearn-color-line: gray;\n",
              "  /* Definition of color scheme for unfitted estimators */\n",
              "  --sklearn-color-unfitted-level-0: #fff5e6;\n",
              "  --sklearn-color-unfitted-level-1: #f6e4d2;\n",
              "  --sklearn-color-unfitted-level-2: #ffe0b3;\n",
              "  --sklearn-color-unfitted-level-3: chocolate;\n",
              "  /* Definition of color scheme for fitted estimators */\n",
              "  --sklearn-color-fitted-level-0: #f0f8ff;\n",
              "  --sklearn-color-fitted-level-1: #d4ebff;\n",
              "  --sklearn-color-fitted-level-2: #b3dbfd;\n",
              "  --sklearn-color-fitted-level-3: cornflowerblue;\n",
              "\n",
              "  /* Specific color for light theme */\n",
              "  --sklearn-color-text-on-default-background: var(--sg-text-color, var(--theme-code-foreground, var(--jp-content-font-color1, black)));\n",
              "  --sklearn-color-background: var(--sg-background-color, var(--theme-background, var(--jp-layout-color0, white)));\n",
              "  --sklearn-color-border-box: var(--sg-text-color, var(--theme-code-foreground, var(--jp-content-font-color1, black)));\n",
              "  --sklearn-color-icon: #696969;\n",
              "\n",
              "  @media (prefers-color-scheme: dark) {\n",
              "    /* Redefinition of color scheme for dark theme */\n",
              "    --sklearn-color-text-on-default-background: var(--sg-text-color, var(--theme-code-foreground, var(--jp-content-font-color1, white)));\n",
              "    --sklearn-color-background: var(--sg-background-color, var(--theme-background, var(--jp-layout-color0, #111)));\n",
              "    --sklearn-color-border-box: var(--sg-text-color, var(--theme-code-foreground, var(--jp-content-font-color1, white)));\n",
              "    --sklearn-color-icon: #878787;\n",
              "  }\n",
              "}\n",
              "\n",
              "#sk-container-id-1 {\n",
              "  color: var(--sklearn-color-text);\n",
              "}\n",
              "\n",
              "#sk-container-id-1 pre {\n",
              "  padding: 0;\n",
              "}\n",
              "\n",
              "#sk-container-id-1 input.sk-hidden--visually {\n",
              "  border: 0;\n",
              "  clip: rect(1px 1px 1px 1px);\n",
              "  clip: rect(1px, 1px, 1px, 1px);\n",
              "  height: 1px;\n",
              "  margin: -1px;\n",
              "  overflow: hidden;\n",
              "  padding: 0;\n",
              "  position: absolute;\n",
              "  width: 1px;\n",
              "}\n",
              "\n",
              "#sk-container-id-1 div.sk-dashed-wrapped {\n",
              "  border: 1px dashed var(--sklearn-color-line);\n",
              "  margin: 0 0.4em 0.5em 0.4em;\n",
              "  box-sizing: border-box;\n",
              "  padding-bottom: 0.4em;\n",
              "  background-color: var(--sklearn-color-background);\n",
              "}\n",
              "\n",
              "#sk-container-id-1 div.sk-container {\n",
              "  /* jupyter's `normalize.less` sets `[hidden] { display: none; }`\n",
              "     but bootstrap.min.css set `[hidden] { display: none !important; }`\n",
              "     so we also need the `!important` here to be able to override the\n",
              "     default hidden behavior on the sphinx rendered scikit-learn.org.\n",
              "     See: https://github.com/scikit-learn/scikit-learn/issues/21755 */\n",
              "  display: inline-block !important;\n",
              "  position: relative;\n",
              "}\n",
              "\n",
              "#sk-container-id-1 div.sk-text-repr-fallback {\n",
              "  display: none;\n",
              "}\n",
              "\n",
              "div.sk-parallel-item,\n",
              "div.sk-serial,\n",
              "div.sk-item {\n",
              "  /* draw centered vertical line to link estimators */\n",
              "  background-image: linear-gradient(var(--sklearn-color-text-on-default-background), var(--sklearn-color-text-on-default-background));\n",
              "  background-size: 2px 100%;\n",
              "  background-repeat: no-repeat;\n",
              "  background-position: center center;\n",
              "}\n",
              "\n",
              "/* Parallel-specific style estimator block */\n",
              "\n",
              "#sk-container-id-1 div.sk-parallel-item::after {\n",
              "  content: \"\";\n",
              "  width: 100%;\n",
              "  border-bottom: 2px solid var(--sklearn-color-text-on-default-background);\n",
              "  flex-grow: 1;\n",
              "}\n",
              "\n",
              "#sk-container-id-1 div.sk-parallel {\n",
              "  display: flex;\n",
              "  align-items: stretch;\n",
              "  justify-content: center;\n",
              "  background-color: var(--sklearn-color-background);\n",
              "  position: relative;\n",
              "}\n",
              "\n",
              "#sk-container-id-1 div.sk-parallel-item {\n",
              "  display: flex;\n",
              "  flex-direction: column;\n",
              "}\n",
              "\n",
              "#sk-container-id-1 div.sk-parallel-item:first-child::after {\n",
              "  align-self: flex-end;\n",
              "  width: 50%;\n",
              "}\n",
              "\n",
              "#sk-container-id-1 div.sk-parallel-item:last-child::after {\n",
              "  align-self: flex-start;\n",
              "  width: 50%;\n",
              "}\n",
              "\n",
              "#sk-container-id-1 div.sk-parallel-item:only-child::after {\n",
              "  width: 0;\n",
              "}\n",
              "\n",
              "/* Serial-specific style estimator block */\n",
              "\n",
              "#sk-container-id-1 div.sk-serial {\n",
              "  display: flex;\n",
              "  flex-direction: column;\n",
              "  align-items: center;\n",
              "  background-color: var(--sklearn-color-background);\n",
              "  padding-right: 1em;\n",
              "  padding-left: 1em;\n",
              "}\n",
              "\n",
              "\n",
              "/* Toggleable style: style used for estimator/Pipeline/ColumnTransformer box that is\n",
              "clickable and can be expanded/collapsed.\n",
              "- Pipeline and ColumnTransformer use this feature and define the default style\n",
              "- Estimators will overwrite some part of the style using the `sk-estimator` class\n",
              "*/\n",
              "\n",
              "/* Pipeline and ColumnTransformer style (default) */\n",
              "\n",
              "#sk-container-id-1 div.sk-toggleable {\n",
              "  /* Default theme specific background. It is overwritten whether we have a\n",
              "  specific estimator or a Pipeline/ColumnTransformer */\n",
              "  background-color: var(--sklearn-color-background);\n",
              "}\n",
              "\n",
              "/* Toggleable label */\n",
              "#sk-container-id-1 label.sk-toggleable__label {\n",
              "  cursor: pointer;\n",
              "  display: flex;\n",
              "  width: 100%;\n",
              "  margin-bottom: 0;\n",
              "  padding: 0.5em;\n",
              "  box-sizing: border-box;\n",
              "  text-align: center;\n",
              "  align-items: start;\n",
              "  justify-content: space-between;\n",
              "  gap: 0.5em;\n",
              "}\n",
              "\n",
              "#sk-container-id-1 label.sk-toggleable__label .caption {\n",
              "  font-size: 0.6rem;\n",
              "  font-weight: lighter;\n",
              "  color: var(--sklearn-color-text-muted);\n",
              "}\n",
              "\n",
              "#sk-container-id-1 label.sk-toggleable__label-arrow:before {\n",
              "  /* Arrow on the left of the label */\n",
              "  content: \"▸\";\n",
              "  float: left;\n",
              "  margin-right: 0.25em;\n",
              "  color: var(--sklearn-color-icon);\n",
              "}\n",
              "\n",
              "#sk-container-id-1 label.sk-toggleable__label-arrow:hover:before {\n",
              "  color: var(--sklearn-color-text);\n",
              "}\n",
              "\n",
              "/* Toggleable content - dropdown */\n",
              "\n",
              "#sk-container-id-1 div.sk-toggleable__content {\n",
              "  max-height: 0;\n",
              "  max-width: 0;\n",
              "  overflow: hidden;\n",
              "  text-align: left;\n",
              "  /* unfitted */\n",
              "  background-color: var(--sklearn-color-unfitted-level-0);\n",
              "}\n",
              "\n",
              "#sk-container-id-1 div.sk-toggleable__content.fitted {\n",
              "  /* fitted */\n",
              "  background-color: var(--sklearn-color-fitted-level-0);\n",
              "}\n",
              "\n",
              "#sk-container-id-1 div.sk-toggleable__content pre {\n",
              "  margin: 0.2em;\n",
              "  border-radius: 0.25em;\n",
              "  color: var(--sklearn-color-text);\n",
              "  /* unfitted */\n",
              "  background-color: var(--sklearn-color-unfitted-level-0);\n",
              "}\n",
              "\n",
              "#sk-container-id-1 div.sk-toggleable__content.fitted pre {\n",
              "  /* unfitted */\n",
              "  background-color: var(--sklearn-color-fitted-level-0);\n",
              "}\n",
              "\n",
              "#sk-container-id-1 input.sk-toggleable__control:checked~div.sk-toggleable__content {\n",
              "  /* Expand drop-down */\n",
              "  max-height: 200px;\n",
              "  max-width: 100%;\n",
              "  overflow: auto;\n",
              "}\n",
              "\n",
              "#sk-container-id-1 input.sk-toggleable__control:checked~label.sk-toggleable__label-arrow:before {\n",
              "  content: \"▾\";\n",
              "}\n",
              "\n",
              "/* Pipeline/ColumnTransformer-specific style */\n",
              "\n",
              "#sk-container-id-1 div.sk-label input.sk-toggleable__control:checked~label.sk-toggleable__label {\n",
              "  color: var(--sklearn-color-text);\n",
              "  background-color: var(--sklearn-color-unfitted-level-2);\n",
              "}\n",
              "\n",
              "#sk-container-id-1 div.sk-label.fitted input.sk-toggleable__control:checked~label.sk-toggleable__label {\n",
              "  background-color: var(--sklearn-color-fitted-level-2);\n",
              "}\n",
              "\n",
              "/* Estimator-specific style */\n",
              "\n",
              "/* Colorize estimator box */\n",
              "#sk-container-id-1 div.sk-estimator input.sk-toggleable__control:checked~label.sk-toggleable__label {\n",
              "  /* unfitted */\n",
              "  background-color: var(--sklearn-color-unfitted-level-2);\n",
              "}\n",
              "\n",
              "#sk-container-id-1 div.sk-estimator.fitted input.sk-toggleable__control:checked~label.sk-toggleable__label {\n",
              "  /* fitted */\n",
              "  background-color: var(--sklearn-color-fitted-level-2);\n",
              "}\n",
              "\n",
              "#sk-container-id-1 div.sk-label label.sk-toggleable__label,\n",
              "#sk-container-id-1 div.sk-label label {\n",
              "  /* The background is the default theme color */\n",
              "  color: var(--sklearn-color-text-on-default-background);\n",
              "}\n",
              "\n",
              "/* On hover, darken the color of the background */\n",
              "#sk-container-id-1 div.sk-label:hover label.sk-toggleable__label {\n",
              "  color: var(--sklearn-color-text);\n",
              "  background-color: var(--sklearn-color-unfitted-level-2);\n",
              "}\n",
              "\n",
              "/* Label box, darken color on hover, fitted */\n",
              "#sk-container-id-1 div.sk-label.fitted:hover label.sk-toggleable__label.fitted {\n",
              "  color: var(--sklearn-color-text);\n",
              "  background-color: var(--sklearn-color-fitted-level-2);\n",
              "}\n",
              "\n",
              "/* Estimator label */\n",
              "\n",
              "#sk-container-id-1 div.sk-label label {\n",
              "  font-family: monospace;\n",
              "  font-weight: bold;\n",
              "  display: inline-block;\n",
              "  line-height: 1.2em;\n",
              "}\n",
              "\n",
              "#sk-container-id-1 div.sk-label-container {\n",
              "  text-align: center;\n",
              "}\n",
              "\n",
              "/* Estimator-specific */\n",
              "#sk-container-id-1 div.sk-estimator {\n",
              "  font-family: monospace;\n",
              "  border: 1px dotted var(--sklearn-color-border-box);\n",
              "  border-radius: 0.25em;\n",
              "  box-sizing: border-box;\n",
              "  margin-bottom: 0.5em;\n",
              "  /* unfitted */\n",
              "  background-color: var(--sklearn-color-unfitted-level-0);\n",
              "}\n",
              "\n",
              "#sk-container-id-1 div.sk-estimator.fitted {\n",
              "  /* fitted */\n",
              "  background-color: var(--sklearn-color-fitted-level-0);\n",
              "}\n",
              "\n",
              "/* on hover */\n",
              "#sk-container-id-1 div.sk-estimator:hover {\n",
              "  /* unfitted */\n",
              "  background-color: var(--sklearn-color-unfitted-level-2);\n",
              "}\n",
              "\n",
              "#sk-container-id-1 div.sk-estimator.fitted:hover {\n",
              "  /* fitted */\n",
              "  background-color: var(--sklearn-color-fitted-level-2);\n",
              "}\n",
              "\n",
              "/* Specification for estimator info (e.g. \"i\" and \"?\") */\n",
              "\n",
              "/* Common style for \"i\" and \"?\" */\n",
              "\n",
              ".sk-estimator-doc-link,\n",
              "a:link.sk-estimator-doc-link,\n",
              "a:visited.sk-estimator-doc-link {\n",
              "  float: right;\n",
              "  font-size: smaller;\n",
              "  line-height: 1em;\n",
              "  font-family: monospace;\n",
              "  background-color: var(--sklearn-color-background);\n",
              "  border-radius: 1em;\n",
              "  height: 1em;\n",
              "  width: 1em;\n",
              "  text-decoration: none !important;\n",
              "  margin-left: 0.5em;\n",
              "  text-align: center;\n",
              "  /* unfitted */\n",
              "  border: var(--sklearn-color-unfitted-level-1) 1pt solid;\n",
              "  color: var(--sklearn-color-unfitted-level-1);\n",
              "}\n",
              "\n",
              ".sk-estimator-doc-link.fitted,\n",
              "a:link.sk-estimator-doc-link.fitted,\n",
              "a:visited.sk-estimator-doc-link.fitted {\n",
              "  /* fitted */\n",
              "  border: var(--sklearn-color-fitted-level-1) 1pt solid;\n",
              "  color: var(--sklearn-color-fitted-level-1);\n",
              "}\n",
              "\n",
              "/* On hover */\n",
              "div.sk-estimator:hover .sk-estimator-doc-link:hover,\n",
              ".sk-estimator-doc-link:hover,\n",
              "div.sk-label-container:hover .sk-estimator-doc-link:hover,\n",
              ".sk-estimator-doc-link:hover {\n",
              "  /* unfitted */\n",
              "  background-color: var(--sklearn-color-unfitted-level-3);\n",
              "  color: var(--sklearn-color-background);\n",
              "  text-decoration: none;\n",
              "}\n",
              "\n",
              "div.sk-estimator.fitted:hover .sk-estimator-doc-link.fitted:hover,\n",
              ".sk-estimator-doc-link.fitted:hover,\n",
              "div.sk-label-container:hover .sk-estimator-doc-link.fitted:hover,\n",
              ".sk-estimator-doc-link.fitted:hover {\n",
              "  /* fitted */\n",
              "  background-color: var(--sklearn-color-fitted-level-3);\n",
              "  color: var(--sklearn-color-background);\n",
              "  text-decoration: none;\n",
              "}\n",
              "\n",
              "/* Span, style for the box shown on hovering the info icon */\n",
              ".sk-estimator-doc-link span {\n",
              "  display: none;\n",
              "  z-index: 9999;\n",
              "  position: relative;\n",
              "  font-weight: normal;\n",
              "  right: .2ex;\n",
              "  padding: .5ex;\n",
              "  margin: .5ex;\n",
              "  width: min-content;\n",
              "  min-width: 20ex;\n",
              "  max-width: 50ex;\n",
              "  color: var(--sklearn-color-text);\n",
              "  box-shadow: 2pt 2pt 4pt #999;\n",
              "  /* unfitted */\n",
              "  background: var(--sklearn-color-unfitted-level-0);\n",
              "  border: .5pt solid var(--sklearn-color-unfitted-level-3);\n",
              "}\n",
              "\n",
              ".sk-estimator-doc-link.fitted span {\n",
              "  /* fitted */\n",
              "  background: var(--sklearn-color-fitted-level-0);\n",
              "  border: var(--sklearn-color-fitted-level-3);\n",
              "}\n",
              "\n",
              ".sk-estimator-doc-link:hover span {\n",
              "  display: block;\n",
              "}\n",
              "\n",
              "/* \"?\"-specific style due to the `<a>` HTML tag */\n",
              "\n",
              "#sk-container-id-1 a.estimator_doc_link {\n",
              "  float: right;\n",
              "  font-size: 1rem;\n",
              "  line-height: 1em;\n",
              "  font-family: monospace;\n",
              "  background-color: var(--sklearn-color-background);\n",
              "  border-radius: 1rem;\n",
              "  height: 1rem;\n",
              "  width: 1rem;\n",
              "  text-decoration: none;\n",
              "  /* unfitted */\n",
              "  color: var(--sklearn-color-unfitted-level-1);\n",
              "  border: var(--sklearn-color-unfitted-level-1) 1pt solid;\n",
              "}\n",
              "\n",
              "#sk-container-id-1 a.estimator_doc_link.fitted {\n",
              "  /* fitted */\n",
              "  border: var(--sklearn-color-fitted-level-1) 1pt solid;\n",
              "  color: var(--sklearn-color-fitted-level-1);\n",
              "}\n",
              "\n",
              "/* On hover */\n",
              "#sk-container-id-1 a.estimator_doc_link:hover {\n",
              "  /* unfitted */\n",
              "  background-color: var(--sklearn-color-unfitted-level-3);\n",
              "  color: var(--sklearn-color-background);\n",
              "  text-decoration: none;\n",
              "}\n",
              "\n",
              "#sk-container-id-1 a.estimator_doc_link.fitted:hover {\n",
              "  /* fitted */\n",
              "  background-color: var(--sklearn-color-fitted-level-3);\n",
              "}\n",
              "</style><div id=\"sk-container-id-1\" class=\"sk-top-container\"><div class=\"sk-text-repr-fallback\"><pre>Pipeline(steps=[(&#x27;columntransformer&#x27;,\n",
              "                 ColumnTransformer(transformers=[(&#x27;pipeline-1&#x27;,\n",
              "                                                  Pipeline(steps=[(&#x27;num_imputer&#x27;,\n",
              "                                                                   SimpleImputer(strategy=&#x27;median&#x27;)),\n",
              "                                                                  (&#x27;scaler&#x27;,\n",
              "                                                                   StandardScaler())]),\n",
              "                                                  [&#x27;accommodates&#x27;, &#x27;bathrooms&#x27;,\n",
              "                                                   &#x27;review_scores_rating&#x27;,\n",
              "                                                   &#x27;bedrooms&#x27;, &#x27;beds&#x27;]),\n",
              "                                                 (&#x27;pipeline-2&#x27;,\n",
              "                                                  Pipeline(steps=[(&#x27;cat_imputer&#x27;,\n",
              "                                                                   SimpleImputer(strategy=&#x27;most_frequent&#x27;)),\n",
              "                                                                  (&#x27;encoder&#x27;,\n",
              "                                                                   OneH...\n",
              "                              device=None, early_stopping_rounds=None,\n",
              "                              enable_categorical=False, eval_metric=None,\n",
              "                              feature_types=None, gamma=None, grow_policy=None,\n",
              "                              importance_type=None,\n",
              "                              interaction_constraints=None, learning_rate=None,\n",
              "                              max_bin=None, max_cat_threshold=None,\n",
              "                              max_cat_to_onehot=None, max_delta_step=None,\n",
              "                              max_depth=None, max_leaves=None,\n",
              "                              min_child_weight=None, missing=nan,\n",
              "                              monotone_constraints=None, ...))])</pre><b>In a Jupyter environment, please rerun this cell to show the HTML representation or trust the notebook. <br />On GitHub, the HTML representation is unable to render, please try loading this page with nbviewer.org.</b></div><div class=\"sk-container\" hidden><div class=\"sk-item sk-dashed-wrapped\"><div class=\"sk-label-container\"><div class=\"sk-label fitted sk-toggleable\"><input class=\"sk-toggleable__control sk-hidden--visually\" id=\"sk-estimator-id-1\" type=\"checkbox\" ><label for=\"sk-estimator-id-1\" class=\"sk-toggleable__label fitted sk-toggleable__label-arrow\"><div><div>Pipeline</div></div><div><a class=\"sk-estimator-doc-link fitted\" rel=\"noreferrer\" target=\"_blank\" href=\"https://scikit-learn.org/1.6/modules/generated/sklearn.pipeline.Pipeline.html\">?<span>Documentation for Pipeline</span></a><span class=\"sk-estimator-doc-link fitted\">i<span>Fitted</span></span></div></label><div class=\"sk-toggleable__content fitted\"><pre>Pipeline(steps=[(&#x27;columntransformer&#x27;,\n",
              "                 ColumnTransformer(transformers=[(&#x27;pipeline-1&#x27;,\n",
              "                                                  Pipeline(steps=[(&#x27;num_imputer&#x27;,\n",
              "                                                                   SimpleImputer(strategy=&#x27;median&#x27;)),\n",
              "                                                                  (&#x27;scaler&#x27;,\n",
              "                                                                   StandardScaler())]),\n",
              "                                                  [&#x27;accommodates&#x27;, &#x27;bathrooms&#x27;,\n",
              "                                                   &#x27;review_scores_rating&#x27;,\n",
              "                                                   &#x27;bedrooms&#x27;, &#x27;beds&#x27;]),\n",
              "                                                 (&#x27;pipeline-2&#x27;,\n",
              "                                                  Pipeline(steps=[(&#x27;cat_imputer&#x27;,\n",
              "                                                                   SimpleImputer(strategy=&#x27;most_frequent&#x27;)),\n",
              "                                                                  (&#x27;encoder&#x27;,\n",
              "                                                                   OneH...\n",
              "                              device=None, early_stopping_rounds=None,\n",
              "                              enable_categorical=False, eval_metric=None,\n",
              "                              feature_types=None, gamma=None, grow_policy=None,\n",
              "                              importance_type=None,\n",
              "                              interaction_constraints=None, learning_rate=None,\n",
              "                              max_bin=None, max_cat_threshold=None,\n",
              "                              max_cat_to_onehot=None, max_delta_step=None,\n",
              "                              max_depth=None, max_leaves=None,\n",
              "                              min_child_weight=None, missing=nan,\n",
              "                              monotone_constraints=None, ...))])</pre></div> </div></div><div class=\"sk-serial\"><div class=\"sk-item sk-dashed-wrapped\"><div class=\"sk-label-container\"><div class=\"sk-label fitted sk-toggleable\"><input class=\"sk-toggleable__control sk-hidden--visually\" id=\"sk-estimator-id-2\" type=\"checkbox\" ><label for=\"sk-estimator-id-2\" class=\"sk-toggleable__label fitted sk-toggleable__label-arrow\"><div><div>columntransformer: ColumnTransformer</div></div><div><a class=\"sk-estimator-doc-link fitted\" rel=\"noreferrer\" target=\"_blank\" href=\"https://scikit-learn.org/1.6/modules/generated/sklearn.compose.ColumnTransformer.html\">?<span>Documentation for columntransformer: ColumnTransformer</span></a></div></label><div class=\"sk-toggleable__content fitted\"><pre>ColumnTransformer(transformers=[(&#x27;pipeline-1&#x27;,\n",
              "                                 Pipeline(steps=[(&#x27;num_imputer&#x27;,\n",
              "                                                  SimpleImputer(strategy=&#x27;median&#x27;)),\n",
              "                                                 (&#x27;scaler&#x27;, StandardScaler())]),\n",
              "                                 [&#x27;accommodates&#x27;, &#x27;bathrooms&#x27;,\n",
              "                                  &#x27;review_scores_rating&#x27;, &#x27;bedrooms&#x27;, &#x27;beds&#x27;]),\n",
              "                                (&#x27;pipeline-2&#x27;,\n",
              "                                 Pipeline(steps=[(&#x27;cat_imputer&#x27;,\n",
              "                                                  SimpleImputer(strategy=&#x27;most_frequent&#x27;)),\n",
              "                                                 (&#x27;encoder&#x27;,\n",
              "                                                  OneHotEncoder(handle_unknown=&#x27;ignore&#x27;))]),\n",
              "                                 [&#x27;room_type&#x27;, &#x27;cancellation_policy&#x27;,\n",
              "                                  &#x27;cleaning_fee&#x27;, &#x27;instant_bookable&#x27;])])</pre></div> </div></div><div class=\"sk-parallel\"><div class=\"sk-parallel-item\"><div class=\"sk-item\"><div class=\"sk-label-container\"><div class=\"sk-label fitted sk-toggleable\"><input class=\"sk-toggleable__control sk-hidden--visually\" id=\"sk-estimator-id-3\" type=\"checkbox\" ><label for=\"sk-estimator-id-3\" class=\"sk-toggleable__label fitted sk-toggleable__label-arrow\"><div><div>pipeline-1</div></div></label><div class=\"sk-toggleable__content fitted\"><pre>[&#x27;accommodates&#x27;, &#x27;bathrooms&#x27;, &#x27;review_scores_rating&#x27;, &#x27;bedrooms&#x27;, &#x27;beds&#x27;]</pre></div> </div></div><div class=\"sk-serial\"><div class=\"sk-item\"><div class=\"sk-serial\"><div class=\"sk-item\"><div class=\"sk-estimator fitted sk-toggleable\"><input class=\"sk-toggleable__control sk-hidden--visually\" id=\"sk-estimator-id-4\" type=\"checkbox\" ><label for=\"sk-estimator-id-4\" class=\"sk-toggleable__label fitted sk-toggleable__label-arrow\"><div><div>SimpleImputer</div></div><div><a class=\"sk-estimator-doc-link fitted\" rel=\"noreferrer\" target=\"_blank\" href=\"https://scikit-learn.org/1.6/modules/generated/sklearn.impute.SimpleImputer.html\">?<span>Documentation for SimpleImputer</span></a></div></label><div class=\"sk-toggleable__content fitted\"><pre>SimpleImputer(strategy=&#x27;median&#x27;)</pre></div> </div></div><div class=\"sk-item\"><div class=\"sk-estimator fitted sk-toggleable\"><input class=\"sk-toggleable__control sk-hidden--visually\" id=\"sk-estimator-id-5\" type=\"checkbox\" ><label for=\"sk-estimator-id-5\" class=\"sk-toggleable__label fitted sk-toggleable__label-arrow\"><div><div>StandardScaler</div></div><div><a class=\"sk-estimator-doc-link fitted\" rel=\"noreferrer\" target=\"_blank\" href=\"https://scikit-learn.org/1.6/modules/generated/sklearn.preprocessing.StandardScaler.html\">?<span>Documentation for StandardScaler</span></a></div></label><div class=\"sk-toggleable__content fitted\"><pre>StandardScaler()</pre></div> </div></div></div></div></div></div></div><div class=\"sk-parallel-item\"><div class=\"sk-item\"><div class=\"sk-label-container\"><div class=\"sk-label fitted sk-toggleable\"><input class=\"sk-toggleable__control sk-hidden--visually\" id=\"sk-estimator-id-6\" type=\"checkbox\" ><label for=\"sk-estimator-id-6\" class=\"sk-toggleable__label fitted sk-toggleable__label-arrow\"><div><div>pipeline-2</div></div></label><div class=\"sk-toggleable__content fitted\"><pre>[&#x27;room_type&#x27;, &#x27;cancellation_policy&#x27;, &#x27;cleaning_fee&#x27;, &#x27;instant_bookable&#x27;]</pre></div> </div></div><div class=\"sk-serial\"><div class=\"sk-item\"><div class=\"sk-serial\"><div class=\"sk-item\"><div class=\"sk-estimator fitted sk-toggleable\"><input class=\"sk-toggleable__control sk-hidden--visually\" id=\"sk-estimator-id-7\" type=\"checkbox\" ><label for=\"sk-estimator-id-7\" class=\"sk-toggleable__label fitted sk-toggleable__label-arrow\"><div><div>SimpleImputer</div></div><div><a class=\"sk-estimator-doc-link fitted\" rel=\"noreferrer\" target=\"_blank\" href=\"https://scikit-learn.org/1.6/modules/generated/sklearn.impute.SimpleImputer.html\">?<span>Documentation for SimpleImputer</span></a></div></label><div class=\"sk-toggleable__content fitted\"><pre>SimpleImputer(strategy=&#x27;most_frequent&#x27;)</pre></div> </div></div><div class=\"sk-item\"><div class=\"sk-estimator fitted sk-toggleable\"><input class=\"sk-toggleable__control sk-hidden--visually\" id=\"sk-estimator-id-8\" type=\"checkbox\" ><label for=\"sk-estimator-id-8\" class=\"sk-toggleable__label fitted sk-toggleable__label-arrow\"><div><div>OneHotEncoder</div></div><div><a class=\"sk-estimator-doc-link fitted\" rel=\"noreferrer\" target=\"_blank\" href=\"https://scikit-learn.org/1.6/modules/generated/sklearn.preprocessing.OneHotEncoder.html\">?<span>Documentation for OneHotEncoder</span></a></div></label><div class=\"sk-toggleable__content fitted\"><pre>OneHotEncoder(handle_unknown=&#x27;ignore&#x27;)</pre></div> </div></div></div></div></div></div></div></div></div><div class=\"sk-item\"><div class=\"sk-estimator fitted sk-toggleable\"><input class=\"sk-toggleable__control sk-hidden--visually\" id=\"sk-estimator-id-9\" type=\"checkbox\" ><label for=\"sk-estimator-id-9\" class=\"sk-toggleable__label fitted sk-toggleable__label-arrow\"><div><div>XGBRegressor</div></div></label><div class=\"sk-toggleable__content fitted\"><pre>XGBRegressor(_colsample_bylevel=0.4, _colsample_bytree=0.4, _learning_rate=0.01,\n",
              "             _max_depth=2, _reg_lambda=0.4, base_score=None, booster=None,\n",
              "             callbacks=None, colsample_bylevel=None, colsample_bynode=None,\n",
              "             colsample_bytree=None, device=None, early_stopping_rounds=None,\n",
              "             enable_categorical=False, eval_metric=None, feature_types=None,\n",
              "             gamma=None, grow_policy=None, importance_type=None,\n",
              "             interaction_constraints=None, learning_rate=None, max_bin=None,\n",
              "             max_cat_threshold=None, max_cat_to_onehot=None,\n",
              "             max_delta_step=None, max_depth=None, max_leaves=None,\n",
              "             min_child_weight=None, missing=nan, monotone_constraints=None, ...)</pre></div> </div></div></div></div></div></div>"
            ]
          },
          "metadata": {},
          "execution_count": 5
        }
      ],
      "source": [
        "saved_model"
      ]
    },
    {
      "cell_type": "markdown",
      "metadata": {
        "id": "UJMu1yQztach"
      },
      "source": [
        "Let's try making predictions on the batch dataset `(airbnb_rental_batch_data.csv)` using the deserialized model.\n",
        "- Please ensure that the saved model `(rental_price_prediction_model_v1_0.joblib)` is loaded before making predictions.\n",
        "- We will apply `np.exp` to the predictions to convert the log prices into actual prices."
      ]
    },
    {
      "cell_type": "code",
      "source": [
        "import pandas as pd\n",
        "import numpy as np\n",
        "\n",
        "# Load the data:\n",
        "airbnb_batch_data = pd.read_csv(\"airbnb_rental_batch_data.csv\")"
      ],
      "metadata": {
        "id": "nSRJsnv5iOcI"
      },
      "execution_count": null,
      "outputs": []
    },
    {
      "cell_type": "code",
      "source": [
        "# Make predictions (fet log_prices)\n",
        "predictions_log_prices = saved_model.predict(airbnb_batch_data)"
      ],
      "metadata": {
        "id": "JotifmMziTZd"
      },
      "execution_count": null,
      "outputs": []
    },
    {
      "cell_type": "code",
      "source": [
        "# Convert log prices to actual prices\n",
        "predictions_actual_prices = np.exp(predictions_log_prices)"
      ],
      "metadata": {
        "id": "kaMx1yIFi6Rh"
      },
      "execution_count": null,
      "outputs": []
    },
    {
      "cell_type": "code",
      "execution_count": null,
      "metadata": {
        "colab": {
          "base_uri": "https://localhost:8080/"
        },
        "id": "MzpxBjtSM9f-",
        "outputId": "5ab11459-1e04-4d2e-f19b-3378732acc60"
      },
      "outputs": [
        {
          "output_type": "stream",
          "name": "stdout",
          "text": [
            "[402.91107  588.39026  160.17053   52.501183 868.17816  118.19457\n",
            "  36.735027 911.51044  173.2732    49.24195  156.42319  213.47662\n",
            " 132.43124  206.422    158.66995 ]\n"
          ]
        }
      ],
      "source": [
        "# Display predictions:\n",
        "print(predictions_actual_prices)"
      ]
    },
    {
      "cell_type": "markdown",
      "metadata": {
        "id": "oxj1WOs1uxt_"
      },
      "source": [
        "- As we can see, the model can be directly used for making predictions without any retraining."
      ]
    },
    {
      "cell_type": "markdown",
      "source": [
        "# App Backend"
      ],
      "metadata": {
        "id": "QqdVZ2fkNylb"
      }
    },
    {
      "cell_type": "markdown",
      "source": [
        "## Setting up a Hugging Face Docker Space for the Backend"
      ],
      "metadata": {
        "id": "yK1n7jBcRrYr"
      }
    },
    {
      "cell_type": "markdown",
      "source": [
        "- We are creating a Hugging Face Docker Space for our backend using the Hugging Face Hub API.\n",
        "- This automates the space creation process and enables seamless deployment of our Flask app."
      ],
      "metadata": {
        "id": "xh47A77YaIEt"
      }
    },
    {
      "cell_type": "code",
      "source": [
        "# Import the login function from the huggingface_hub library\n",
        "from huggingface_hub import login\n",
        "\n",
        "# Login to your Hugging Face account using your access token\n",
        "# Replace \"YOUR_HUGGINGFACE_TOKEN\" with your actual token\n",
        "login(token=\"YOUR_HUGGINGFACE_TOKEN\")\n",
        "\n",
        "# Import the create_repo function from the huggingface_hub library\n",
        "from huggingface_hub import create_repo"
      ],
      "metadata": {
        "id": "VvfrEZl0Xe7C"
      },
      "execution_count": null,
      "outputs": []
    },
    {
      "cell_type": "code",
      "source": [
        "# Try to create the repository for the Hugging Face Space\n",
        "try:\n",
        "    create_repo(\"RentalPricePredictionBackend\",  # One can replace \"Backend_Docker_space\" with the desired space name\n",
        "        repo_type=\"space\",  # Specify the repository type as \"space\"\n",
        "        space_sdk=\"docker\",  # Specify the space SDK as \"docker\" to create a Docker space\n",
        "        private=False  # Set to True if you want the space to be private\n",
        "    )\n",
        "except Exception as e:\n",
        "    # Handle potential errors during repository creation\n",
        "    if \"RepositoryAlreadyExistsError\" in str(e):\n",
        "        print(\"Repository already exists. Skipping creation.\")\n",
        "    else:\n",
        "        print(f\"Error creating repository: {e}\")"
      ],
      "metadata": {
        "id": "MvE0kOmBSAsw",
        "colab": {
          "base_uri": "https://localhost:8080/"
        },
        "outputId": "3d1857e9-8802-4b4c-abc8-59065fa6d09f"
      },
      "execution_count": null,
      "outputs": [
        {
          "output_type": "stream",
          "name": "stdout",
          "text": [
            "Error creating repository: 409 Client Error: Conflict for url: https://huggingface.co/api/repos/create (Request ID: Root=1-681c547b-5e138f5411385b5029b9c86d;277dfb6c-8be9-4f6b-a664-d2a4dce94f40)\n",
            "\n",
            "You already created this space repo\n"
          ]
        }
      ]
    },
    {
      "cell_type": "markdown",
      "source": [
        "## Flask Web Framework\n"
      ],
      "metadata": {
        "id": "T3XlDPUtJnDo"
      }
    },
    {
      "cell_type": "code",
      "source": [
        "%%writefile backend_files/app.py\n",
        "# Import necessary libraries\n",
        "import numpy as np\n",
        "import joblib  # For loading the serialized model\n",
        "import pandas as pd  # For data manipulation\n",
        "from flask import Flask, request, jsonify  # For creating the Flask API\n",
        "\n",
        "# Initialize the Flask application\n",
        "rental_price_predictor_api = Flask(\"Airbnb Rental Price Predictor\")\n",
        "\n",
        "# Load the trained machine learning model\n",
        "model = joblib.load(\"rental_price_prediction_model_v1_0.joblib\")\n",
        "\n",
        "# Define a route for the home page (GET request)\n",
        "@rental_price_predictor_api.get('/')\n",
        "def home():\n",
        "    \"\"\"\n",
        "    This function handles GET requests to the root URL ('/') of the API.\n",
        "    It returns a simple welcome message.\n",
        "    \"\"\"\n",
        "    return \"Welcome to the Airbnb Rental Price Prediction API!\"\n",
        "\n",
        "# Define an endpoint for single property prediction (POST request)\n",
        "@rental_price_predictor_api.post('/v1/rental')\n",
        "def predict_rental_price():\n",
        "    \"\"\"\n",
        "    This function handles POST requests to the '/v1/rental' endpoint.\n",
        "    It expects a JSON payload containing property details and returns\n",
        "    the predicted rental price as a JSON response.\n",
        "    \"\"\"\n",
        "    # Get the JSON data from the request body\n",
        "    property_data = request.get_json()\n",
        "\n",
        "    # Extract relevant features from the JSON data\n",
        "    sample = {\n",
        "        'room_type': property_data['room_type'],\n",
        "        'accommodates': property_data['accommodates'],\n",
        "        'bathrooms': property_data['bathrooms'],\n",
        "        'cancellation_policy': property_data['cancellation_policy'],\n",
        "        'cleaning_fee': property_data['cleaning_fee'],\n",
        "        'instant_bookable': property_data['instant_bookable'],\n",
        "        'review_scores_rating': property_data['review_scores_rating'],\n",
        "        'bedrooms': property_data['bedrooms'],\n",
        "        'beds': property_data['beds']\n",
        "    }\n",
        "\n",
        "    # Convert the extracted data into a Pandas DataFrame\n",
        "    input_data = pd.DataFrame([sample])\n",
        "\n",
        "    # Make prediction (get log_price)\n",
        "    predicted_log_price = model.predict(input_data)[0]\n",
        "\n",
        "    # Calculate actual price\n",
        "    predicted_price = np.exp(predicted_log_price)\n",
        "\n",
        "    # Convert predicted_price to Python float\n",
        "    predicted_price = round(float(predicted_price), 2)\n",
        "    # The conversion above is needed as we convert the model prediction (log price) to actual price using np.exp, which returns predictions as NumPy float32 values.\n",
        "    # When we send this value directly within a JSON response, Flask's jsonify function encounters a datatype error\n",
        "\n",
        "    # Return the actual price\n",
        "    return jsonify({'Predicted Price (in dollars)': predicted_price})\n",
        "\n",
        "\n",
        "# Define an endpoint for batch prediction (POST request)\n",
        "@rental_price_predictor_api.post('/v1/rentalbatch')\n",
        "def predict_rental_price_batch():\n",
        "    \"\"\"\n",
        "    This function handles POST requests to the '/v1/rentalbatch' endpoint.\n",
        "    It expects a CSV file containing property details for multiple properties\n",
        "    and returns the predicted rental prices as a dictionary in the JSON response.\n",
        "    \"\"\"\n",
        "    # Get the uploaded CSV file from the request\n",
        "    file = request.files['file']\n",
        "\n",
        "    # Read the CSV file into a Pandas DataFrame\n",
        "    input_data = pd.read_csv(file)\n",
        "\n",
        "    # Make predictions for all properties in the DataFrame (get log_prices)\n",
        "    predicted_log_prices = model.predict(input_data).tolist()\n",
        "\n",
        "    # Calculate actual prices\n",
        "    predicted_prices = [round(float(np.exp(log_price)), 2) for log_price in predicted_log_prices]\n",
        "\n",
        "    # Create a dictionary of predictions with property IDs as keys\n",
        "    property_ids = input_data['id'].tolist()  # Assuming 'id' is the property ID column\n",
        "    output_dict = dict(zip(property_ids, predicted_prices))  # Use actual prices\n",
        "\n",
        "    # Return the predictions dictionary as a JSON response\n",
        "    return output_dict\n",
        "\n",
        "# Run the Flask application in debug mode if this script is executed directly\n",
        "if __name__ == '__main__':\n",
        "    rental_price_predictor_api.run(debug=True)"
      ],
      "metadata": {
        "colab": {
          "base_uri": "https://localhost:8080/"
        },
        "id": "wU_2ANXHtXDn",
        "outputId": "24bbf515-fa79-4a9d-f07b-811fda885f69"
      },
      "execution_count": null,
      "outputs": [
        {
          "output_type": "stream",
          "name": "stdout",
          "text": [
            "Writing backend_files/app.py\n"
          ]
        }
      ]
    },
    {
      "cell_type": "markdown",
      "source": [
        "## Dependencies File"
      ],
      "metadata": {
        "id": "STDSb04iT-rL"
      }
    },
    {
      "cell_type": "code",
      "source": [
        "%%writefile backend_files/requirements.txt\n",
        "pandas==2.2.2\n",
        "numpy==2.0.2\n",
        "scikit-learn==1.6.1\n",
        "xgboost==2.1.4\n",
        "joblib==1.4.2\n",
        "Werkzeug==2.2.2\n",
        "flask==2.2.2\n",
        "gunicorn==20.1.0\n",
        "requests==2.28.1\n",
        "uvicorn[standard]\n",
        "streamlit==1.43.2"
      ],
      "metadata": {
        "colab": {
          "base_uri": "https://localhost:8080/"
        },
        "id": "vKj1zTp-FJm4",
        "outputId": "b041af0b-191b-49ac-a92a-a54c5538b888"
      },
      "execution_count": null,
      "outputs": [
        {
          "output_type": "stream",
          "name": "stdout",
          "text": [
            "Writing backend_files/requirements.txt\n"
          ]
        }
      ]
    },
    {
      "cell_type": "markdown",
      "source": [
        "## Dockerfile"
      ],
      "metadata": {
        "id": "JWD7rPCRUEtD"
      }
    },
    {
      "cell_type": "code",
      "source": [
        "%%writefile backend_files/Dockerfile\n",
        "FROM python:3.9-slim\n",
        "\n",
        "# Set the working directory inside the container\n",
        "WORKDIR /app\n",
        "\n",
        "# Copy all files from the current directory to the container's working directory\n",
        "COPY . .\n",
        "\n",
        "# Install dependencies from the requirements file without using cache to reduce image size\n",
        "RUN pip install --no-cache-dir --upgrade -r requirements.txt\n",
        "\n",
        "# Define the command to start the application using Gunicorn with 4 worker processes\n",
        "# - `-w 4`: Uses 4 worker processes for handling requests\n",
        "# - `-b 0.0.0.0:7860`: Binds the server to port 7860 on all network interfaces\n",
        "# - `app:app`: Runs the Flask app (assuming `app.py` contains the Flask instance named `app`)\n",
        "CMD [\"gunicorn\", \"-w\", \"4\", \"-b\", \"0.0.0.0:7860\", \"app:rental_price_predictor_api\"]"
      ],
      "metadata": {
        "colab": {
          "base_uri": "https://localhost:8080/"
        },
        "id": "fujFE1-fFJkY",
        "outputId": "cdcd0866-17bd-4d85-98be-dfe9b06ae50b"
      },
      "execution_count": null,
      "outputs": [
        {
          "output_type": "stream",
          "name": "stdout",
          "text": [
            "Writing backend_files/Dockerfile\n"
          ]
        }
      ]
    },
    {
      "cell_type": "markdown",
      "source": [
        "## Uploading Files to Hugging Face Space for the Backend"
      ],
      "metadata": {
        "id": "B4tnVrlo8xQ9"
      }
    },
    {
      "cell_type": "code",
      "source": [
        "# for hugging face space authentication to upload files\n",
        "from huggingface_hub import HfApi\n",
        "\n",
        "repo_id = \"Thiresh/RentalPricePredictionBackend\"  # Your Hugging Face space id\n",
        "\n",
        "# Initialize the API\n",
        "api = HfApi()\n",
        "\n",
        "# Upload Streamlit app files stored in the folder called deployment_files\n",
        "api.upload_folder(\n",
        "    folder_path=\"/content/backend_files\",  # Local folder path\n",
        "    repo_id=repo_id,  # Hugging face space id\n",
        "    repo_type=\"space\",  # Hugging face repo type \"space\"\n",
        ")"
      ],
      "metadata": {
        "id": "JqcGeow684xg",
        "colab": {
          "base_uri": "https://localhost:8080/",
          "height": 141
        },
        "outputId": "6e69a7cd-493f-40a6-e827-ef3f0c1db2ab"
      },
      "execution_count": null,
      "outputs": [
        {
          "output_type": "execute_result",
          "data": {
            "text/plain": [
              "CommitInfo(commit_url='https://huggingface.co/spaces/Thiresh/RentalPricePredictionBackend/commit/71d67fd9dca6e026d8623a69dd25dcc878af3ac4', commit_message='Upload folder using huggingface_hub', commit_description='', oid='71d67fd9dca6e026d8623a69dd25dcc878af3ac4', pr_url=None, repo_url=RepoUrl('https://huggingface.co/spaces/Thiresh/RentalPricePredictionBackend', endpoint='https://huggingface.co', repo_type='space', repo_id='Thiresh/RentalPricePredictionBackend'), pr_revision=None, pr_num=None)"
            ],
            "application/vnd.google.colaboratory.intrinsic+json": {
              "type": "string"
            }
          },
          "metadata": {},
          "execution_count": 15
        }
      ]
    },
    {
      "cell_type": "markdown",
      "source": [
        "# App Frontend"
      ],
      "metadata": {
        "id": "rz1AJNb4N8uG"
      }
    },
    {
      "cell_type": "markdown",
      "source": [
        "## Setting up a Hugging Face Docker Streamlit Space for the Frontend"
      ],
      "metadata": {
        "id": "B-zE77eWcuGo"
      }
    },
    {
      "cell_type": "markdown",
      "source": [
        "## Points to note before executing the below cells\n",
        "- Create a Streamlit space on Hugging Face by following the instructions provided on the content page titled **`Creating Spaces and Adding Secrets in Hugging Face`** from Week 1"
      ],
      "metadata": {
        "id": "fbGAsQSdcuGp"
      }
    },
    {
      "cell_type": "markdown",
      "source": [
        "## Streamlit for Interactive UI"
      ],
      "metadata": {
        "id": "UsCYxkq_UL3Q"
      }
    },
    {
      "cell_type": "code",
      "source": [
        "# Create a folder for storing the files needed for frontend UI deployment\n",
        "os.makedirs(\"frontend_files\", exist_ok=True)"
      ],
      "metadata": {
        "id": "eOcW-xasOHZm"
      },
      "execution_count": null,
      "outputs": []
    },
    {
      "cell_type": "code",
      "source": [
        "%%writefile frontend_files/app.py\n",
        "import streamlit as st\n",
        "import pandas as pd\n",
        "import requests\n",
        "\n",
        "# Set the title of the Streamlit app\n",
        "st.title(\"Airbnb Rental Price Prediction\")\n",
        "\n",
        "# Section for online prediction\n",
        "st.subheader(\"Online Prediction\")\n",
        "\n",
        "# Collect user input for property features\n",
        "room_type = st.selectbox(\"Room Type\", [\"Entire home/apt\", \"Private room\", \"Shared room\"])\n",
        "accommodates = st.number_input(\"Accommodates (Number of guests)\", min_value=1, value=2)\n",
        "bathrooms = st.number_input(\"Bathrooms\", min_value=1, step=1, value=2)\n",
        "cancellation_policy = st.selectbox(\"Cancellation Policy (kind of cancellation policy)\", [\"strict\", \"flexible\", \"moderate\"])\n",
        "cleaning_fee = st.selectbox(\"Cleaning Fee Charged?\", [\"True\", \"False\"])\n",
        "instant_bookable = st.selectbox(\"Instantly Bookable?\", [\"False\", \"True\"])\n",
        "review_scores_rating = st.number_input(\"Review Score Rating\", min_value=0.0, max_value=100.0, step=1.0, value=90.0)\n",
        "bedrooms = st.number_input(\"Bedrooms\", min_value=0, step=1, value=1)\n",
        "beds = st.number_input(\"Beds\", min_value=0, step=1, value=1)\n",
        "\n",
        "# Convert user input into a DataFrame\n",
        "input_data = pd.DataFrame([{\n",
        "    'room_type': room_type,\n",
        "    'accommodates': accommodates,\n",
        "    'bathrooms': bathrooms,\n",
        "    'cancellation_policy': cancellation_policy,\n",
        "    'cleaning_fee': cleaning_fee,\n",
        "    'instant_bookable': 'f' if instant_bookable==\"False\" else \"t\",  # Convert to 't' or 'f'\n",
        "    'review_scores_rating': review_scores_rating,\n",
        "    'bedrooms': bedrooms,\n",
        "    'beds': beds\n",
        "}])\n",
        "\n",
        "# Make prediction when the \"Predict\" button is clicked\n",
        "if st.button(\"Predict\"):\n",
        "    response = requests.post(\"https://<username>-<repo_id>.hf.space/v1/rental\", json=input_data.to_dict(orient='records')[0])  # Send data to Flask API\n",
        "    if response.status_code == 200:\n",
        "        prediction = response.json()['Predicted Price (in dollars)']\n",
        "        st.success(f\"Predicted Rental Price (in dollars): {prediction}\")\n",
        "    else:\n",
        "        st.error(\"Error making prediction.\")\n",
        "\n",
        "# Section for batch prediction\n",
        "st.subheader(\"Batch Prediction\")\n",
        "\n",
        "# Allow users to upload a CSV file for batch prediction\n",
        "uploaded_file = st.file_uploader(\"Upload CSV file for batch prediction\", type=[\"csv\"])\n",
        "\n",
        "# Make batch prediction when the \"Predict Batch\" button is clicked\n",
        "if uploaded_file is not None:\n",
        "    if st.button(\"Predict Batch\"):\n",
        "        response = requests.post(\"https://<username>-<repo_id>.hf.space/v1/rentalbatch\", files={\"file\": uploaded_file})  # Send file to Flask API\n",
        "        if response.status_code == 200:\n",
        "            predictions = response.json()\n",
        "            st.success(\"Batch predictions completed!\")\n",
        "            st.write(predictions)  # Display the predictions\n",
        "        else:\n",
        "            st.error(\"Error making batch prediction.\")"
      ],
      "metadata": {
        "colab": {
          "base_uri": "https://localhost:8080/"
        },
        "id": "McWDBwZPFJe6",
        "outputId": "6a5d6381-68ea-444d-895b-b01188fba7dc"
      },
      "execution_count": null,
      "outputs": [
        {
          "output_type": "stream",
          "name": "stdout",
          "text": [
            "Overwriting frontend_files/app.py\n"
          ]
        }
      ]
    },
    {
      "cell_type": "markdown",
      "source": [
        "## Dependencies File"
      ],
      "metadata": {
        "id": "beq1RbMhUQmi"
      }
    },
    {
      "cell_type": "code",
      "source": [
        "%%writefile frontend_files/requirements.txt\n",
        "pandas==2.2.2\n",
        "requests==2.28.1\n",
        "streamlit==1.43.2"
      ],
      "metadata": {
        "colab": {
          "base_uri": "https://localhost:8080/"
        },
        "id": "_mRb5eXRR7u-",
        "outputId": "0741e995-b05b-456c-c7c0-760512ecccaa"
      },
      "execution_count": null,
      "outputs": [
        {
          "output_type": "stream",
          "name": "stdout",
          "text": [
            "Overwriting frontend_files/requirements.txt\n"
          ]
        }
      ]
    },
    {
      "cell_type": "markdown",
      "source": [
        "## Dockerfile"
      ],
      "metadata": {
        "id": "PBrfk1GCpbcL"
      }
    },
    {
      "cell_type": "code",
      "source": [
        "%%writefile frontend_files/Dockerfile\n",
        "# Use a minimal base image with Python 3.9 installed\n",
        "FROM python:3.9-slim\n",
        "\n",
        "# Set the working directory inside the container to /app\n",
        "WORKDIR /app\n",
        "\n",
        "# Copy all files from the current directory on the host to the container's /app directory\n",
        "COPY . .\n",
        "\n",
        "# Install Python dependencies listed in requirements.txt\n",
        "RUN pip3 install -r requirements.txt\n",
        "\n",
        "# Define the command to run the Streamlit app on port 8501 and make it accessible externally\n",
        "CMD [\"streamlit\", \"run\", \"app.py\", \"--server.port=8501\", \"--server.address=0.0.0.0\", \"--server.enableXsrfProtection=false\"]\n",
        "\n",
        "# NOTE: Disable XSRF protection for easier external access in order to make batch predictions"
      ],
      "metadata": {
        "id": "zqZG82WZpfMA"
      },
      "execution_count": null,
      "outputs": []
    },
    {
      "cell_type": "markdown",
      "source": [
        "## Uploading Files to Hugging Face Space for the Frontend"
      ],
      "metadata": {
        "id": "5Re8ovwv9Rb5"
      }
    },
    {
      "cell_type": "code",
      "source": [
        "# for hugging face space authentication to upload files\n",
        "from huggingface_hub import HfApi\n",
        "\n",
        "repo_id = \"--------------------------\"  # Your Hugging Face space id\n",
        "\n",
        "# Initialize the API\n",
        "api = HfApi()\n",
        "\n",
        "# Upload Streamlit app files stored in the folder called deployment_files\n",
        "api.upload_folder(\n",
        "    folder_path=\"/content/frontend_files\",  # Local folder path\n",
        "    repo_id=repo_id,  # Hugging face space id\n",
        "    repo_type=\"space\",  # Hugging face repo type \"space\"\n",
        ")"
      ],
      "metadata": {
        "id": "4b93nx2F9Qt0",
        "colab": {
          "base_uri": "https://localhost:8080/",
          "height": 141
        },
        "outputId": "4889b25e-276a-4a9b-b350-567346868636"
      },
      "execution_count": null,
      "outputs": [
        {
          "output_type": "execute_result",
          "data": {
            "text/plain": [
              "CommitInfo(commit_url='https://huggingface.co/spaces/Thiresh/RentalPricePredictionFrontendDocker/commit/868d01bae88e1b0d793ab5f3de0a582f2c02a525', commit_message='Upload folder using huggingface_hub', commit_description='', oid='868d01bae88e1b0d793ab5f3de0a582f2c02a525', pr_url=None, repo_url=RepoUrl('https://huggingface.co/spaces/Thiresh/RentalPricePredictionFrontendDocker', endpoint='https://huggingface.co', repo_type='space', repo_id='Thiresh/RentalPricePredictionFrontendDocker'), pr_revision=None, pr_num=None)"
            ],
            "application/vnd.google.colaboratory.intrinsic+json": {
              "type": "string"
            }
          },
          "metadata": {},
          "execution_count": 61
        }
      ]
    },
    {
      "cell_type": "markdown",
      "source": [
        "# Inferencing using Flask API\n"
      ],
      "metadata": {
        "id": "uL3mB7rziwnz"
      }
    },
    {
      "cell_type": "markdown",
      "source": [
        "As the ***frontend and backend are decoupled***, we can ***access the backend directly for predictions***.\n",
        "- The decoupling ensures seamless interaction with the deployed model while leveraging the API for scalable inference."
      ],
      "metadata": {
        "id": "P_m0lIv-qNIS"
      }
    },
    {
      "cell_type": "markdown",
      "source": [
        "Let's see how to interact with the Flask API programatically within this notebook to perform **online** and **batch inference**.\n",
        "\n",
        "We will\n",
        "1. Send API requests for both online and batch inference.\n",
        "2. Process and check the model predictions."
      ],
      "metadata": {
        "id": "vXCEJGmzI_zS"
      }
    },
    {
      "cell_type": "code",
      "execution_count": null,
      "metadata": {
        "id": "E9g9MT90dyLS"
      },
      "outputs": [],
      "source": [
        "import json  # To handle JSON formatting for API requests and responses\n",
        "import requests  # To send HTTP requests to the deployed Flask API\n",
        "\n",
        "import pandas as pd  # For data manipulation and analysis\n",
        "import numpy as np  # For numerical computations"
      ]
    },
    {
      "cell_type": "code",
      "source": [
        "model_root_url = \"https://<username>-<repo_id>.hf.space\"  # Base URL of the deployed Flask API on Hugging Face Space; enter user name and space name before running the cell"
      ],
      "metadata": {
        "id": "jJx0262Ld6bD"
      },
      "execution_count": null,
      "outputs": []
    },
    {
      "cell_type": "code",
      "source": [
        "model_url = model_root_url + \"/v1/rental\"  # Endpoint for online (single) inference"
      ],
      "metadata": {
        "id": "Kq6LpmrjeITI"
      },
      "execution_count": null,
      "outputs": []
    },
    {
      "cell_type": "markdown",
      "source": [
        "Since our model predictions are served through the Flask endpoint we created, we need to call this endpoint to make a prediction.\n",
        "\n",
        "> ```@app.post('/v1/rental')```"
      ],
      "metadata": {
        "id": "l9oJ16-b1nE5"
      }
    },
    {
      "cell_type": "code",
      "source": [
        "model_batch_url = model_root_url + \"/v1/rentalbatch\"  # Endpoint for batch inference"
      ],
      "metadata": {
        "id": "0SzGv3INkDHB"
      },
      "execution_count": null,
      "outputs": []
    },
    {
      "cell_type": "markdown",
      "source": [
        "> ```@app.post('/v1/rentalbatch')```"
      ],
      "metadata": {
        "id": "wtg2VqmhkDst"
      }
    },
    {
      "cell_type": "markdown",
      "source": [
        "## Online Inference"
      ],
      "metadata": {
        "id": "dPUTD0Snew7n"
      }
    },
    {
      "cell_type": "markdown",
      "source": [
        "The idea is to send a single request to the API and receive an immediate response. This is useful for real-time applications like recommendation systems and fraud detection.\n",
        "\n",
        "* This data is sent as a JSON payload in a POST request to the model endpoint.\n",
        "* The model processes the input features and returns a prediction as a JSON payload."
      ],
      "metadata": {
        "id": "fhhivXJKFEfg"
      }
    },
    {
      "cell_type": "code",
      "source": [
        "payload = {\n",
        "  \"room_type\": \"Entire home/apt\",\n",
        "  \"accommodates\": 5,\n",
        "  \"bathrooms\": 3,\n",
        "  \"cancellation_policy\": \"strict\",\n",
        "  \"cleaning_fee\": True,\n",
        "  \"instant_bookable\": \"f\",\n",
        "  \"review_scores_rating\": 90,\n",
        "  \"bedrooms\": 3,\n",
        "  \"beds\": 3\n",
        "}\n",
        "\n",
        "# This payload dictionary includes all the necessary features in the expected\n",
        "# format for online (single property) prediction, ensuring consistency with the\n",
        "# model's training data."
      ],
      "metadata": {
        "id": "hwBt4lwjeRIE"
      },
      "execution_count": null,
      "outputs": []
    },
    {
      "cell_type": "code",
      "source": [
        "# Sending a POST request to the model endpoint with the test payload\n",
        "response = requests.post(model_url, json=payload)"
      ],
      "metadata": {
        "id": "TEcUJhPueTg7"
      },
      "execution_count": null,
      "outputs": []
    },
    {
      "cell_type": "code",
      "source": [
        "response"
      ],
      "metadata": {
        "colab": {
          "base_uri": "https://localhost:8080/"
        },
        "id": "i_LRhw-wDPaQ",
        "outputId": "bc547abe-ae58-47e7-bac8-7ea515ae8d57"
      },
      "execution_count": null,
      "outputs": [
        {
          "output_type": "execute_result",
          "data": {
            "text/plain": [
              "<Response [200]>"
            ]
          },
          "metadata": {},
          "execution_count": 48
        }
      ]
    },
    {
      "cell_type": "markdown",
      "source": [
        "- The `<Response [200]>` you see is an HTTP status code.\n",
        "- It indicates that your request was successful, and the server was able to process it without any problems."
      ],
      "metadata": {
        "id": "jQOQM2IQd-Z1"
      }
    },
    {
      "cell_type": "code",
      "source": [
        "print(response.json())"
      ],
      "metadata": {
        "colab": {
          "base_uri": "https://localhost:8080/"
        },
        "id": "u5siPq2UeVL7",
        "outputId": "35b58791-0422-41c5-c0ba-dec1484812e0"
      },
      "execution_count": null,
      "outputs": [
        {
          "output_type": "stream",
          "name": "stdout",
          "text": [
            "{'Predicted Price (in dollars)': 422.59}\n"
          ]
        }
      ]
    },
    {
      "cell_type": "markdown",
      "source": [
        "## Batch Inference"
      ],
      "metadata": {
        "id": "3mU64zPDeyKR"
      }
    },
    {
      "cell_type": "markdown",
      "source": [
        "The idea is to send a batch of requests to the API and receive a response. The backend reads the entire dataset, runs it through the ML model, and returns the prediction for every row in the file. This is useful for applications like loan default prediction and customer churn prediction, where we don't need results instantaneously.\n",
        "\n",
        "* This data is sent as a CSV file in a POST request to the model endpoint.\n",
        "* The model processes each row containing the input features and returns the predictions for each row as one single JSON payload."
      ],
      "metadata": {
        "id": "aOEQQlw_FG6m"
      }
    },
    {
      "cell_type": "code",
      "source": [
        "import pandas as pd"
      ],
      "metadata": {
        "id": "kzk8iEPBscR_"
      },
      "execution_count": null,
      "outputs": []
    },
    {
      "cell_type": "code",
      "source": [
        "# Load the sample batch data for Airbnb\n",
        "airbnb_batch_data = pd.read_csv(\"airbnb_rental_batch_data.csv\")"
      ],
      "metadata": {
        "id": "S6TH6sbCscKs"
      },
      "execution_count": null,
      "outputs": []
    },
    {
      "cell_type": "markdown",
      "source": [
        "- The model was trained using certain set of numerical and categorical features before being serialized.\n",
        "- We need to use the same set of features and pass the data to the API in order to get predictions.\n",
        "- We define these feature lists below, where we select the necessary columns from the batch data to ensure the model receives the expected input format for prediction."
      ],
      "metadata": {
        "id": "EdxWk4SMrNoR"
      }
    },
    {
      "cell_type": "code",
      "source": [
        "# List of numerical features in the Airbnb dataset\n",
        "numeric_features = [\n",
        "    'id',\n",
        "    'accommodates',\n",
        "    'bathrooms',\n",
        "    'review_scores_rating',\n",
        "    'bedrooms',\n",
        "    'beds'\n",
        "]\n",
        "\n",
        "# List of categorical features in the Airbnb dataset\n",
        "categorical_features = [\n",
        "    'room_type',\n",
        "    'cancellation_policy',\n",
        "    'cleaning_fee',\n",
        "    'instant_bookable'\n",
        "]\n",
        "\n",
        "# Define predictor matrix (X) using selected numeric and categorical features\n",
        "batch_input_data = airbnb_batch_data[numeric_features + categorical_features]"
      ],
      "metadata": {
        "id": "IdPUvXEGeki5"
      },
      "execution_count": null,
      "outputs": []
    },
    {
      "cell_type": "code",
      "source": [
        "# Prepare batch input for API request\n",
        "batch_input = {\n",
        "    'file': batch_input_data.to_csv(header=True, index=False).encode('utf-8')\n",
        "}"
      ],
      "metadata": {
        "id": "i6XXra-zfUGp"
      },
      "execution_count": null,
      "outputs": []
    },
    {
      "cell_type": "code",
      "source": [
        "# Send request to the model API for batch predictions\n",
        "response = requests.post(\n",
        "    model_batch_url,  # Model endpoint URL\n",
        "    files=batch_input\n",
        ")"
      ],
      "metadata": {
        "id": "pWeW9HKafVxp"
      },
      "execution_count": null,
      "outputs": []
    },
    {
      "cell_type": "code",
      "source": [
        "response"
      ],
      "metadata": {
        "colab": {
          "base_uri": "https://localhost:8080/"
        },
        "id": "NnV65NCXBj6u",
        "outputId": "d11f3714-2590-469e-b574-131adcd4da72"
      },
      "execution_count": null,
      "outputs": [
        {
          "output_type": "execute_result",
          "data": {
            "text/plain": [
              "<Response [200]>"
            ]
          },
          "metadata": {},
          "execution_count": 55
        }
      ]
    },
    {
      "cell_type": "code",
      "source": [
        "response.text"
      ],
      "metadata": {
        "colab": {
          "base_uri": "https://localhost:8080/",
          "height": 88
        },
        "id": "JGVJ35iHChXq",
        "outputId": "5d549669-3f38-4492-e50f-b1a98153ab84"
      },
      "execution_count": null,
      "outputs": [
        {
          "output_type": "execute_result",
          "data": {
            "text/plain": [
              "'{\"3808709\":158.67,\"6304928\":213.48,\"6901257\":156.42,\"7919400\":132.43,\"13418779\":206.42,\"14567890\":402.91,\"15678901\":588.39,\"16789012\":160.17,\"17890123\":52.5,\"18901234\":868.18,\"19012345\":118.19,\"20123456\":36.74,\"21234567\":911.51,\"22345678\":173.27,\"23456789\":49.24}\\n'"
            ],
            "application/vnd.google.colaboratory.intrinsic+json": {
              "type": "string"
            }
          },
          "metadata": {},
          "execution_count": 56
        }
      ]
    },
    {
      "cell_type": "markdown",
      "source": [
        "- As we can see, we receive a JSON where each key represents a property ID, and the value represents the model's predicted rental price (in dollars) for that property."
      ],
      "metadata": {
        "id": "gwwc6sK8sg1g"
      }
    },
    {
      "cell_type": "markdown",
      "source": [
        "# Conclusion\n"
      ],
      "metadata": {
        "id": "V7L8tuJxqVFi"
      }
    },
    {
      "cell_type": "markdown",
      "source": [
        "1. **Flexibility and Scalability**: By separating the frontend and backend, we can easily update or scale each component independently. This means we can make changes to the user interface without affecting the prediction model, or vice versa. This also allows us to handle a large number of requests by scaling the backend without impacting the frontend's performance. It's like having a system with changeable parts, making it more adaptable and robust.\n",
        "\n",
        "2. **Technology Agnostic**: The decoupled architecture allows us to use different technologies for the frontend and backend. For example, we can use Streamlit for the frontend and Flask for the backend, or any other suitable technologies. This flexibility enables us to choose the best tools for the job at hand.\n",
        "\n",
        "3. **Reusability**: The backend API can be reused by other applications or services. This means we can integrate the prediction functionality into different parts of Airbnb's platform or even share it with external partners. This fosters greater efficiency and integration possibilities, extending the model's benefits beyond a single application. It's like creating a versatile tool that can be used in various projects, maximizing its value."
      ],
      "metadata": {
        "id": "QeUdyRze4QbR"
      }
    },
    {
      "cell_type": "markdown",
      "source": [
        "<font size=6 color=\"blue\">Power Ahead!</font>\n",
        "___"
      ],
      "metadata": {
        "id": "26px7tU1C02z"
      }
    }
  ],
  "metadata": {
    "application/vnd.databricks.v1+notebook": {
      "dashboards": [],
      "language": "python",
      "notebookMetadata": {
        "pythonIndentUnit": 4
      },
      "notebookName": "machine_failure_prediction",
      "widgets": {}
    },
    "colab": {
      "provenance": []
    },
    "kernelspec": {
      "display_name": "Python 3",
      "name": "python3"
    },
    "language_info": {
      "name": "python"
    }
  },
  "nbformat": 4,
  "nbformat_minor": 0
}