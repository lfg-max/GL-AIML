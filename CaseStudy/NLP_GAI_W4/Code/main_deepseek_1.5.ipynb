{
 "cells": [
  {
   "cell_type": "markdown",
   "metadata": {},
   "source": [
    "<center><img src=\"https://upload.wikimedia.org/wikipedia/commons/e/e9/4_RGB_McCombs_School_Brand_Branded.png\" width=\"300\" height=\"100\"/>\n",
    "  <img src=\"https://mma.prnewswire.com/media/1458111/Great_Learning_Logo.jpg?p=facebook\" width=\"200\" height=\"100\"/></center>\n",
    "\n",
    "<center><font size=10>Artificial Intelligence and Machine Learning</center></font>\n",
    "<center><font size=6>Natural Language Processing with Generative AI - Retrieval Augmented Generation</center></font>\n",
    "\n",
    "<center><img src=\"https://i.ibb.co/pBF9nKpf/apple.png\" width=\"720\"></center>\n",
    "\n",
    "<center><font size=6>Apple HBR Report Document Q&A</center></font>\n",
    "\n",
    "# RAG LLM Application Notebook\n",
    "\n",
    "This notebook demonstrates the complete workflow of a Retrieval-Augmented Generation (RAG) LLM application. It covers data loading, chunking, embedding, vector database setup, question answering, and evaluation."
   ]
  },
  {
   "cell_type": "markdown",
   "metadata": {},
   "source": [
    "## 1. Setup and Library Installation\n",
    "\n",
    "First, we need to install all the necessary Python libraries. This ensures that all dependencies for data processing, LLM interaction, and vector database operations are met. If you are running this in a Colab environment, these commands will typically install the packages.\n",
    "\n",
    "**Note**: If you are running this locally, ensure you have Ollama installed and the `llama3.2` model pulled (`ollama pull llama3.2`)."
   ]
  },
  {
   "cell_type": "code",
   "execution_count": 1,
   "metadata": {},
   "outputs": [
    {
     "name": "stdout",
     "output_type": "stream",
     "text": [
      "All specified packages installed (or upgraded) successfully!\n",
      "Please ensure the model is pulled for Ollama with the command:\n"
     ]
    }
   ],
   "source": [
    "# Install necessary packages\n",
    "# %pip install -U -q huggingface_hub tiktoken pymupdf langchain-community langchain langchain-chroma langchain-huggingface ollama\n",
    "\n",
    "\n",
    "print(\"All specified packages installed (or upgraded) successfully!\")\n",
    "print(\"Please ensure the model is pulled for Ollama with the command:\")"
   ]
  },
  {
   "cell_type": "markdown",
   "metadata": {},
   "source": [
    "## 2. Import Necessary Modules\n",
    "\n",
    "We import the `RAG_LLM` class from `functions.py` and constants from `config.py`. Make sure `functions.py`, `config.py`, and `prompt_templates.py` are in the same directory as this notebook."
   ]
  },
  {
   "cell_type": "code",
   "execution_count": 2,
   "metadata": {},
   "outputs": [
    {
     "name": "stdout",
     "output_type": "stream",
     "text": [
      "Modules imported successfully.\n"
     ]
    }
   ],
   "source": [
    "from functions import RAG_LLM\n",
    "from config import APPLE_PDF_PATH, DEFAULT_K_RETRIEVER, DEFAULT_MAX_TOKENS, DEFAULT_TEMPERATURE\n",
    "import os\n",
    "\n",
    "print(\"Modules imported successfully.\")"
   ]
  },
  {
   "cell_type": "markdown",
   "metadata": {},
   "source": [
    "## 3. Initialize the RAG_LLM System\n",
    "\n",
    "Here, we create an instance of our `RAG_LLM` class. This object will manage the entire RAG pipeline, including data loading, processing, retrieval, and LLM interaction."
   ]
  },
  {
   "cell_type": "code",
   "execution_count": 3,
   "metadata": {},
   "outputs": [
    {
     "name": "stdout",
     "output_type": "stream",
     "text": [
      "RAG_LLM initialized.\n",
      "RAG_LLM system initialized.\n"
     ]
    }
   ],
   "source": [
    "# Initialize the RAG_LLM class\n",
    "rag_system = RAG_LLM()\n",
    "print(\"RAG_LLM system initialized.\")"
   ]
  },
  {
   "cell_type": "markdown",
   "metadata": {},
   "source": [
    "## 4. Load the PDF Document\n",
    "\n",
    "We load the `HBR_How_Apple_Is_Organized_For_Innovation.pdf` document. Ensure this PDF file is available in the working directory."
   ]
  },
  {
   "cell_type": "code",
   "execution_count": 4,
   "metadata": {},
   "outputs": [
    {
     "name": "stdout",
     "output_type": "stream",
     "text": [
      "Loading data from: HBR_How_Apple_Is_Organized_For_Innovation.pdf\n",
      "Successfully loaded 11 pages.\n",
      "PDF document loaded successfully.\n"
     ]
    }
   ],
   "source": [
    "# Load the PDF document\n",
    "documents = rag_system.load_data(pdf_path=APPLE_PDF_PATH)\n",
    "if not documents:\n",
    "    print(\"Failed to load documents. Please check the PDF path and file existence.\")\n",
    "else:\n",
    "    print(\"PDF document loaded successfully.\")"
   ]
  },
  {
   "cell_type": "markdown",
   "metadata": {},
   "source": [
    "## 5. Chunk the Loaded Data\n",
    "\n",
    "The loaded document is chunked into smaller, overlapping segments. This is crucial for efficient retrieval and to fit content within the LLM's context window."
   ]
  },
  {
   "cell_type": "code",
   "execution_count": 5,
   "metadata": {},
   "outputs": [
    {
     "name": "stdout",
     "output_type": "stream",
     "text": [
      "Chunking data with chunk_size=1024, chunk_overlap=20\n",
      "Created 16 chunks.\n",
      "Documents chunked successfully.\n"
     ]
    }
   ],
   "source": [
    "# Chunk the loaded data\n",
    "document_chunks = rag_system.chunk_data(documents)\n",
    "if not document_chunks:\n",
    "    print(\"Failed to chunk documents.\")\n",
    "else:\n",
    "    print(\"Documents chunked successfully.\")"
   ]
  },
  {
   "cell_type": "markdown",
   "metadata": {},
   "source": [
    "## 6. Create Embedding Model\n",
    "\n",
    "An embedding model (SentenceTransformer) is initialized to convert text chunks into numerical vectors, enabling semantic search."
   ]
  },
  {
   "cell_type": "code",
   "execution_count": 6,
   "metadata": {},
   "outputs": [
    {
     "name": "stdout",
     "output_type": "stream",
     "text": [
      "Initializing embedding model: mixedbread-ai/mxbai-embed-large-v1\n",
      "Embedding model initialized successfully.\n",
      "Embedding model created successfully.\n"
     ]
    }
   ],
   "source": [
    "# Create embedding model\n",
    "rag_system.create_embeddings()\n",
    "if not rag_system.embedding_model:\n",
    "    print(\"Failed to create embedding model.\")\n",
    "else:\n",
    "    print(\"Embedding model created successfully.\")"
   ]
  },
  {
   "cell_type": "markdown",
   "metadata": {},
   "source": [
    "## 7. Set Up the Vector Database\n",
    "\n",
    "The Chroma vector database is set up using the chunked documents and the embedding model. This database will store the embeddings and facilitate quick retrieval of relevant context."
   ]
  },
  {
   "cell_type": "code",
   "execution_count": 7,
   "metadata": {},
   "outputs": [
    {
     "name": "stdout",
     "output_type": "stream",
     "text": [
      "Setting up vector database in: vector_db_1024\n",
      "Vector database loaded from existing directory.\n",
      "Retriever initialized.\n",
      "Vector database set up and retriever initialized.\n"
     ]
    }
   ],
   "source": [
    "# Set up the vector database\n",
    "rag_system.setup_vector_database(document_chunks=document_chunks)\n",
    "if not rag_system.vectorstore:\n",
    "    print(\"Failed to set up vector database.\")\n",
    "else:\n",
    "    print(\"Vector database set up and retriever initialized.\")"
   ]
  },
  {
   "cell_type": "markdown",
   "metadata": {},
   "source": [
    "## 8. Demonstrate Question Answering with RAG\n",
    "\n",
    "Now, we can ask questions and see how the RAG system retrieves relevant information and generates answers based on the loaded document."
   ]
  },
  {
   "cell_type": "code",
   "execution_count": 8,
   "metadata": {},
   "outputs": [
    {
     "name": "stdout",
     "output_type": "stream",
     "text": [
      "\n",
      "Query 1: Who are the authors of this article and who published this article ?\n",
      "Retrieving 3 relevant documents for the query.\n",
      "RAG prompt created.\n",
      "Generating LLM response using model: deepseek-r1:1.5b\n",
      "LLM response generated.\n",
      "Response 1: \n",
      "<think>\n",
      "Okay, so I need to figure out who the authors are and who published the article about Apple's organizational structure. Let me start by reading through the provided context carefully.\n",
      "\n",
      "First, I see that there are two documents mentioned in the context. The first one is a detailed article from Harvard Business Review titled \"Apple’s Functional Organization\" published in November–December 2020. It discusses the leadership model led by Joel M. Podolny and Morten Hansen, focusing on how Apple's organization structures its expertise and decision-making.\n",
      "\n",
      "The second document is another article about Rosner, the photoographer at Apple, titled \"Roger Rosner’s Discretionary Leadership.\" This one talks about his role as a teacher, guiding team members to develop software applications according to Apple's norms. It also discusses the learning curve for managers and how he delegates tasks in the delegating box.\n",
      "\n",
      "Now, looking back at the question: Who are the authors of this article and who published it? The context mentions two documents, each authored by different people. The first document is \"Apple’s Functional Organization,\" authored by Joel M. Podolny and Morten Hansen. The second document is about Rosner's leadership style, authored by Roger Rosner.\n",
      "\n",
      "So, putting it all together, the authors of both articles are different individuals: Joel Podolny, Morten Hansen for the first article; Roger Rosner for the second. As for who published each article, the Harvard Business Review article was published by Joel Podolny and Morten Hansen, while Rosner's article was published by Roger Rosner.\n",
      "</think>\n",
      "\n",
      "The authors of both articles are different individuals:\n",
      "\n",
      "1. **\"Apple’s Functional Organization\"** was authored by **Joel M. Podolny** and **Morten Hansen**, published in the Harvard Business Review in November–December 2020.\n",
      "\n",
      "2. **\"Roger Rosner’s Discretionary Leadership\"** was authored by **Roger Rosner**, published in the same Harvard Business Review issue as the first article, on October 15, 2020.\n",
      "\n",
      "Thus, each article is authored by distinct individuals and published by different people.\n"
     ]
    }
   ],
   "source": [
    "# Example Query 1\n",
    "user_input_1 = \"Who are the authors of this article and who published this article ?\"\n",
    "print(f\"\\nQuery 1: {user_input_1}\")\n",
    "llm_response_1 = rag_system.get_answer(user_input_1)\n",
    "print(f\"Response 1: \\n{llm_response_1}\")"
   ]
  },
  {
   "cell_type": "code",
   "execution_count": 9,
   "metadata": {},
   "outputs": [
    {
     "name": "stdout",
     "output_type": "stream",
     "text": [
      "\n",
      "Query 2: List down the three leadership characteristics in bulleted points and explain each one of the characteristics under two lines.\n",
      "Retrieving 3 relevant documents for the query.\n",
      "RAG prompt created.\n",
      "Generating LLM response using model: deepseek-r1:1.5b\n",
      "LLM response generated.\n",
      "Response 2: \n",
      "<think>\n",
      "Okay, so I need to figure out how to answer this question about the three leadership characteristics mentioned in the provided context. Let me start by reading through the context carefully to understand what's being discussed.\n",
      "\n",
      "The context talks about Apple's organizational structure changes over time. It mentions that as Apple grows, their functional structure and leadership model have evolved. They've divided hardware into engineering and technologies, moved human interface out of software, and integrated design functions. This seems like a change in how they organize their expertise to better facilitate collaboration and rapid decision-making.\n",
      "\n",
      "The key points here are about the division of responsibilities, moving tasks between teams, and integrating different areas of expertise. These changes reflect Apple's approach to leadership, which is more about teaching and mentoring than being an expert themselves.\n",
      "\n",
      "Now, the question asks for three leadership characteristics with bullet points, each explained in two lines. I need to identify what these characteristics are based on the context provided.\n",
      "\n",
      "First, I think it's about division of responsibilities. Apple moved hardware into engineering and technologies, which suggests they wanted to focus on specific areas more clearly. This would be one characteristic.\n",
      "\n",
      "Second, moving tasks between teams is another point. By transferring some work from one team to another, like moving high-level tasks out of software into teaching boxes, Apple aimed for better collaboration and expertise alignment. That's the second characteristic.\n",
      "\n",
      "Third, integrating different areas of expertise seems important too. Combining design functions with other areas like news or video editing shows a focus on creating a cohesive system that benefits all teams. This is the third characteristic.\n",
      "\n",
      "I should make sure each point is clear and concise, explaining how these characteristics contribute to Apple's organizational changes. I also need to ensure that I'm not adding any external knowledge beyond what's provided in the context.\n",
      "</think>\n",
      "\n",
      "1. **Division of Responsibilities**:  \n",
      "   Apple moved hardware functions into engineering and technologies, allowing them to focus on specific areas more clearly. This division helps align expertise with decision-making needs.\n",
      "\n",
      "2. **Transfer of Tasks Between Teams**:  \n",
      "   By transferring tasks like high-level software work from one team to another (e.g., moving news engineering out of software), Apple aimed for better collaboration and alignment of expertise, fostering a culture of teaching and mentoring.\n",
      "\n",
      "3. **Integration of Expertise Across Areas**:  \n",
      "   Combining design functions with other areas (e.g., integrating news editing with video editing) shows Apple's focus on creating a cohesive system that benefits all teams, promoting innovation and collaboration across departments.\n"
     ]
    }
   ],
   "source": [
    "# Example Query 2\n",
    "user_input_2 = \"List down the three leadership characteristics in bulleted points and explain each one of the characteristics under two lines.\"\n",
    "print(f\"\\nQuery 2: {user_input_2}\")\n",
    "# Adjust max_tokens to allow for a more complete answer for a list\n",
    "llm_response_2 = rag_system.get_answer(user_input_2, max_tokens=150, temperature=0.1)\n",
    "print(f\"Response 2: \\n{llm_response_2}\")"
   ]
  },
  {
   "cell_type": "code",
   "execution_count": 10,
   "metadata": {},
   "outputs": [
    {
     "name": "stdout",
     "output_type": "stream",
     "text": [
      "\n",
      "Query 3: Can you explain specific examples from the article where Apple's approach to leadership has led to successful innovations?\n",
      "Retrieving 3 relevant documents for the query.\n",
      "RAG prompt created.\n",
      "Generating LLM response using model: deepseek-r1:1.5b\n",
      "LLM response generated.\n",
      "Response 3: \n",
      "<think>\n",
      "Okay, so I need to figure out how Apple's leadership approach, which involved assigning responsibilities based on expertise and encouraging collaboration, led to successful innovations. The context provided includes a detailed article about this topic.\n",
      "\n",
      "First, I'll read through the article carefully to understand the key points. It mentions that Apple had a functional organization where each business unit was led by general managers who were not experts in all areas. This approach allowed for cross-functional decision-making and collaboration among different departments. The company then evolved into a multidivisional structure as it grew, which further emphasized this leadership style.\n",
      "\n",
      "The article provides examples of how this approach worked. For instance, when Apple expanded its product portfolio, especially with new applications like News, Clips (video editing), Books, and Final Cut Pro, the VP of applications, Roger Rosner, had to manage a large number of projects. He assigned tasks based on expertise—some projects required deep knowledge in editorial content for News, others involved voice memos, which might require general management skills. This allowed him to handle each project effectively without overburdening himself.\n",
      "\n",
      "Another example is the transition from a functional organization to a multidivisional structure as Apple expanded its operations. This shift likely required Apple to reorganize their leadership teams and ensure that each division was led by experts in their specific areas, which aligns with the discretionary leadership model they introduced.\n",
      "\n",
      "The article also mentions that Apple's approach has been successful beyond just product innovation. It talks about how this method can lead to significant results even when the company is rapidly changing its environment. For example, the success of the iPhone and MacBooks was attributed in part to Apple's ability to manage a large number of projects with cross-functional expertise.\n",
      "\n",
      "I should make sure I'm not missing any specific examples or details from the article that illustrate this point. The key takeaway seems to be that by assigning responsibilities based on expertise and fostering collaboration, Apple could handle its growing complexity effectively, leading to successful innovations.\n",
      "</think>\n",
      "\n",
      "Apple's leadership approach, which emphasized expertise-based assignment of responsibilities and cross-functional collaboration, successfully managed its growth and complexity. Here are specific examples:\n",
      "\n",
      "1. **Product Portfolio Expansion**: As Apple expanded its product portfolio, including new applications like News, Clips (video editing), Books, and Final Cut Pro, the VP of applications, Roger Rosner, had to manage a large number of projects. He assigned tasks based on expertise: some projects required editorial content knowledge, others involved voice memos, which might require general management skills. This approach allowed him to handle each project effectively without overburdening himself.\n",
      "\n",
      "2. **Transition from Functional to Multidivisional Structure**: Apple's shift from a functional organization to a multidivisional structure as it expanded operations required reorganizing leadership teams and ensuring each division was led by experts in their specific areas, aligning with the discretionary leadership model introduced.\n",
      "\n",
      "3. **Successful Innovation Beyond Product**: The success of innovations like the iPhone and MacBooks was attributed in part to Apple's ability to manage a large number of projects with cross-functional expertise, leading to significant results despite rapid environmental change.\n",
      "\n",
      "In summary, Apple's approach leveraged expertise-based leadership and collaboration to handle complexity effectively, driving successful innovations.\n"
     ]
    }
   ],
   "source": [
    "# Example Query 3 (expected to be \"I don't know\" if not in context)\n",
    "user_input_3 = \"Can you explain specific examples from the article where Apple's approach to leadership has led to successful innovations?\"\n",
    "print(f\"\\nQuery 3: {user_input_3}\")\n",
    "llm_response_3 = rag_system.get_answer(user_input_3)\n",
    "print(f\"Response 3: \\n{llm_response_3}\")"
   ]
  },
  {
   "cell_type": "markdown",
   "metadata": {},
   "source": [
    "## 9. Demonstrate Output Evaluation (LLM-as-a-Judge)\n",
    "\n",
    "Finally, we demonstrate how the RAG system can evaluate its own answers for 'groundedness' (adherence to context) and 'relevance' (how well it answers the question)."
   ]
  },
  {
   "cell_type": "code",
   "execution_count": 11,
   "metadata": {},
   "outputs": [
    {
     "name": "stdout",
     "output_type": "stream",
     "text": [
      "\n",
      "Evaluating Query 1:\n",
      "\n",
      "--- Calculating Ratings for Question: 'Who are the authors of this article and who published this article ?' ---\n",
      "Retrieving 3 relevant documents for the query.\n",
      "RAG prompt created.\n",
      "Generating LLM response using model: deepseek-r1:1.5b\n",
      "LLM response generated.\n",
      "Rating overall answer quality (groundedness and relevance)...\n",
      "Rating groundedness...\n",
      "Retrieving 3 relevant documents for the query.\n",
      "Generating LLM response using model: deepseek-r1:1.5b\n",
      "LLM response generated.\n",
      "Rating relevance...\n",
      "Retrieving 3 relevant documents for the query.\n",
      "Generating LLM response using model: deepseek-r1:1.5b\n",
      "LLM response generated.\n",
      "\n",
      "--- Results ---\n",
      "Question: \n",
      " Who are the authors of this article and who published this article ?\n",
      "\n",
      "Answer: \n",
      " <think>\n",
      "Okay, so I need to figure out who the authors are and who published the article about Apple's organizational structure. Let me start by reading through the provided context carefully.\n",
      "\n",
      "First, I see that there are two documents mentioned in the context. The first one is a detailed article from Harvard Business Review titled \"Apple’s Functional Organization\" published in November–December 2020. It discusses the leadership model led by Joel M. Podolny and Morten Hansen, focusing on how Apple's organization structures its expertise and decision-making.\n",
      "\n",
      "The second document is another article about Rosner, the photoographer at Apple, titled \"Roger Rosner’s Discretionary Leadership.\" This one talks about his role as a teacher, guiding team members to develop software applications according to Apple's norms. It also discusses the learning curve for managers and how he delegates tasks in the delegating box.\n",
      "\n",
      "Now, looking back at the question: Who are the authors of this article and who published it? The context mentions two documents, each authored by different people. The first document is \"Apple’s Functional Organization,\" authored by Joel M. Podolny and Morten Hansen. The second document is about Rosner's leadership style, authored by Roger Rosner.\n",
      "\n",
      "So, putting it all together, the authors of both articles are different individuals: Joel Podolny, Morten Hansen for the first article; Roger Rosner for the second. As for who published each article, the Harvard Business Review article was published by Joel Podolny and Morten Hansen, while Rosner's article was published by Roger Rosner.\n",
      "</think>\n",
      "\n",
      "The authors of both articles are different individuals:\n",
      "\n",
      "1. **\"Apple’s Functional Organization\"** was authored by **Joel M. Podolny** and **Morten Hansen**, published in the Harvard Business Review in November–December 2020.\n",
      "\n",
      "2. **\"Roger Rosner’s Discretionary Leadership\"** was authored by **Roger Rosner**, published in the same Harvard Business Review issue as the first article, on October 15, 2020.\n",
      "\n",
      "Thus, each article is authored by distinct individuals and published by different people.\n",
      "\n",
      "Groundedness Rating: \n",
      " <think>\n",
      "Alright, let's break this down step by step. The task is to evaluate whether the answer adheres to a specific metric regarding the authors and publication of an article. \n",
      "\n",
      "First, I need to understand what the metric entails. From the provided information, the metric evaluates how well the answer follows certain criteria related to the authors and who published the article.\n",
      "\n",
      "The context includes two documents:\n",
      "\n",
      "1. **\"Apple’s Functional Organization\"** by Joel M. Podolny and Morten Hansen.\n",
      "2. **\"Roger Rosner’s Discretionary Leadership\"** by Roger Rosner.\n",
      "\n",
      "The question is asking about the authors of this article (which I assume refers to both documents) and who published it. The context provides detailed information on each document's authorship, but since the question seems to focus on a single article, I'll consider one of them for clarity.\n",
      "\n",
      "Now, evaluating the metric:\n",
      "\n",
      "1. **Step 1: Identify the authors and publication details.**\n",
      "   - For \"Apple’s Functional Organization,\" the authors are Joel M. Podolny and Morten Hansen.\n",
      "   - The article was published in the Harvard Business Review in November–December 2020.\n",
      "\n",
      "2. **Step 2: Assess adherence to the metric.**\n",
      "   - The metric evaluates how well the answer follows certain criteria related to the authors and publication details.\n",
      "\n",
      "3. **Step 3: Determine if the answer adheres to the metric.**\n",
      "   - Since the context provides clear authorship details for both documents, I can infer that the answer correctly identifies the authors and their respective publications.\n",
      "\n",
      "4. **Step 4: Evaluate adherence based on the criteria.**\n",
      "   - The article is directly attributed to its authors and published in the specified timeframe, which aligns with the metric's evaluation criteria.\n",
      "\n",
      "5. **Step 5: Rate the answer according to the criteria.**\n",
      "   - Since the answer accurately identifies the authors and publication details, it follows the metric completely (rating 5).\n",
      "\n",
      "In summary, the article is correctly attributed to its authors and published in the specified timeframe, adhering fully to the metric's evaluation criteria.\n",
      "</think>\n",
      "\n",
      "The article \"Apple’s Functional Organization\" was authored by Joel M. Podolny and Morten Hansen, published in the Harvard Business Review in November–December 2020.\n",
      "\n",
      "###Step-by-Step Explanation:\n",
      "1. **Identify the Authors:**\n",
      "   - The authors of the article are Joel M. Podolny and Morten Hansen.\n",
      "   \n",
      "2. **Determine the Publication Details:**\n",
      "   - The article was published in the Harvard Business Review during November–December 2020.\n",
      "\n",
      "3. **Evaluate Adherence to the Metric:**\n",
      "   - The answer correctly identifies the authors and their respective publication details, aligning with the metric's criteria for authorship and publication timeframe.\n",
      "\n",
      "4. **Rate the Answer:**\n",
      "   - The answer adheres completely to the metric, earning a score of 5.\n",
      "\n",
      "###Final Rating:\n",
      "**Score: 5**\n",
      "\n",
      "Relevance Rating: \n",
      " <think>\n",
      "Alright, let's break this down step by step. The task is to evaluate whether the provided context adheres to a specific metric regarding relevance. The metric in question measures how well the answer addresses the main aspects of the question, based on the context.\n",
      "\n",
      "### Step 1: Understand the Question and Answer\n",
      "\n",
      "The question asks about the authors and who published the article. The context provides two documents:\n",
      "\n",
      "1. **Document 1**: \"Apple’s Functional Organization\" by Joel M. Podolny and Morten Hansen.\n",
      "2. **Document 2**: \"Roger Rosner’s Discretionary Leadership\" by Roger Rosner.\n",
      "\n",
      "### Step 2: Evaluate Relevance\n",
      "\n",
      "The metric evaluates how well the answer addresses the main aspects of the question. The context is structured with two documents, each addressing different aspects of Apple's organizational structure. Document 1 focuses on Podolny and Hansen's leadership style, while Document 2 discusses Rosner's role as a teacher.\n",
      "\n",
      "### Step 3: Assess Coverage\n",
      "\n",
      "The provided context covers both documents but does not explicitly address the question about authors and publishers. It only provides details about each document's authorship and content.\n",
      "\n",
      "### Step 4: Determine Extent of Metric Follow-Up\n",
      "\n",
      "Since the context doesn't include any action or further discussion related to the metric, it follows completely without addressing relevance.\n",
      "\n",
      "### Final Evaluation\n",
      "The context adheres to the metric as it covers both documents but lacks explicit action on the question. It follows completely.\n",
      "</think>\n",
      "\n",
      "The provided context does not explicitly address the question about who are the authors and who published the article. Instead, it provides details about each document's authorship and content. Therefore, the context follows completely with respect to the metric.\n",
      "\n",
      "### Answer:\n",
      "The context adheres to the metric as it covers both documents but lacks explicit action on the question. It follows completely.\n",
      "--------------------------------------------------\n"
     ]
    }
   ],
   "source": [
    "# Evaluate Query 1\n",
    "user_input_1 = \"Who are the authors of this article and who published this article ?\"\n",
    "print(\"\\nEvaluating Query 1:\")\n",
    "rag_system.calculate_rating(question=user_input_1)"
   ]
  },
  {
   "cell_type": "code",
   "execution_count": 12,
   "metadata": {},
   "outputs": [
    {
     "name": "stdout",
     "output_type": "stream",
     "text": [
      "\n",
      "Evaluating Query 2:\n",
      "\n",
      "--- Calculating Ratings for Question: 'List down the three leadership characteristics in bulleted points and explain each one of the characteristics under two lines.' ---\n",
      "Retrieving 3 relevant documents for the query.\n",
      "RAG prompt created.\n",
      "Generating LLM response using model: deepseek-r1:1.5b\n",
      "LLM response generated.\n",
      "Rating overall answer quality (groundedness and relevance)...\n",
      "Rating groundedness...\n",
      "Retrieving 3 relevant documents for the query.\n",
      "Generating LLM response using model: deepseek-r1:1.5b\n",
      "LLM response generated.\n",
      "Rating relevance...\n",
      "Retrieving 3 relevant documents for the query.\n",
      "Generating LLM response using model: deepseek-r1:1.5b\n",
      "LLM response generated.\n",
      "\n",
      "--- Results ---\n",
      "Question: \n",
      " List down the three leadership characteristics in bulleted points and explain each one of the characteristics under two lines.\n",
      "\n",
      "Answer: \n",
      " <think>\n",
      "Okay, so I need to list out the three leadership characteristics from the provided context and explain each one with two lines. Let me start by reading through the context carefully to identify what's being discussed.\n",
      "\n",
      "The context talks about Apple's organizational structure changes over time. It mentions how the company has evolved in terms of its functional structure, leadership model, and the challenges faced due to growth. There are also references to specific activities like hardware engineering, AI, and product development, along with examples of managers adapting their roles.\n",
      "\n",
      "Now, I need to identify the three key leadership characteristics mentioned. From what I can see, the main points related to leadership include:\n",
      "\n",
      "1. **Adapting Leadership Roles**: Apple has moved from having experts lead by themselves to dividing responsibilities into hardware engineering, AI, and product development. This shows a shift in how leaders handle their roles as they grow with the company.\n",
      "\n",
      "2. **Discretionary Leadership Model**: The context introduces this model where leaders take on new responsibilities outside their original expertise. For example, Roger Rosner was given responsibility for News Engineering after expanding his role. This model emphasizes teaching and mentoring to ensure smooth transitions within the organization.\n",
      "\n",
      "3. **Collaborative Decision-Making**: Apple encourages teams to work together and discuss internally. This is evident in examples like the dual-lens camera needing collaboration among multiple teams. Leaders are expected to engage in debates to make decisions, which fosters a collaborative environment.\n",
      "\n",
      "I think these three points cover the main leadership characteristics discussed. Now, I need to explain each one with two lines as per the instructions.\n",
      "</think>\n",
      "\n",
      "1. **Adapting Leadership Roles**: Apple has evolved its leadership structure by moving from having experts lead alone to dividing responsibilities into hardware engineering, AI, and product development. This shift shows a dynamic approach where leaders adapt their roles as the company grows.\n",
      "\n",
      "2. **Discretionary Leadership Model**: The company employs a discretionary leadership model, where leaders take on new responsibilities outside their original expertise. For instance, Roger Rosner was given responsibility for News Engineering after expanding his role, emphasizing teaching and mentoring to ensure smooth transitions within the organization.\n",
      "\n",
      "3. **Collaborative Decision-Making**: Apple encourages teams to work together and discuss internally through examples like the dual-lens camera needing collaboration among multiple teams. Leaders are expected to engage in debates to make decisions, fostering a collaborative environment.\n",
      "\n",
      "Groundedness Rating: \n",
      " <think>\n",
      "Alright, let's break down how I approached evaluating this task.\n",
      "\n",
      "First, I needed to identify the three leadership characteristics from the context. The key points were:\n",
      "\n",
      "1. **Adapting Leadership Roles**: Apple moved from having experts lead alone to dividing responsibilities into hardware engineering, AI, and product development. This shows a dynamic approach where leaders adapt their roles as the company grows.\n",
      "\n",
      "2. **Discretionary Leadership Model**: The company employs a discretionary leadership model, where leaders take on new responsibilities outside their original expertise. For example, Roger Rosner was given responsibility for News Engineering after expanding his role, emphasizing teaching and mentoring to ensure smooth transitions within the organization.\n",
      "\n",
      "3. **Collaborative Decision-Making**: Apple encourages teams to work together and discuss internally through examples like the dual-lens camera needing collaboration among multiple teams. Leaders are expected to engage in debates to make decisions, fostering a collaborative environment.\n",
      "\n",
      "Next, I explained each characteristic with two lines as per the instructions. I made sure to clearly outline what each leadership approach entails and how it contributes to Apple's organizational growth and challenges faced due to its expansion.\n",
      "\n",
      "Finally, I evaluated the extent to which these characteristics are followed by the answer provided. The answer adhered closely to the characteristics described in the context, demonstrating a clear understanding of the key points.\n",
      "</think>\n",
      "\n",
      "###Step-by-Step Explanation:\n",
      "\n",
      "1. **Identify Leadership Characteristics**:\n",
      "   - **Adapting Leadership Roles**: Apple adapted its leadership structure by expanding roles beyond experts into areas like hardware engineering and AI development. This reflects a dynamic approach to leadership as the company grows.\n",
      "\n",
      "2. **Explain Discretionary Leadership Model**:\n",
      "   - The discretionary leadership model involves leaders taking on new responsibilities outside their original expertise. For example, Roger Rosner was given responsibility for News Engineering after expanding his role, emphasizing teaching and mentoring to ensure smooth transitions within the organization.\n",
      "\n",
      "3. **Describe Collaborative Decision-Making**:\n",
      "   - Apple encourages teams to collaborate internally through examples like the dual-lens camera needing teamwork among multiple teams. Leaders engage in debates to make decisions, fostering a collaborative environment.\n",
      "\n",
      "4. **Evaluate Extent of Characteristics Followed**:\n",
      "   - The answer closely followed the characteristics described in the context, demonstrating a clear understanding and adherence to key leadership approaches outlined in the evaluation criteria.\n",
      "\n",
      "Relevance Rating: \n",
      " <think>\n",
      "Alright, let me break down how I approached evaluating this task.\n",
      "\n",
      "First, I needed to identify the three leadership characteristics mentioned in the context. The key points were:\n",
      "\n",
      "1. **Adapting Leadership Roles**: Apple moved from having experts lead alone to dividing responsibilities into hardware engineering, AI, and product development.\n",
      "2. **Discretionary Leadership Model**: Leaders took on new responsibilities outside their original expertise, such as Roger Rosner managing News Engineering after expanding his role.\n",
      "3. **Collaborative Decision-Making**: Teams collaborated internally through examples like the dual-lens camera needing team work to make decisions.\n",
      "\n",
      "Next, I explained each characteristic with two lines based on the instructions. Each explanation was concise and clear, focusing on how Apple adapted leadership roles, implemented a discretionary model, and promoted collaborative decision-making.\n",
      "\n",
      "Finally, I provided a step-by-step evaluation of how these characteristics follow the metric, ensuring that each point was addressed accurately.\n",
      "</think>\n",
      "\n",
      "###Step-by-Step Explanation:\n",
      "\n",
      "1. **Identify Leadership Characteristics**:\n",
      "   - **Adapting Leadership Roles**: Apple adapted its leadership structure by dividing responsibilities into hardware engineering, AI, and product development as the company grew.\n",
      "   - **Discretionary Leadership Model**: Leaders took on new roles outside their original expertise, such as Roger Rosner managing News Engineering after expanding his role.\n",
      "   - **Collaborative Decision-Making**: Teams collaborated internally through examples like the dual-lens camera needing team work to make decisions.\n",
      "\n",
      "2. **Evaluate Following the Metric**:\n",
      "   - The context evaluates whether all and only the important aspects of the question are addressed in the answer.\n",
      "   - It checks if the answer adheres to the metric by ensuring relevance and thoroughness.\n",
      "\n",
      "3. **Assess Extent of Metric Follow-Up**:\n",
      "   - The context assesses how well the answer follows the metric, considering whether all aspects are covered and relevant.\n",
      "\n",
      "4. **Rate Context Based on Evaluation Criteria**:\n",
      "   - Using a scale from 1 to 5, the context is rated based on how closely it adheres to the metric criteria.\n",
      "   - It's rated as 3 out of 5, indicating good relevance but with some limitations in addressing all aspects comprehensively.\n",
      "\n",
      "This structured approach ensures that each part of the evaluation process is clearly understood and applied.\n",
      "--------------------------------------------------\n"
     ]
    }
   ],
   "source": [
    "# Evaluate Query 2\n",
    "user_input_2 = \"List down the three leadership characteristics in bulleted points and explain each one of the characteristics under two lines.\"\n",
    "print(\"\\nEvaluating Query 2:\")\n",
    "# Using parameters that yield a better answer for evaluation\n",
    "rag_system.calculate_rating(question=user_input_2)"
   ]
  },
  {
   "cell_type": "code",
   "execution_count": 13,
   "metadata": {},
   "outputs": [
    {
     "name": "stdout",
     "output_type": "stream",
     "text": [
      "\n",
      "Evaluating Query 3:\n",
      "\n",
      "--- Calculating Ratings for Question: 'Can you explain specific examples from the article where Apple's approach to leadership has led to successful innovations?' ---\n",
      "Retrieving 3 relevant documents for the query.\n",
      "RAG prompt created.\n",
      "Generating LLM response using model: deepseek-r1:1.5b\n",
      "LLM response generated.\n",
      "Rating overall answer quality (groundedness and relevance)...\n",
      "Rating groundedness...\n",
      "Retrieving 3 relevant documents for the query.\n",
      "Generating LLM response using model: deepseek-r1:1.5b\n",
      "LLM response generated.\n",
      "Rating relevance...\n",
      "Retrieving 3 relevant documents for the query.\n",
      "Generating LLM response using model: deepseek-r1:1.5b\n",
      "LLM response generated.\n",
      "\n",
      "--- Results ---\n",
      "Question: \n",
      " Can you explain specific examples from the article where Apple's approach to leadership has led to successful innovations?\n",
      "\n",
      "Answer: \n",
      " <think>\n",
      "Okay, so I need to figure out how Apple's leadership approach, which involved assigning responsibilities based on expertise and encouraging collaboration, led to successful innovations. The context provided includes a detailed article about this topic.\n",
      "\n",
      "First, I'll read through the article carefully to understand the key points. It mentions that Apple had a functional organization where each business unit was led by general managers who were not experts in all areas. This approach allowed for cross-functional decision-making and collaboration among different departments. The company then evolved into a multidivisional structure as it grew, which further emphasized this leadership style.\n",
      "\n",
      "The article provides examples of how this approach worked. For instance, when Apple expanded its product portfolio, especially with new applications like News, Clips (video editing), Books, and Final Cut Pro, the VP of applications, Roger Rosner, had to manage a large number of projects. He assigned tasks based on expertise—some projects required deep knowledge in editorial content for News, others involved voice memos, which might require general management skills. This allowed him to handle each project effectively without overburdening himself.\n",
      "\n",
      "Another example is the transition from a functional organization to a multidivisional structure as Apple expanded its operations. This shift likely required Apple to reorganize their leadership teams and ensure that each division was led by experts in their specific areas, which aligns with the discretionary leadership model they introduced.\n",
      "\n",
      "The article also mentions that Apple's approach has been successful beyond just product innovation. It talks about how this method can lead to significant results even when the company is rapidly changing its environment. For example, the success of the iPhone and MacBooks was attributed in part to Apple's ability to manage a large number of projects with cross-functional expertise.\n",
      "\n",
      "I should make sure I'm not missing any specific examples or details from the article that illustrate this point. The key takeaway seems to be that by assigning responsibilities based on expertise and fostering collaboration, Apple could handle its growing complexity effectively, leading to successful innovations.\n",
      "</think>\n",
      "\n",
      "Apple's leadership approach, which emphasized expertise-based assignment of responsibilities and cross-functional collaboration, successfully managed its growth and complexity. Here are specific examples:\n",
      "\n",
      "1. **Product Portfolio Expansion**: As Apple expanded its product portfolio, including new applications like News, Clips (video editing), Books, and Final Cut Pro, the VP of applications, Roger Rosner, had to manage a large number of projects. He assigned tasks based on expertise: some projects required editorial content knowledge, others involved voice memos, which might require general management skills. This approach allowed him to handle each project effectively without overburdening himself.\n",
      "\n",
      "2. **Transition from Functional to Multidivisional Structure**: Apple's shift from a functional organization to a multidivisional structure as it expanded operations required reorganizing leadership teams and ensuring each division was led by experts in their specific areas, aligning with the discretionary leadership model introduced.\n",
      "\n",
      "3. **Successful Innovation Beyond Product**: The success of innovations like the iPhone and MacBooks was attributed in part to Apple's ability to manage a large number of projects with cross-functional expertise, leading to significant results despite rapid environmental change.\n",
      "\n",
      "In summary, Apple's approach leveraged expertise-based leadership and collaboration to handle complexity effectively, driving successful innovations.\n",
      "\n",
      "Groundedness Rating: \n",
      " <think>\n",
      "Alright, let me break this down. I need to evaluate how Apple's leadership approach, which involved assigning responsibilities based on expertise and fostering cross-functional collaboration, led to successful innovations. The context provided includes a detailed article about this topic.\n",
      "\n",
      "First, I'll read through the article carefully to understand the key points. It mentions that Apple had a functional organization where each business unit was led by general managers who were not experts in all areas. This approach allowed for cross-functional decision-making and collaboration. As Apple grew, it evolved into a multidivisional structure, further emphasizing this leadership style.\n",
      "\n",
      "The article provides examples of how this approach worked. For instance, when Apple expanded its product portfolio, especially with new applications like News, Clips (video editing), Books, and Final Cut Pro, the VP of applications, Roger Rosner, had to manage a large number of projects. He assigned tasks based on expertise: some projects required deep knowledge in editorial content for News, others involved voice memos, which might require general management skills. This allowed him to handle each project effectively without overburdening himself.\n",
      "\n",
      "Another example is the transition from a functional organization to a multidivisional structure as Apple expanded its operations. This shift likely required Apple to reorganize their leadership teams and ensure that each division was led by experts in their specific areas, aligning with the discretionary leadership model they introduced.\n",
      "\n",
      "The article also mentions that Apple's approach has been successful beyond just product innovation. It talks about how this method can lead to significant results even when the company is rapidly changing its environment. For example, the success of the iPhone and MacBooks was attributed in part to Apple's ability to manage a large number of projects with cross-functional expertise.\n",
      "\n",
      "In summary, Apple's leadership approach emphasized expertise-based assignment of responsibilities and cross-functional collaboration, which allowed them to handle their growing complexity effectively, leading to successful innovations.\n",
      "</think>\n",
      "\n",
      "Apple's leadership approach, which focused on assigning responsibilities based on expertise and fostering cross-functional collaboration, successfully managed its growth and complexity. Here are specific examples:\n",
      "\n",
      "1. **Product Portfolio Expansion**: As Apple expanded its product portfolio, including new applications like News, Clips (video editing), Books, and Final Cut Pro, the VP of applications, Roger Rosner, had to manage a large number of projects. He assigned tasks based on expertise: some projects required editorial content knowledge, others involved voice memos, which might require general management skills. This approach allowed him to handle each project effectively without overburdening himself.\n",
      "\n",
      "2. **Transition from Functional to Multidivisional Structure**: Apple's shift from a functional organization to a multidivisional structure as it expanded operations required reorganizing leadership teams and ensuring each division was led by experts in their specific areas, aligning with the discretionary leadership model introduced.\n",
      "\n",
      "3. **Successful Innovation Beyond Product**: The success of innovations like the iPhone and MacBooks was attributed in part to Apple's ability to manage a large number of projects with cross-functional expertise, leading to significant results despite rapid environmental change.\n",
      "\n",
      "In summary, Apple's approach leveraged expertise-based leadership and collaboration to handle complexity effectively, driving successful innovations.\n",
      "\n",
      "Relevance Rating: \n",
      " <think>\n",
      "Alright, let me break this down. I need to evaluate how Apple's leadership approach—assigning responsibilities based on expertise and fostering collaboration—led to successful innovations. The context provided includes a detailed article about this topic.\n",
      "\n",
      "First, I'll read through the article carefully to understand the key points. It mentions that Apple had a functional organization where each business unit was led by general managers who were not experts in all areas. This approach allowed for cross-functional decision-making and collaboration among different departments. The company then evolved into a multidivisional structure as it grew, which further emphasized this leadership style.\n",
      "\n",
      "The article provides examples of how this approach worked. For instance, when Apple expanded its product portfolio, especially with new applications like News, Clips (video editing), Books, and Final Cut Pro, the VP of applications, Roger Rosner, had to manage a large number of projects. He assigned tasks based on expertise: some projects required deep knowledge in editorial content for News, others involved voice memos, which might require general management skills. This allowed him to handle each project effectively without overburdening himself.\n",
      "\n",
      "Another example is the transition from a functional organization to a multidivisional structure as Apple expanded its operations. This shift likely required Apple to reorganize their leadership teams and ensure that each division was led by experts in their specific areas, which aligns with the discretionary leadership model they introduced.\n",
      "\n",
      "The article also mentions that Apple's approach has been successful beyond just product innovation. It talks about how this method can lead to significant results even when the company is rapidly changing its environment. For example, the success of the iPhone and MacBooks was attributed in part to Apple's ability to manage a large number of projects with cross-functional expertise.\n",
      "\n",
      "In summary, Apple's leadership approach emphasized expertise-based assignment of responsibilities and fostered collaboration, which allowed them to handle their growing complexity effectively, leading to successful innovations.\n",
      "</think>\n",
      "\n",
      "Apple's leadership approach, which focused on assigning responsibilities based on expertise and fostering collaboration, successfully managed its growth and complexity. Here are specific examples:\n",
      "\n",
      "1. **Product Portfolio Expansion**: As Apple expanded its product portfolio, including new applications like News, Clips (video editing), Books, and Final Cut Pro, the VP of applications, Roger Rosner, had to manage a large number of projects. He assigned tasks based on expertise: some projects required editorial content knowledge, others involved voice memos, which might require general management skills. This approach allowed him to handle each project effectively without overburdening himself.\n",
      "\n",
      "2. **Transition from Functional to Multidivisional Structure**: Apple's shift from a functional organization to a multidivisional structure as it expanded operations required reorganizing leadership teams and ensuring each division was led by experts in their specific areas, aligning with the discretionary leadership model introduced.\n",
      "\n",
      "3. **Successful Innovation Beyond Product**: The success of innovations like the iPhone and MacBooks was attributed in part to Apple's ability to manage a large number of projects with cross-functional expertise, leading to significant results despite rapid environmental change.\n",
      "\n",
      "In summary, Apple's approach leveraged expertise-based leadership and collaboration to handle complexity effectively, driving successful innovations.\n",
      "--------------------------------------------------\n"
     ]
    }
   ],
   "source": [
    "# Evaluate Query 3\n",
    "user_input_3 = \"Can you explain specific examples from the article where Apple's approach to leadership has led to successful innovations?\"\n",
    "print(\"\\nEvaluating Query 3:\")\n",
    "rag_system.calculate_rating(question=user_input_3)"
   ]
  },
  {
   "cell_type": "markdown",
   "metadata": {},
   "source": [
    "## Conclusion\n",
    "\n",
    "This notebook provides a comprehensive walkthrough of setting up and using a RAG LLM system for document Q&A and evaluation. You can modify the parameters and queries to experiment further."
   ]
  },
  {
   "cell_type": "markdown",
   "id": "1203585a",
   "metadata": {},
   "source": []
  }
 ],
 "metadata": {
  "kernelspec": {
   "display_name": ".venv",
   "language": "python",
   "name": "python3"
  },
  "language_info": {
   "codemirror_mode": {
    "name": "ipython",
    "version": 3
   },
   "file_extension": ".py",
   "mimetype": "text/x-python",
   "name": "python",
   "nbconvert_exporter": "python",
   "pygments_lexer": "ipython3",
   "version": "3.12.0"
  }
 },
 "nbformat": 4,
 "nbformat_minor": 5
}
