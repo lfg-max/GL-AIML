{
  "nbformat": 4,
  "nbformat_minor": 0,
  "metadata": {
    "colab": {
      "provenance": []
    },
    "kernelspec": {
      "name": "python3",
      "display_name": "Python 3"
    },
    "language_info": {
      "name": "python"
    }
  },
  "cells": [
    {
      "cell_type": "markdown",
      "source": [
        "<center><p float=\"center\">\n",
        "  <img src=\"https://upload.wikimedia.org/wikipedia/commons/e/e9/4_RGB_McCombs_School_Brand_Branded.png\" width=\"300\" height=\"100\"/>\n",
        "  <img src=\"https://mma.prnewswire.com/media/1458111/Great_Learning_Logo.jpg?p=facebook\" width=\"200\" height=\"100\"/>\n",
        "</p></center>\n",
        "\n",
        "<center><font size=10>Applied Statistics</center></font>\n",
        "<center><font size=5>Estimation and Hypothesis Testing - Week 2</font></center>\n",
        "\n",
        "\n"
      ],
      "metadata": {
        "id": "CFNnr-z0rLy7"
      }
    },
    {
      "cell_type": "markdown",
      "source": [
        "<center><img src=\"https://cdn.pixabay.com/photo/2023/01/07/05/28/hand-7702606_1280.jpg\" width=\"720\"></center>\n",
        "\n",
        "<b><center><font size=5> Talent Hunt Examination Case Study</font></center></b>"
      ],
      "metadata": {
        "id": "Lo-je8R2rPDg"
      }
    },
    {
      "cell_type": "markdown",
      "source": [
        "## **Problem Statement**"
      ],
      "metadata": {
        "id": "3BXeuML4rR7h"
      }
    },
    {
      "cell_type": "markdown",
      "source": [
        "### **Business Context**"
      ],
      "metadata": {
        "id": "Jk4B2nDFbUFC"
      }
    },
    {
      "cell_type": "markdown",
      "source": [
        "A research institute conducts a Talent Hunt Examination every year to hire people who can work on various research projects in the field of Mathematics , Physics,Chemistry and Computer Science.\n",
        "\n",
        "**A2Z institute** provides a preparatory program to help the aspirants prepare for the Talent Hunt Exams. The institute has a good record of helping many students clear the exams. Before the application for the next batch starts, the institute wants to attract more aspirants to their program.\n",
        "\n",
        "**For this, the institute wants to assure the aspiring students of the quality of results obtained by students enrolled in their program in recent years.**\n",
        "\n",
        "However, one challenge in estimating an average score is that every year the exam’s difficulty level varies a little, and the distribution of scores also changes accordingly.\n",
        "\n",
        "However, it is known that the **standard deviation of the scores of the students of the institute is 10. **\n",
        "\n",
        "The institute keeps a track of the scores of various subjects for its alumni who attempted the exams previously.\n",
        "\n",
        "A dataset constituted of a simple random sample of scores of 600 aspirants from the last three years is prepared by the institute."
      ],
      "metadata": {
        "id": "DO-G6sNubV9E"
      }
    },
    {
      "cell_type": "markdown",
      "source": [
        "### **Objective**. SOLVE 3 PROBLEMS"
      ],
      "metadata": {
        "id": "6WfFKuC8baxn"
      }
    },
    {
      "cell_type": "markdown",
      "source": [
        "The institute wants to get a more **robust measure of the average scores** secured by the students that accounts for the variability in scores across different years. This will help them get a better picture of the overall performance of the students and the information can also be used for marketing purposes.\n",
        "\n",
        "**Critic's Claim** : A renowned critic has recently taken to social media to mention that the institute's preparation material for Physics and Mathematics do not have the required rigor and that students, on average, failed to clear the cut-off of 82 in these subjects last year. The institute wants to verify the validity of the critic's claim and then respond to him. The goal is to determine whether there is significant evidence to support the claim that the average scores in Physics and Mathematics are lower than the specified cut-off.\n",
        "\n",
        "**Investor's Claim** : In light of recent increase in revenue of the institute, an investor believes that the increase is driven by an increasing amount of students clearing their exams in Computer Science and Chemistry in the last year. The institute wants to check if the investor's belief in factually correct and share an update. The aim is to assess whether there is significant evidence to support the claim that the average scores in Computer Science and Chemistry are higher than the cut-off score of 85."
      ],
      "metadata": {
        "id": "QNZtNG1bbaFV"
      }
    },
    {
      "cell_type": "markdown",
      "source": [
        "### **Data Dictionary**"
      ],
      "metadata": {
        "id": "YByu8AjAeqql"
      }
    },
    {
      "cell_type": "markdown",
      "source": [
        "The dataset provided (*Talent_hunt.csv*) contains the scores of four subjects of 600 aspirants enrolled in the institute''s programs in the last three years. Each row in the dataset corresponds to a different student, and the values in each column indicate the respective performance scores of that student in the specified academic program.\n",
        "\n",
        "- **Computer_Science**: This column contains numerical values representing the performance scores of students in the Computer Science program.\n",
        "\n",
        "- **Chemistry**: This column contains numerical values representing the performance scores of students in the Chemistry program.\n",
        "\n",
        "- **Mathematics**: This column contains numerical values representing the performance scores of students in the Mathematics program.\n",
        "\n",
        "- **Physics**: This column contains numerical values representing the performance scores of students in the Physics program.\n",
        "\n"
      ],
      "metadata": {
        "id": "t77WOUezeySA"
      }
    },
    {
      "cell_type": "markdown",
      "source": [
        "## **Solution Approach**"
      ],
      "metadata": {
        "id": "6QslxB5mevN9"
      }
    },
    {
      "cell_type": "markdown",
      "source": [
        "> 1.  **To provide a more reliable estimate of the average scores:** We will construct a 95% confidence interval for the mean scores of students in Physics, Mathematics, Computer Science, and Chemistry who have enrolled in the institute's program. This approach offers a comprehensive range of scores, providing a robust estimate.\n",
        "\n",
        "> 2. **Critic's Claim:** To investigate the critic's claim that the mean scores of students in Physics and Mathematics are less than the previous year's cut-off of 82, we will perform a hypothesis test at a significance level of 5%. The null hypothesis will assume that the mean scores are equal to or greater than 82, and the alternative hypothesis will suggest that the mean scores are less than 82.\n",
        "\n",
        "> 3. **Investor's Claim:** To assess the investor's claim that the mean scores of students in Computer Science and Chemistry are higher than or equal to the most recent cut-off of 85, we will conduct a hypothesis test at a significance level of 5%. The null hypothesis will assume that the mean scores are equal to or less than 85, and the alternative hypothesis will suggest that the mean scores are greater than 85. These tests will provide statistical evidence to validate or refute both the critic's and investor's perspectives, contributing to a comprehensive evaluation of the institute's performance."
      ],
      "metadata": {
        "id": "-8gYi8gErZUR"
      }
    },
    {
      "cell_type": "markdown",
      "metadata": {
        "id": "9tRIjr4im6uI"
      },
      "source": [
        "## **Let us start by importing the required libraries**"
      ]
    },
    {
      "cell_type": "markdown",
      "source": [
        "## **Import the necessary libraries**\n",
        "\n"
      ],
      "metadata": {
        "id": "hjxdsZmirkHa"
      }
    },
    {
      "cell_type": "code",
      "execution_count": null,
      "metadata": {
        "id": "qMT4oqFojffp"
      },
      "outputs": [],
      "source": [
        "# Libraries to help with reading and manipulating data\n",
        "import pandas as pd\n",
        "import numpy as np\n",
        "\n",
        "# Libraries to help with data visualization\n",
        "import matplotlib.pyplot as plt\n",
        "import seaborn as sns\n",
        "%matplotlib inline\n",
        "\n",
        "# Library to help with statistical analysis\n",
        "import scipy.stats as stats\n",
        "\n",
        "# Function for handling normal distribution and statistical calculation\n",
        "from scipy.stats import norm"
      ]
    },
    {
      "cell_type": "markdown",
      "source": [
        "## **Loading the dataset**"
      ],
      "metadata": {
        "id": "142FPzUWroO5"
      }
    },
    {
      "cell_type": "code",
      "source": [
        "# uncomment the below code cell to mount your google drive\n",
        "from google.colab import drive\n",
        "drive.mount('/content/drive')\n",
        "\n",
        "import os\n",
        "os.chdir('/content/drive/MyDrive/datasets/')\n"
      ],
      "metadata": {
        "id": "8NFWeGdGxlur",
        "colab": {
          "base_uri": "https://localhost:8080/"
        },
        "outputId": "b701505b-6d49-401f-b34d-85d89495d1ca"
      },
      "execution_count": null,
      "outputs": [
        {
          "output_type": "stream",
          "name": "stdout",
          "text": [
            "Mounted at /content/drive\n"
          ]
        }
      ]
    },
    {
      "cell_type": "code",
      "source": [
        "path = \"talent_hunt_scores.csv\"\n",
        "data = pd.read_csv(path)"
      ],
      "metadata": {
        "id": "n0LhX4CRjoKc"
      },
      "execution_count": null,
      "outputs": []
    },
    {
      "cell_type": "code",
      "source": [
        "# copying data to another variable to avoid any changes to original data\n",
        "df = data.copy()"
      ],
      "metadata": {
        "id": "v1hQs1Kpkury"
      },
      "execution_count": null,
      "outputs": []
    },
    {
      "cell_type": "markdown",
      "source": [
        "## **Data Overview**"
      ],
      "metadata": {
        "id": "_JvzZvFRr6A7"
      }
    },
    {
      "cell_type": "code",
      "source": [
        "# looking at head (5 observations)\n",
        "df.head()"
      ],
      "metadata": {
        "id": "SCm8whM3nqGC",
        "colab": {
          "base_uri": "https://localhost:8080/",
          "height": 206
        },
        "outputId": "0d917b85-62f9-42a8-8540-b6a0b09d55fe"
      },
      "execution_count": null,
      "outputs": [
        {
          "output_type": "execute_result",
          "data": {
            "text/plain": [
              "   Computer_Science  Chemistry  Mathematics  Physics\n",
              "0             74.41     103.29        95.21    74.25\n",
              "1             83.02      88.96        74.95    96.26\n",
              "2             79.57      85.67        63.88   100.01\n",
              "3             75.55      84.31        99.49    91.51\n",
              "4             97.16      88.70        82.81    93.38"
            ],
            "text/html": [
              "\n",
              "  <div id=\"df-987eccf0-1584-4201-af1a-72461d6a385f\" class=\"colab-df-container\">\n",
              "    <div>\n",
              "<style scoped>\n",
              "    .dataframe tbody tr th:only-of-type {\n",
              "        vertical-align: middle;\n",
              "    }\n",
              "\n",
              "    .dataframe tbody tr th {\n",
              "        vertical-align: top;\n",
              "    }\n",
              "\n",
              "    .dataframe thead th {\n",
              "        text-align: right;\n",
              "    }\n",
              "</style>\n",
              "<table border=\"1\" class=\"dataframe\">\n",
              "  <thead>\n",
              "    <tr style=\"text-align: right;\">\n",
              "      <th></th>\n",
              "      <th>Computer_Science</th>\n",
              "      <th>Chemistry</th>\n",
              "      <th>Mathematics</th>\n",
              "      <th>Physics</th>\n",
              "    </tr>\n",
              "  </thead>\n",
              "  <tbody>\n",
              "    <tr>\n",
              "      <th>0</th>\n",
              "      <td>74.41</td>\n",
              "      <td>103.29</td>\n",
              "      <td>95.21</td>\n",
              "      <td>74.25</td>\n",
              "    </tr>\n",
              "    <tr>\n",
              "      <th>1</th>\n",
              "      <td>83.02</td>\n",
              "      <td>88.96</td>\n",
              "      <td>74.95</td>\n",
              "      <td>96.26</td>\n",
              "    </tr>\n",
              "    <tr>\n",
              "      <th>2</th>\n",
              "      <td>79.57</td>\n",
              "      <td>85.67</td>\n",
              "      <td>63.88</td>\n",
              "      <td>100.01</td>\n",
              "    </tr>\n",
              "    <tr>\n",
              "      <th>3</th>\n",
              "      <td>75.55</td>\n",
              "      <td>84.31</td>\n",
              "      <td>99.49</td>\n",
              "      <td>91.51</td>\n",
              "    </tr>\n",
              "    <tr>\n",
              "      <th>4</th>\n",
              "      <td>97.16</td>\n",
              "      <td>88.70</td>\n",
              "      <td>82.81</td>\n",
              "      <td>93.38</td>\n",
              "    </tr>\n",
              "  </tbody>\n",
              "</table>\n",
              "</div>\n",
              "    <div class=\"colab-df-buttons\">\n",
              "\n",
              "  <div class=\"colab-df-container\">\n",
              "    <button class=\"colab-df-convert\" onclick=\"convertToInteractive('df-987eccf0-1584-4201-af1a-72461d6a385f')\"\n",
              "            title=\"Convert this dataframe to an interactive table.\"\n",
              "            style=\"display:none;\">\n",
              "\n",
              "  <svg xmlns=\"http://www.w3.org/2000/svg\" height=\"24px\" viewBox=\"0 -960 960 960\">\n",
              "    <path d=\"M120-120v-720h720v720H120Zm60-500h600v-160H180v160Zm220 220h160v-160H400v160Zm0 220h160v-160H400v160ZM180-400h160v-160H180v160Zm440 0h160v-160H620v160ZM180-180h160v-160H180v160Zm440 0h160v-160H620v160Z\"/>\n",
              "  </svg>\n",
              "    </button>\n",
              "\n",
              "  <style>\n",
              "    .colab-df-container {\n",
              "      display:flex;\n",
              "      gap: 12px;\n",
              "    }\n",
              "\n",
              "    .colab-df-convert {\n",
              "      background-color: #E8F0FE;\n",
              "      border: none;\n",
              "      border-radius: 50%;\n",
              "      cursor: pointer;\n",
              "      display: none;\n",
              "      fill: #1967D2;\n",
              "      height: 32px;\n",
              "      padding: 0 0 0 0;\n",
              "      width: 32px;\n",
              "    }\n",
              "\n",
              "    .colab-df-convert:hover {\n",
              "      background-color: #E2EBFA;\n",
              "      box-shadow: 0px 1px 2px rgba(60, 64, 67, 0.3), 0px 1px 3px 1px rgba(60, 64, 67, 0.15);\n",
              "      fill: #174EA6;\n",
              "    }\n",
              "\n",
              "    .colab-df-buttons div {\n",
              "      margin-bottom: 4px;\n",
              "    }\n",
              "\n",
              "    [theme=dark] .colab-df-convert {\n",
              "      background-color: #3B4455;\n",
              "      fill: #D2E3FC;\n",
              "    }\n",
              "\n",
              "    [theme=dark] .colab-df-convert:hover {\n",
              "      background-color: #434B5C;\n",
              "      box-shadow: 0px 1px 3px 1px rgba(0, 0, 0, 0.15);\n",
              "      filter: drop-shadow(0px 1px 2px rgba(0, 0, 0, 0.3));\n",
              "      fill: #FFFFFF;\n",
              "    }\n",
              "  </style>\n",
              "\n",
              "    <script>\n",
              "      const buttonEl =\n",
              "        document.querySelector('#df-987eccf0-1584-4201-af1a-72461d6a385f button.colab-df-convert');\n",
              "      buttonEl.style.display =\n",
              "        google.colab.kernel.accessAllowed ? 'block' : 'none';\n",
              "\n",
              "      async function convertToInteractive(key) {\n",
              "        const element = document.querySelector('#df-987eccf0-1584-4201-af1a-72461d6a385f');\n",
              "        const dataTable =\n",
              "          await google.colab.kernel.invokeFunction('convertToInteractive',\n",
              "                                                    [key], {});\n",
              "        if (!dataTable) return;\n",
              "\n",
              "        const docLinkHtml = 'Like what you see? Visit the ' +\n",
              "          '<a target=\"_blank\" href=https://colab.research.google.com/notebooks/data_table.ipynb>data table notebook</a>'\n",
              "          + ' to learn more about interactive tables.';\n",
              "        element.innerHTML = '';\n",
              "        dataTable['output_type'] = 'display_data';\n",
              "        await google.colab.output.renderOutput(dataTable, element);\n",
              "        const docLink = document.createElement('div');\n",
              "        docLink.innerHTML = docLinkHtml;\n",
              "        element.appendChild(docLink);\n",
              "      }\n",
              "    </script>\n",
              "  </div>\n",
              "\n",
              "\n",
              "    <div id=\"df-2e7dc76a-4e2e-43c6-9620-e4ac8f22e9ad\">\n",
              "      <button class=\"colab-df-quickchart\" onclick=\"quickchart('df-2e7dc76a-4e2e-43c6-9620-e4ac8f22e9ad')\"\n",
              "                title=\"Suggest charts\"\n",
              "                style=\"display:none;\">\n",
              "\n",
              "<svg xmlns=\"http://www.w3.org/2000/svg\" height=\"24px\"viewBox=\"0 0 24 24\"\n",
              "     width=\"24px\">\n",
              "    <g>\n",
              "        <path d=\"M19 3H5c-1.1 0-2 .9-2 2v14c0 1.1.9 2 2 2h14c1.1 0 2-.9 2-2V5c0-1.1-.9-2-2-2zM9 17H7v-7h2v7zm4 0h-2V7h2v10zm4 0h-2v-4h2v4z\"/>\n",
              "    </g>\n",
              "</svg>\n",
              "      </button>\n",
              "\n",
              "<style>\n",
              "  .colab-df-quickchart {\n",
              "      --bg-color: #E8F0FE;\n",
              "      --fill-color: #1967D2;\n",
              "      --hover-bg-color: #E2EBFA;\n",
              "      --hover-fill-color: #174EA6;\n",
              "      --disabled-fill-color: #AAA;\n",
              "      --disabled-bg-color: #DDD;\n",
              "  }\n",
              "\n",
              "  [theme=dark] .colab-df-quickchart {\n",
              "      --bg-color: #3B4455;\n",
              "      --fill-color: #D2E3FC;\n",
              "      --hover-bg-color: #434B5C;\n",
              "      --hover-fill-color: #FFFFFF;\n",
              "      --disabled-bg-color: #3B4455;\n",
              "      --disabled-fill-color: #666;\n",
              "  }\n",
              "\n",
              "  .colab-df-quickchart {\n",
              "    background-color: var(--bg-color);\n",
              "    border: none;\n",
              "    border-radius: 50%;\n",
              "    cursor: pointer;\n",
              "    display: none;\n",
              "    fill: var(--fill-color);\n",
              "    height: 32px;\n",
              "    padding: 0;\n",
              "    width: 32px;\n",
              "  }\n",
              "\n",
              "  .colab-df-quickchart:hover {\n",
              "    background-color: var(--hover-bg-color);\n",
              "    box-shadow: 0 1px 2px rgba(60, 64, 67, 0.3), 0 1px 3px 1px rgba(60, 64, 67, 0.15);\n",
              "    fill: var(--button-hover-fill-color);\n",
              "  }\n",
              "\n",
              "  .colab-df-quickchart-complete:disabled,\n",
              "  .colab-df-quickchart-complete:disabled:hover {\n",
              "    background-color: var(--disabled-bg-color);\n",
              "    fill: var(--disabled-fill-color);\n",
              "    box-shadow: none;\n",
              "  }\n",
              "\n",
              "  .colab-df-spinner {\n",
              "    border: 2px solid var(--fill-color);\n",
              "    border-color: transparent;\n",
              "    border-bottom-color: var(--fill-color);\n",
              "    animation:\n",
              "      spin 1s steps(1) infinite;\n",
              "  }\n",
              "\n",
              "  @keyframes spin {\n",
              "    0% {\n",
              "      border-color: transparent;\n",
              "      border-bottom-color: var(--fill-color);\n",
              "      border-left-color: var(--fill-color);\n",
              "    }\n",
              "    20% {\n",
              "      border-color: transparent;\n",
              "      border-left-color: var(--fill-color);\n",
              "      border-top-color: var(--fill-color);\n",
              "    }\n",
              "    30% {\n",
              "      border-color: transparent;\n",
              "      border-left-color: var(--fill-color);\n",
              "      border-top-color: var(--fill-color);\n",
              "      border-right-color: var(--fill-color);\n",
              "    }\n",
              "    40% {\n",
              "      border-color: transparent;\n",
              "      border-right-color: var(--fill-color);\n",
              "      border-top-color: var(--fill-color);\n",
              "    }\n",
              "    60% {\n",
              "      border-color: transparent;\n",
              "      border-right-color: var(--fill-color);\n",
              "    }\n",
              "    80% {\n",
              "      border-color: transparent;\n",
              "      border-right-color: var(--fill-color);\n",
              "      border-bottom-color: var(--fill-color);\n",
              "    }\n",
              "    90% {\n",
              "      border-color: transparent;\n",
              "      border-bottom-color: var(--fill-color);\n",
              "    }\n",
              "  }\n",
              "</style>\n",
              "\n",
              "      <script>\n",
              "        async function quickchart(key) {\n",
              "          const quickchartButtonEl =\n",
              "            document.querySelector('#' + key + ' button');\n",
              "          quickchartButtonEl.disabled = true;  // To prevent multiple clicks.\n",
              "          quickchartButtonEl.classList.add('colab-df-spinner');\n",
              "          try {\n",
              "            const charts = await google.colab.kernel.invokeFunction(\n",
              "                'suggestCharts', [key], {});\n",
              "          } catch (error) {\n",
              "            console.error('Error during call to suggestCharts:', error);\n",
              "          }\n",
              "          quickchartButtonEl.classList.remove('colab-df-spinner');\n",
              "          quickchartButtonEl.classList.add('colab-df-quickchart-complete');\n",
              "        }\n",
              "        (() => {\n",
              "          let quickchartButtonEl =\n",
              "            document.querySelector('#df-2e7dc76a-4e2e-43c6-9620-e4ac8f22e9ad button');\n",
              "          quickchartButtonEl.style.display =\n",
              "            google.colab.kernel.accessAllowed ? 'block' : 'none';\n",
              "        })();\n",
              "      </script>\n",
              "    </div>\n",
              "\n",
              "    </div>\n",
              "  </div>\n"
            ],
            "application/vnd.google.colaboratory.intrinsic+json": {
              "type": "dataframe",
              "variable_name": "df",
              "summary": "{\n  \"name\": \"df\",\n  \"rows\": 600,\n  \"fields\": [\n    {\n      \"column\": \"Computer_Science\",\n      \"properties\": {\n        \"dtype\": \"number\",\n        \"std\": 9.90139725298866,\n        \"min\": 55.39,\n        \"max\": 119.39,\n        \"num_unique_values\": 546,\n        \"samples\": [\n          86.21,\n          91.18,\n          75.86\n        ],\n        \"semantic_type\": \"\",\n        \"description\": \"\"\n      }\n    },\n    {\n      \"column\": \"Chemistry\",\n      \"properties\": {\n        \"dtype\": \"number\",\n        \"std\": 9.76580934792857,\n        \"min\": 58.9,\n        \"max\": 114.27,\n        \"num_unique_values\": 548,\n        \"samples\": [\n          86.25,\n          94.98,\n          88.56\n        ],\n        \"semantic_type\": \"\",\n        \"description\": \"\"\n      }\n    },\n    {\n      \"column\": \"Mathematics\",\n      \"properties\": {\n        \"dtype\": \"number\",\n        \"std\": 10.468294393017766,\n        \"min\": 40.17,\n        \"max\": 110.82,\n        \"num_unique_values\": 554,\n        \"samples\": [\n          79.62,\n          82.59,\n          79.66\n        ],\n        \"semantic_type\": \"\",\n        \"description\": \"\"\n      }\n    },\n    {\n      \"column\": \"Physics\",\n      \"properties\": {\n        \"dtype\": \"number\",\n        \"std\": 10.263064911061901,\n        \"min\": 40.71,\n        \"max\": 111.65,\n        \"num_unique_values\": 562,\n        \"samples\": [\n          86.76,\n          88.25,\n          95.37\n        ],\n        \"semantic_type\": \"\",\n        \"description\": \"\"\n      }\n    }\n  ]\n}"
            }
          },
          "metadata": {},
          "execution_count": 5
        }
      ]
    },
    {
      "cell_type": "markdown",
      "source": [
        "#### **Checking the shape of the dataset**"
      ],
      "metadata": {
        "id": "KPS86Tdwi-jj"
      }
    },
    {
      "cell_type": "code",
      "source": [
        "df.shape"
      ],
      "metadata": {
        "colab": {
          "base_uri": "https://localhost:8080/"
        },
        "id": "dtPbWZp2sD3P",
        "outputId": "867842ac-289c-4f60-fa48-f55cc8a037ff"
      },
      "execution_count": null,
      "outputs": [
        {
          "output_type": "execute_result",
          "data": {
            "text/plain": [
              "(600, 4)"
            ]
          },
          "metadata": {},
          "execution_count": 6
        }
      ]
    },
    {
      "cell_type": "markdown",
      "source": [
        "#### **Checking the data types of the columns for the dataset**"
      ],
      "metadata": {
        "id": "TqnrRe5StV2a"
      }
    },
    {
      "cell_type": "code",
      "source": [
        "df.info()"
      ],
      "metadata": {
        "colab": {
          "base_uri": "https://localhost:8080/"
        },
        "id": "qpjp6gO5sHGN",
        "outputId": "81441d84-2b0b-437b-f7a9-16b190a3a495"
      },
      "execution_count": null,
      "outputs": [
        {
          "output_type": "stream",
          "name": "stdout",
          "text": [
            "<class 'pandas.core.frame.DataFrame'>\n",
            "RangeIndex: 600 entries, 0 to 599\n",
            "Data columns (total 4 columns):\n",
            " #   Column            Non-Null Count  Dtype  \n",
            "---  ------            --------------  -----  \n",
            " 0   Computer_Science  600 non-null    float64\n",
            " 1   Chemistry         600 non-null    float64\n",
            " 2   Mathematics       600 non-null    float64\n",
            " 3   Physics           600 non-null    float64\n",
            "dtypes: float64(4)\n",
            "memory usage: 18.9 KB\n"
          ]
        }
      ]
    },
    {
      "cell_type": "markdown",
      "source": [
        "#### **Statistical summary of the dataset**"
      ],
      "metadata": {
        "id": "vbOHyOZXtdva"
      }
    },
    {
      "cell_type": "code",
      "source": [
        "df.describe()"
      ],
      "metadata": {
        "colab": {
          "base_uri": "https://localhost:8080/",
          "height": 300
        },
        "id": "MFGeM_T5tX2U",
        "outputId": "6f4ca992-0308-4dbc-9894-57629b5607b7"
      },
      "execution_count": null,
      "outputs": [
        {
          "output_type": "execute_result",
          "data": {
            "text/plain": [
              "       Computer_Science   Chemistry  Mathematics     Physics\n",
              "count        600.000000  600.000000   600.000000  600.000000\n",
              "mean          84.920467   85.727483    81.733783   82.684317\n",
              "std            9.901397    9.765809    10.468294   10.263065\n",
              "min           55.390000   58.900000    40.170000   40.710000\n",
              "25%           78.215000   79.147500    75.345000   75.820000\n",
              "50%           84.990000   85.700000    82.115000   82.920000\n",
              "75%           91.180000   91.662500    88.092500   89.672500\n",
              "max          119.390000  114.270000   110.820000  111.650000"
            ],
            "text/html": [
              "\n",
              "  <div id=\"df-ab6709f3-2787-4971-b770-cd57c6cdf992\" class=\"colab-df-container\">\n",
              "    <div>\n",
              "<style scoped>\n",
              "    .dataframe tbody tr th:only-of-type {\n",
              "        vertical-align: middle;\n",
              "    }\n",
              "\n",
              "    .dataframe tbody tr th {\n",
              "        vertical-align: top;\n",
              "    }\n",
              "\n",
              "    .dataframe thead th {\n",
              "        text-align: right;\n",
              "    }\n",
              "</style>\n",
              "<table border=\"1\" class=\"dataframe\">\n",
              "  <thead>\n",
              "    <tr style=\"text-align: right;\">\n",
              "      <th></th>\n",
              "      <th>Computer_Science</th>\n",
              "      <th>Chemistry</th>\n",
              "      <th>Mathematics</th>\n",
              "      <th>Physics</th>\n",
              "    </tr>\n",
              "  </thead>\n",
              "  <tbody>\n",
              "    <tr>\n",
              "      <th>count</th>\n",
              "      <td>600.000000</td>\n",
              "      <td>600.000000</td>\n",
              "      <td>600.000000</td>\n",
              "      <td>600.000000</td>\n",
              "    </tr>\n",
              "    <tr>\n",
              "      <th>mean</th>\n",
              "      <td>84.920467</td>\n",
              "      <td>85.727483</td>\n",
              "      <td>81.733783</td>\n",
              "      <td>82.684317</td>\n",
              "    </tr>\n",
              "    <tr>\n",
              "      <th>std</th>\n",
              "      <td>9.901397</td>\n",
              "      <td>9.765809</td>\n",
              "      <td>10.468294</td>\n",
              "      <td>10.263065</td>\n",
              "    </tr>\n",
              "    <tr>\n",
              "      <th>min</th>\n",
              "      <td>55.390000</td>\n",
              "      <td>58.900000</td>\n",
              "      <td>40.170000</td>\n",
              "      <td>40.710000</td>\n",
              "    </tr>\n",
              "    <tr>\n",
              "      <th>25%</th>\n",
              "      <td>78.215000</td>\n",
              "      <td>79.147500</td>\n",
              "      <td>75.345000</td>\n",
              "      <td>75.820000</td>\n",
              "    </tr>\n",
              "    <tr>\n",
              "      <th>50%</th>\n",
              "      <td>84.990000</td>\n",
              "      <td>85.700000</td>\n",
              "      <td>82.115000</td>\n",
              "      <td>82.920000</td>\n",
              "    </tr>\n",
              "    <tr>\n",
              "      <th>75%</th>\n",
              "      <td>91.180000</td>\n",
              "      <td>91.662500</td>\n",
              "      <td>88.092500</td>\n",
              "      <td>89.672500</td>\n",
              "    </tr>\n",
              "    <tr>\n",
              "      <th>max</th>\n",
              "      <td>119.390000</td>\n",
              "      <td>114.270000</td>\n",
              "      <td>110.820000</td>\n",
              "      <td>111.650000</td>\n",
              "    </tr>\n",
              "  </tbody>\n",
              "</table>\n",
              "</div>\n",
              "    <div class=\"colab-df-buttons\">\n",
              "\n",
              "  <div class=\"colab-df-container\">\n",
              "    <button class=\"colab-df-convert\" onclick=\"convertToInteractive('df-ab6709f3-2787-4971-b770-cd57c6cdf992')\"\n",
              "            title=\"Convert this dataframe to an interactive table.\"\n",
              "            style=\"display:none;\">\n",
              "\n",
              "  <svg xmlns=\"http://www.w3.org/2000/svg\" height=\"24px\" viewBox=\"0 -960 960 960\">\n",
              "    <path d=\"M120-120v-720h720v720H120Zm60-500h600v-160H180v160Zm220 220h160v-160H400v160Zm0 220h160v-160H400v160ZM180-400h160v-160H180v160Zm440 0h160v-160H620v160ZM180-180h160v-160H180v160Zm440 0h160v-160H620v160Z\"/>\n",
              "  </svg>\n",
              "    </button>\n",
              "\n",
              "  <style>\n",
              "    .colab-df-container {\n",
              "      display:flex;\n",
              "      gap: 12px;\n",
              "    }\n",
              "\n",
              "    .colab-df-convert {\n",
              "      background-color: #E8F0FE;\n",
              "      border: none;\n",
              "      border-radius: 50%;\n",
              "      cursor: pointer;\n",
              "      display: none;\n",
              "      fill: #1967D2;\n",
              "      height: 32px;\n",
              "      padding: 0 0 0 0;\n",
              "      width: 32px;\n",
              "    }\n",
              "\n",
              "    .colab-df-convert:hover {\n",
              "      background-color: #E2EBFA;\n",
              "      box-shadow: 0px 1px 2px rgba(60, 64, 67, 0.3), 0px 1px 3px 1px rgba(60, 64, 67, 0.15);\n",
              "      fill: #174EA6;\n",
              "    }\n",
              "\n",
              "    .colab-df-buttons div {\n",
              "      margin-bottom: 4px;\n",
              "    }\n",
              "\n",
              "    [theme=dark] .colab-df-convert {\n",
              "      background-color: #3B4455;\n",
              "      fill: #D2E3FC;\n",
              "    }\n",
              "\n",
              "    [theme=dark] .colab-df-convert:hover {\n",
              "      background-color: #434B5C;\n",
              "      box-shadow: 0px 1px 3px 1px rgba(0, 0, 0, 0.15);\n",
              "      filter: drop-shadow(0px 1px 2px rgba(0, 0, 0, 0.3));\n",
              "      fill: #FFFFFF;\n",
              "    }\n",
              "  </style>\n",
              "\n",
              "    <script>\n",
              "      const buttonEl =\n",
              "        document.querySelector('#df-ab6709f3-2787-4971-b770-cd57c6cdf992 button.colab-df-convert');\n",
              "      buttonEl.style.display =\n",
              "        google.colab.kernel.accessAllowed ? 'block' : 'none';\n",
              "\n",
              "      async function convertToInteractive(key) {\n",
              "        const element = document.querySelector('#df-ab6709f3-2787-4971-b770-cd57c6cdf992');\n",
              "        const dataTable =\n",
              "          await google.colab.kernel.invokeFunction('convertToInteractive',\n",
              "                                                    [key], {});\n",
              "        if (!dataTable) return;\n",
              "\n",
              "        const docLinkHtml = 'Like what you see? Visit the ' +\n",
              "          '<a target=\"_blank\" href=https://colab.research.google.com/notebooks/data_table.ipynb>data table notebook</a>'\n",
              "          + ' to learn more about interactive tables.';\n",
              "        element.innerHTML = '';\n",
              "        dataTable['output_type'] = 'display_data';\n",
              "        await google.colab.output.renderOutput(dataTable, element);\n",
              "        const docLink = document.createElement('div');\n",
              "        docLink.innerHTML = docLinkHtml;\n",
              "        element.appendChild(docLink);\n",
              "      }\n",
              "    </script>\n",
              "  </div>\n",
              "\n",
              "\n",
              "    <div id=\"df-6ad7df2b-0d17-4d4f-846c-9fbece366aac\">\n",
              "      <button class=\"colab-df-quickchart\" onclick=\"quickchart('df-6ad7df2b-0d17-4d4f-846c-9fbece366aac')\"\n",
              "                title=\"Suggest charts\"\n",
              "                style=\"display:none;\">\n",
              "\n",
              "<svg xmlns=\"http://www.w3.org/2000/svg\" height=\"24px\"viewBox=\"0 0 24 24\"\n",
              "     width=\"24px\">\n",
              "    <g>\n",
              "        <path d=\"M19 3H5c-1.1 0-2 .9-2 2v14c0 1.1.9 2 2 2h14c1.1 0 2-.9 2-2V5c0-1.1-.9-2-2-2zM9 17H7v-7h2v7zm4 0h-2V7h2v10zm4 0h-2v-4h2v4z\"/>\n",
              "    </g>\n",
              "</svg>\n",
              "      </button>\n",
              "\n",
              "<style>\n",
              "  .colab-df-quickchart {\n",
              "      --bg-color: #E8F0FE;\n",
              "      --fill-color: #1967D2;\n",
              "      --hover-bg-color: #E2EBFA;\n",
              "      --hover-fill-color: #174EA6;\n",
              "      --disabled-fill-color: #AAA;\n",
              "      --disabled-bg-color: #DDD;\n",
              "  }\n",
              "\n",
              "  [theme=dark] .colab-df-quickchart {\n",
              "      --bg-color: #3B4455;\n",
              "      --fill-color: #D2E3FC;\n",
              "      --hover-bg-color: #434B5C;\n",
              "      --hover-fill-color: #FFFFFF;\n",
              "      --disabled-bg-color: #3B4455;\n",
              "      --disabled-fill-color: #666;\n",
              "  }\n",
              "\n",
              "  .colab-df-quickchart {\n",
              "    background-color: var(--bg-color);\n",
              "    border: none;\n",
              "    border-radius: 50%;\n",
              "    cursor: pointer;\n",
              "    display: none;\n",
              "    fill: var(--fill-color);\n",
              "    height: 32px;\n",
              "    padding: 0;\n",
              "    width: 32px;\n",
              "  }\n",
              "\n",
              "  .colab-df-quickchart:hover {\n",
              "    background-color: var(--hover-bg-color);\n",
              "    box-shadow: 0 1px 2px rgba(60, 64, 67, 0.3), 0 1px 3px 1px rgba(60, 64, 67, 0.15);\n",
              "    fill: var(--button-hover-fill-color);\n",
              "  }\n",
              "\n",
              "  .colab-df-quickchart-complete:disabled,\n",
              "  .colab-df-quickchart-complete:disabled:hover {\n",
              "    background-color: var(--disabled-bg-color);\n",
              "    fill: var(--disabled-fill-color);\n",
              "    box-shadow: none;\n",
              "  }\n",
              "\n",
              "  .colab-df-spinner {\n",
              "    border: 2px solid var(--fill-color);\n",
              "    border-color: transparent;\n",
              "    border-bottom-color: var(--fill-color);\n",
              "    animation:\n",
              "      spin 1s steps(1) infinite;\n",
              "  }\n",
              "\n",
              "  @keyframes spin {\n",
              "    0% {\n",
              "      border-color: transparent;\n",
              "      border-bottom-color: var(--fill-color);\n",
              "      border-left-color: var(--fill-color);\n",
              "    }\n",
              "    20% {\n",
              "      border-color: transparent;\n",
              "      border-left-color: var(--fill-color);\n",
              "      border-top-color: var(--fill-color);\n",
              "    }\n",
              "    30% {\n",
              "      border-color: transparent;\n",
              "      border-left-color: var(--fill-color);\n",
              "      border-top-color: var(--fill-color);\n",
              "      border-right-color: var(--fill-color);\n",
              "    }\n",
              "    40% {\n",
              "      border-color: transparent;\n",
              "      border-right-color: var(--fill-color);\n",
              "      border-top-color: var(--fill-color);\n",
              "    }\n",
              "    60% {\n",
              "      border-color: transparent;\n",
              "      border-right-color: var(--fill-color);\n",
              "    }\n",
              "    80% {\n",
              "      border-color: transparent;\n",
              "      border-right-color: var(--fill-color);\n",
              "      border-bottom-color: var(--fill-color);\n",
              "    }\n",
              "    90% {\n",
              "      border-color: transparent;\n",
              "      border-bottom-color: var(--fill-color);\n",
              "    }\n",
              "  }\n",
              "</style>\n",
              "\n",
              "      <script>\n",
              "        async function quickchart(key) {\n",
              "          const quickchartButtonEl =\n",
              "            document.querySelector('#' + key + ' button');\n",
              "          quickchartButtonEl.disabled = true;  // To prevent multiple clicks.\n",
              "          quickchartButtonEl.classList.add('colab-df-spinner');\n",
              "          try {\n",
              "            const charts = await google.colab.kernel.invokeFunction(\n",
              "                'suggestCharts', [key], {});\n",
              "          } catch (error) {\n",
              "            console.error('Error during call to suggestCharts:', error);\n",
              "          }\n",
              "          quickchartButtonEl.classList.remove('colab-df-spinner');\n",
              "          quickchartButtonEl.classList.add('colab-df-quickchart-complete');\n",
              "        }\n",
              "        (() => {\n",
              "          let quickchartButtonEl =\n",
              "            document.querySelector('#df-6ad7df2b-0d17-4d4f-846c-9fbece366aac button');\n",
              "          quickchartButtonEl.style.display =\n",
              "            google.colab.kernel.accessAllowed ? 'block' : 'none';\n",
              "        })();\n",
              "      </script>\n",
              "    </div>\n",
              "\n",
              "    </div>\n",
              "  </div>\n"
            ],
            "application/vnd.google.colaboratory.intrinsic+json": {
              "type": "dataframe",
              "summary": "{\n  \"name\": \"df\",\n  \"rows\": 8,\n  \"fields\": [\n    {\n      \"column\": \"Computer_Science\",\n      \"properties\": {\n        \"dtype\": \"number\",\n        \"std\": 188.36435720943035,\n        \"min\": 9.90139725298866,\n        \"max\": 600.0,\n        \"num_unique_values\": 8,\n        \"samples\": [\n          84.92046666666667,\n          84.99,\n          600.0\n        ],\n        \"semantic_type\": \"\",\n        \"description\": \"\"\n      }\n    },\n    {\n      \"column\": \"Chemistry\",\n      \"properties\": {\n        \"dtype\": \"number\",\n        \"std\": 188.12244442421309,\n        \"min\": 9.76580934792857,\n        \"max\": 600.0,\n        \"num_unique_values\": 8,\n        \"samples\": [\n          85.72748333333334,\n          85.7,\n          600.0\n        ],\n        \"semantic_type\": \"\",\n        \"description\": \"\"\n      }\n    },\n    {\n      \"column\": \"Mathematics\",\n      \"properties\": {\n        \"dtype\": \"number\",\n        \"std\": 189.99779479572268,\n        \"min\": 10.468294393017766,\n        \"max\": 600.0,\n        \"num_unique_values\": 8,\n        \"samples\": [\n          81.73378333333334,\n          82.115,\n          600.0\n        ],\n        \"semantic_type\": \"\",\n        \"description\": \"\"\n      }\n    },\n    {\n      \"column\": \"Physics\",\n      \"properties\": {\n        \"dtype\": \"number\",\n        \"std\": 189.81295754371772,\n        \"min\": 10.263064911061901,\n        \"max\": 600.0,\n        \"num_unique_values\": 8,\n        \"samples\": [\n          82.68431666666666,\n          82.91999999999999,\n          600.0\n        ],\n        \"semantic_type\": \"\",\n        \"description\": \"\"\n      }\n    }\n  ]\n}"
            }
          },
          "metadata": {},
          "execution_count": 8
        }
      ]
    },
    {
      "cell_type": "markdown",
      "source": [
        "## **Exploratory Data Analysis**"
      ],
      "metadata": {
        "id": "eiz5_WQtuKCa"
      }
    },
    {
      "cell_type": "code",
      "source": [
        "# plotting histograms of the distribution of the scores\n",
        "fig, axes = plt.subplots(2, 2, figsize=(10, 6))\n",
        "sns.histplot(df['Computer_Science'], kde=True, ax=axes[0, 0])\n",
        "sns.histplot(df['Chemistry'], kde=True, ax=axes[0, 1])\n",
        "sns.histplot(df['Mathematics'], kde=True, ax=axes[1, 0])\n",
        "sns.histplot(df['Physics'], kde=True, ax=axes[1, 1])\n",
        "plt.tight_layout()\n",
        "plt.show()"
      ],
      "metadata": {
        "colab": {
          "base_uri": "https://localhost:8080/",
          "height": 607
        },
        "id": "fnef27ReyXLS",
        "outputId": "86662eed-89be-476b-f12c-6b2022da4981"
      },
      "execution_count": null,
      "outputs": [
        {
          "output_type": "display_data",
          "data": {
            "text/plain": [
              "<Figure size 1000x600 with 4 Axes>"
            ],
            "image/png": "[encoded data removed]"
          },
          "metadata": {}
        }
      ]
    },
    {
      "cell_type": "code",
      "source": [
        "# plotting boxplots to check outliers for scores\n",
        "fig, axes = plt.subplots(2, 2, figsize=(10, 6))\n",
        "sns.boxplot(x =df.Computer_Science, ax=axes[0, 0])\n",
        "sns.boxplot(x =df.Chemistry, ax=axes[0, 1])\n",
        "sns.boxplot(x =df.Mathematics, ax=axes[1, 0])\n",
        "sns.boxplot(x =df.Physics, ax=axes[1, 1])\n",
        "plt.show()"
      ],
      "metadata": {
        "colab": {
          "base_uri": "https://localhost:8080/",
          "height": 542
        },
        "id": "YKbghG8o0mxD",
        "outputId": "9886f406-6b8a-4cdb-98ed-09893fd735a7"
      },
      "execution_count": null,
      "outputs": [
        {
          "output_type": "display_data",
          "data": {
            "text/plain": [
              "<Figure size 1000x600 with 4 Axes>"
            ],
            "image/png": "[encoded data removed]"
          },
          "metadata": {}
        }
      ]
    },
    {
      "cell_type": "markdown",
      "source": [
        "## **Reliable estimate of the average score using confidence intervals**"
      ],
      "metadata": {
        "id": "Sp8KH9AJy7ap"
      }
    },
    {
      "cell_type": "markdown",
      "source": [
        "To provide a more reliable estimate of the average score using a range of scores instead of a single estimate, we will construct a 95% confidence interval for the mean score that an aspirant has scored after enrolling in the institute’s program."
      ],
      "metadata": {
        "id": "QHftqiznzIP5"
      }
    },
    {
      "cell_type": "markdown",
      "source": [
        "* We saw that the distribution of the scores is not strictly normal\n",
        "* For constructing a confidence interval for the mean score, we need to know the underlying distribution of the mean score, which is not available\n",
        "* The Central Limit Theorem (CLT) can help us with this"
      ],
      "metadata": {
        "id": "fxmsoOBWzKeW"
      }
    },
    {
      "cell_type": "markdown",
      "source": [
        "**What is Central Limit Theorem (CLT)?**\n",
        "\n",
        "The Central Limit Theorem states that the sampling distribution of the sample means will approach a normal distribution as the sample size gets bigger, no matter what the shape of the population distribution is.\n",
        "\n",
        "Mathematically, if we are drawing multiple samples of size $n$ from a population with mean $\\mu$ and standard deviation $\\sigma$ and $\\bar{X}$ is the random variable representing the sample mean, then $\\bar{X}$ tends to follow a normal distribution as $n$ increases.\n",
        "\n",
        "* The mean of $\\bar{X}$ is equal to $\\mu$\n",
        "* The standard deviation of $\\bar{X}$ (also called as the standard error) is equal to $\\sigma/\\sqrt{n}$"
      ],
      "metadata": {
        "id": "8_MeENS6zQgN"
      }
    },
    {
      "cell_type": "markdown",
      "source": [
        "**As the data consists of 600 scores (data points), so $n=600 (>30)$. So, using CLT, we can say that the mean score will be approximately normally distributed.**"
      ],
      "metadata": {
        "id": "_mITasIrzUED"
      }
    },
    {
      "cell_type": "markdown",
      "source": [
        "As the population standard deviation is known, the normal distribution will be used to calculate the confidence interval. The 95% confidence interval for the population mean can be calculated by using the `interval()` function of the `norm` class of `scipy.stats`\n",
        "\n",
        "* The `interval()` function calculates the endpoints within which the specified percentage of values of the distribution lie, where\n",
        "  * `alpha` denotes the confidence level\n",
        "  * `loc` denotes the mean\n",
        "  * `scale` denotes the standard deviation"
      ],
      "metadata": {
        "id": "OXQPITYGzWIL"
      }
    },
    {
      "cell_type": "markdown",
      "source": [
        "It is known that the standard deviation of the scores is 10."
      ],
      "metadata": {
        "id": "ACfqF0uzlYRE"
      }
    },
    {
      "cell_type": "code",
      "source": [
        "# Given population standard deviation\n",
        "sigma = 10"
      ],
      "metadata": {
        "id": "4T-lnE4bks9N"
      },
      "execution_count": null,
      "outputs": []
    },
    {
      "cell_type": "markdown",
      "source": [
        "We have 600 observations (scores) for each subject."
      ],
      "metadata": {
        "id": "93ie1Qi2lJYX"
      }
    },
    {
      "cell_type": "code",
      "source": [
        "# Sample size\n",
        "n = 600"
      ],
      "metadata": {
        "id": "mp3Yju8-kw5g"
      },
      "execution_count": null,
      "outputs": []
    },
    {
      "cell_type": "markdown",
      "source": [
        "We want to build 95\\% confidence intervals."
      ],
      "metadata": {
        "id": "JduVbJxSk68W"
      }
    },
    {
      "cell_type": "code",
      "source": [
        "# Confidence level (alpha) for the confidence interval\n",
        "alpha = 0.95"
      ],
      "metadata": {
        "id": "oRCivhTGk2Sg"
      },
      "execution_count": null,
      "outputs": []
    },
    {
      "cell_type": "markdown",
      "source": [
        "### **Confidence Interval Calculation for '*Computer_Science*' Scores**"
      ],
      "metadata": {
        "id": "NA5nWxTAVbZ4"
      }
    },
    {
      "cell_type": "code",
      "source": [
        "# Calculate the value of the sample mean for the 'Computer_Science' subject\n",
        "score_1 = df['Computer_Science'].mean()"
      ],
      "metadata": {
        "id": "FomBolG5fe3O"
      },
      "execution_count": null,
      "outputs": []
    },
    {
      "cell_type": "code",
      "source": [
        "# Construct the 95% confidence interval for the mean score in 'Computer_Science'\n",
        "confidence_interval = np.round(norm.interval(alpha, loc=score_1, scale=sigma / np.sqrt(n)), 2)\n",
        "\n",
        "# Display the confidence interval\n",
        "print(\"95% Confidence Interval:\", confidence_interval)"
      ],
      "metadata": {
        "id": "Tuhwpdgnvd4_",
        "colab": {
          "base_uri": "https://localhost:8080/"
        },
        "outputId": "8a256e5a-1940-48e3-f729-9cc8a15e3f9b"
      },
      "execution_count": null,
      "outputs": [
        {
          "output_type": "stream",
          "name": "stdout",
          "text": [
            "95% Confidence Interval: [84.12 85.72]\n"
          ]
        }
      ]
    },
    {
      "cell_type": "markdown",
      "source": [
        "* The 95% confidence interval calculated for the mean score in *Computer Science* is [84.12, 85.72].\n",
        "* **This implies that there is a 95% probability that a student participating in the institute's program for *Computer Science* will achieve, on average, a score falling within the range of 84.12 to 85.72**"
      ],
      "metadata": {
        "id": "eQxiH97SV4D3"
      }
    },
    {
      "cell_type": "markdown",
      "source": [
        "###**Confidence Interval Calculation for '*Chemistry*' Scores**"
      ],
      "metadata": {
        "id": "ByIK9VkfVkn4"
      }
    },
    {
      "cell_type": "code",
      "source": [
        "# Calculate the value of the sample mean for the 'Computer_Science' subject\n",
        "score_2 = df['Chemistry'].mean()"
      ],
      "metadata": {
        "id": "nLS3UhWFFv0S"
      },
      "execution_count": null,
      "outputs": []
    },
    {
      "cell_type": "code",
      "source": [
        "# Construct the 95% confidence interval for the mean score in 'Chemistry'\n",
        "confidence_interval = np.round(norm.interval(alpha, loc=score_2, scale=sigma / np.sqrt(n)), 2)\n",
        "\n",
        "# Display the confidence interval\n",
        "print(\"95% Confidence Interval:\", confidence_interval)"
      ],
      "metadata": {
        "colab": {
          "base_uri": "https://localhost:8080/"
        },
        "id": "xu7EYkDrOJCy",
        "outputId": "8af08d49-949c-4233-c061-e99cda7563c2"
      },
      "execution_count": null,
      "outputs": [
        {
          "output_type": "stream",
          "name": "stdout",
          "text": [
            "95% Confidence Interval: [84.93 86.53]\n"
          ]
        }
      ]
    },
    {
      "cell_type": "markdown",
      "source": [
        "* The 95% confidence interval calculated for the mean score in *Chemistry* is [84.93 86.53].\n",
        "* **This implies that there is a 95% probability that a student participating in the institute's program for *Chemistry* will achieve, on average, a score falling within the range of 84.93 to 86.53**"
      ],
      "metadata": {
        "id": "-DVjySVqWWFs"
      }
    },
    {
      "cell_type": "markdown",
      "source": [
        "###**Confidence Interval Calculation for '*Mathematics*' Scores**"
      ],
      "metadata": {
        "id": "bBGPAV0wVn3A"
      }
    },
    {
      "cell_type": "code",
      "source": [
        "# Calculate the value of the sample mean for the 'Computer_Science' subject\n",
        "score_3 = df['Mathematics'].mean()"
      ],
      "metadata": {
        "id": "RXTskJbiQhiH"
      },
      "execution_count": null,
      "outputs": []
    },
    {
      "cell_type": "code",
      "source": [
        "# Construct the 95% confidence interval for the mean score in 'Computer_Science'\n",
        "confidence_interval = np.round(norm.interval(alpha, loc=score_3, scale=sigma / np.sqrt(n)), 2)\n",
        "\n",
        "# Display the confidence interval\n",
        "print(\"95% Confidence Interval:\", confidence_interval)"
      ],
      "metadata": {
        "colab": {
          "base_uri": "https://localhost:8080/"
        },
        "id": "Wn_jMldyONfI",
        "outputId": "7ffb2ac8-76c7-441f-e147-83a29f98b2c0"
      },
      "execution_count": null,
      "outputs": [
        {
          "output_type": "stream",
          "name": "stdout",
          "text": [
            "95% Confidence Interval: [80.93 82.53]\n"
          ]
        }
      ]
    },
    {
      "cell_type": "markdown",
      "source": [
        "* The 95% confidence interval calculated for the mean score in *Mathematics* is [80.93 82.53].\n",
        "* **This implies that there is a 95% probability that a student participating in the institute's program for *Mathematics* will achieve, on average, a score falling within the range of 80.93 to 82.53**"
      ],
      "metadata": {
        "id": "jnfop5Afbl3o"
      }
    },
    {
      "cell_type": "markdown",
      "source": [
        "###**Confidence Interval Calculation for '*Physics*' Scores**"
      ],
      "metadata": {
        "id": "SyXVPjmbVsJ4"
      }
    },
    {
      "cell_type": "code",
      "source": [
        "# Calculate the value of the sample mean for the 'Computer_Science' subject\n",
        "score_4 = df['Physics'].mean()"
      ],
      "metadata": {
        "id": "Zj_RYQ_kQpMg"
      },
      "execution_count": null,
      "outputs": []
    },
    {
      "cell_type": "code",
      "source": [
        "# Construct the 95% confidence interval for the mean score in 'Computer_Science'\n",
        "confidence_interval = np.round(norm.interval(alpha, loc=score_4, scale=sigma / np.sqrt(n)), 2)\n",
        "\n",
        "# Display the confidence interval\n",
        "print(\"95% Confidence Interval:\", confidence_interval)"
      ],
      "metadata": {
        "colab": {
          "base_uri": "https://localhost:8080/"
        },
        "id": "0SX0OthdORJ8",
        "outputId": "c45ec3d3-b96f-4c1d-e43e-c9bfb7956860"
      },
      "execution_count": null,
      "outputs": [
        {
          "output_type": "stream",
          "name": "stdout",
          "text": [
            "95% Confidence Interval: [81.88 83.48]\n"
          ]
        }
      ]
    },
    {
      "cell_type": "markdown",
      "source": [
        "* The 95% confidence interval calculated for the mean score in *Physics* is [81.88 83.48].\n",
        "* **This implies that there is a 95% probability that a student participating in the institute's program for *Physics* will achieve, on average, a score falling within the range of 81.88 to 83.48**"
      ],
      "metadata": {
        "id": "31jgzhLgb8Jg"
      }
    },
    {
      "cell_type": "markdown",
      "source": [
        "## **Validating the critic's claim using a hypothesis test**"
      ],
      "metadata": {
        "id": "pSXjoex_dUMC"
      }
    },
    {
      "cell_type": "markdown",
      "source": [
        "To test the validity of the critic's claim that the mean score of the students from A2Z institute in subjects like physics and mathematics is less than last year’s cut-off score of 82. we will perform a hypothesis test the level of significance 5%\n",
        "\n"
      ],
      "metadata": {
        "id": "2BXBwKZgdclx"
      }
    },
    {
      "cell_type": "markdown",
      "source": [
        "**Null and alternative hypotheses**\n",
        "\n",
        "Let $\\mu$ be the mean final score of all aspirants who enroll in the institute's program for physics and mathematics.\n",
        "\n",
        "The null hypothesis can be written as\n",
        "\n",
        ">$H_0: \\mu >= 82$\n",
        "\n",
        "against the alternate hypothesis\n",
        "\n",
        ">$H_a: \\mu < 82$"
      ],
      "metadata": {
        "id": "L0PKfczLdeyZ"
      }
    },
    {
      "cell_type": "markdown",
      "source": [
        "**Note**: The above hypotheses are true for both Physics and Mathematics."
      ],
      "metadata": {
        "id": "5UdET2CifxTi"
      }
    },
    {
      "cell_type": "markdown",
      "source": [
        "It is known that the standard deviation of the scores is 10."
      ],
      "metadata": {
        "id": "PwNDAjIpnAB2"
      }
    },
    {
      "cell_type": "code",
      "source": [
        "# Given population standard deviation\n",
        "sigma = 10"
      ],
      "metadata": {
        "id": "a2MuxMsNnACE"
      },
      "execution_count": null,
      "outputs": []
    },
    {
      "cell_type": "markdown",
      "source": [
        "###**Mathematics**"
      ],
      "metadata": {
        "id": "DG8qszGkOc3Q"
      }
    },
    {
      "cell_type": "markdown",
      "source": [
        "**Calculate the Z-statistic value**"
      ],
      "metadata": {
        "id": "hiOzXQG3Op0c"
      }
    },
    {
      "cell_type": "code",
      "source": [
        "# set the values of population mean and population standard deviation\n",
        "mu = 82\n",
        "\n",
        "# calculate the value of the sample mean from the data\n",
        "score_3 = df.Mathematics.mean()\n",
        "\n",
        "# calculate the test statistic\n",
        "Mathematics_Score = (score_3 - mu) / (sigma/np.sqrt(600))\n",
        "Mathematics_Score"
      ],
      "metadata": {
        "colab": {
          "base_uri": "https://localhost:8080/"
        },
        "id": "szdE_3nOnvXb",
        "outputId": "72955c7b-80c6-4c87-b4b8-ea2eaf5062a8"
      },
      "execution_count": null,
      "outputs": [
        {
          "output_type": "execute_result",
          "data": {
            "text/plain": [
              "np.float64(-0.6520949943579243)"
            ]
          },
          "metadata": {},
          "execution_count": 23
        }
      ]
    },
    {
      "cell_type": "markdown",
      "source": [
        "**The Z-test statistic follows a standard normal distribution.**\n",
        "\n",
        "Let's plot the distribution of the Z-test statistic and see where the computed test statistic lies in the plot."
      ],
      "metadata": {
        "id": "CtVFy9M9OszU"
      }
    },
    {
      "cell_type": "code",
      "source": [
        "# plotting the distribution of Z test statistic along with the computed test statistic\n",
        "# We are plotting the distributions here to better visualize the calculations\n",
        "x = np.linspace(-4, 4, 100) # create an array of 100 numbers starting from -4 and ending at 4\n",
        "plt.plot(x, norm.pdf(x, 0, 1)) # plot the pdf of the normal distribution\n",
        "plt.axvline(x = Mathematics_Score, c = 'r') # draw a vertical red line through the mentioned point\n",
        "plt.xlabel('Z Test Statistic - Mathematics')  # specify the x-axis label\n",
        "plt.ylabel('Probability Density Function (PDF)')  # specify the y-axis label\n",
        "plt.show() # display the plot"
      ],
      "metadata": {
        "id": "eT_FDRtPOvy4",
        "colab": {
          "base_uri": "https://localhost:8080/",
          "height": 449
        },
        "outputId": "9bcaca98-2d75-46b9-f305-690a0c8757f5"
      },
      "execution_count": null,
      "outputs": [
        {
          "output_type": "display_data",
          "data": {
            "text/plain": [
              "<Figure size 640x480 with 1 Axes>"
            ],
            "image/png": "[encoded data removed]"
          },
          "metadata": {}
        }
      ]
    },
    {
      "cell_type": "markdown",
      "source": [
        "**P-Value**\n",
        "\n",
        "As this is a left-tailed test, the p-value will be the area to the left of the test statistic under the standard normal curve."
      ],
      "metadata": {
        "id": "rn0IzhLfPYSc"
      }
    },
    {
      "cell_type": "code",
      "source": [
        "# calculate the p-value using the cdf() function\n",
        "norm.cdf(Mathematics_Score)"
      ],
      "metadata": {
        "id": "EZUi7aQzPNGU",
        "colab": {
          "base_uri": "https://localhost:8080/"
        },
        "outputId": "611a7605-4d5b-43cf-f138-9f9f2efc4b0d"
      },
      "execution_count": null,
      "outputs": [
        {
          "output_type": "execute_result",
          "data": {
            "text/plain": [
              "np.float64(0.25716994651598596)"
            ]
          },
          "metadata": {},
          "execution_count": 25
        }
      ]
    },
    {
      "cell_type": "markdown",
      "source": [
        "**Observation**\n",
        "\n",
        "* As the p-value ~0.26 is greater than the level of significance (0.05), we fail to reject the null hypothesis\n",
        "* We do not have enough statistical evidence to say that the mathematics score of all aspirants who enroll in the institute's program is less than last year's cutoff of 82\n"
      ],
      "metadata": {
        "id": "FAlDPLtflnqk"
      }
    },
    {
      "cell_type": "markdown",
      "source": [
        "###**Physics**"
      ],
      "metadata": {
        "id": "TyZA0UhjOh1E"
      }
    },
    {
      "cell_type": "markdown",
      "source": [
        "**Calculate the Z-statistic value**"
      ],
      "metadata": {
        "id": "PYeNJVrVOzE2"
      }
    },
    {
      "cell_type": "code",
      "source": [
        "# set the values of population mean and population standard deviation\n",
        "mu = 82\n",
        "\n",
        "# calculate the value of the sample mean from the data\n",
        "score_4 = df.Physics.mean()\n",
        "\n",
        "\n",
        "# calculate the test statistic\n",
        "Physics_Score = (score_4 - mu) / (sigma/np.sqrt(600))\n",
        "Physics_Score"
      ],
      "metadata": {
        "id": "yILmDQUVn1iA",
        "colab": {
          "base_uri": "https://localhost:8080/"
        },
        "outputId": "81056c31-b81a-4ee7-9e09-e387d8a9c76e"
      },
      "execution_count": null,
      "outputs": [
        {
          "output_type": "execute_result",
          "data": {
            "text/plain": [
              "np.float64(1.67622665581556)"
            ]
          },
          "metadata": {},
          "execution_count": 26
        }
      ]
    },
    {
      "cell_type": "markdown",
      "source": [
        "**The Z-test statistic follows a standard normal distribution.**\n",
        "\n",
        "Let's plot the distribution of the Z-test statistic and see where the computed test statistic lies in the plot."
      ],
      "metadata": {
        "id": "1CluO23uqop7"
      }
    },
    {
      "cell_type": "code",
      "source": [
        "# plotting the distribution of Z test statistic along with the computed test statistic\n",
        "# We are plotting the distributions here to better visualize the calculations\n",
        "x = np.linspace(-4, 4, 100) # create an array of 100 numbers starting from -4 and ending at 4\n",
        "plt.plot(x, norm.pdf(x, 0, 1)) # plot the pdf of the normal distribution\n",
        "plt.axvline(x = Physics_Score, c = 'r') # draw a vertical red line through the mentioned point\n",
        "plt.xlabel('Z Test Statistic - Physics')  # specify the x-axis label\n",
        "plt.ylabel('Probability Density Function (PDF)')  # specify the y-axis label\n",
        "plt.show() # display the plot"
      ],
      "metadata": {
        "id": "VdKWSLKVPFgV",
        "colab": {
          "base_uri": "https://localhost:8080/",
          "height": 449
        },
        "outputId": "48181ded-ee46-454c-d64e-675874678409"
      },
      "execution_count": null,
      "outputs": [
        {
          "output_type": "display_data",
          "data": {
            "text/plain": [
              "<Figure size 640x480 with 1 Axes>"
            ],
            "image/png": "[encoded data removed]"
          },
          "metadata": {}
        }
      ]
    },
    {
      "cell_type": "markdown",
      "source": [
        "**P-Value**\n",
        "\n",
        "As this is a left-tailed test, the p-value will be the area to the left of the test statistic under the standard normal curve."
      ],
      "metadata": {
        "id": "nXk1xXYxPWl9"
      }
    },
    {
      "cell_type": "code",
      "source": [
        "# calculate the p-value using the cdf() function\n",
        "norm.cdf(Physics_Score)"
      ],
      "metadata": {
        "id": "uOURMOpLPPuL",
        "colab": {
          "base_uri": "https://localhost:8080/"
        },
        "outputId": "e1f42d7e-686c-4df4-fa90-4fc8075b4a62"
      },
      "execution_count": null,
      "outputs": [
        {
          "output_type": "execute_result",
          "data": {
            "text/plain": [
              "np.float64(0.9531530975653459)"
            ]
          },
          "metadata": {},
          "execution_count": 28
        }
      ]
    },
    {
      "cell_type": "markdown",
      "source": [
        "**Observation**\n",
        "\n",
        "* As the p-value ~0.96 is greater than the level of significance (0.05), we fail to reject the null hypothesis\n",
        "* We do not have enough statistical evidence to say that the physics score of all aspirants who enroll in the institute's program is less than last year's cutoff of 82\n"
      ],
      "metadata": {
        "id": "8eNazaVWmTJh"
      }
    },
    {
      "cell_type": "markdown",
      "source": [
        "## **Validating the claim by investor using a hypothesis test**"
      ],
      "metadata": {
        "id": "_RWJmUSpjWYm"
      }
    },
    {
      "cell_type": "markdown",
      "source": [
        "To test the validity of the investor's belief that the mean score of the students from A2Z institute having subjects Computer Science and Chemistry is greater than or equal to the cutoff score of 85. we will perform a hypothesis test we will perform a hypothesis test  the level of significance 5%\n",
        "\n"
      ],
      "metadata": {
        "id": "PrjSgiE0jsPW"
      }
    },
    {
      "cell_type": "markdown",
      "source": [
        "**Null and alternative hypotheses**\n",
        "\n",
        "Let $\\mu$ be the mean final score of all aspirants who enroll in the institute's program with Computer Science and Chemistry.\n",
        "\n",
        "The null hypothesis can be written as\n",
        "\n",
        ">$H_0: \\mu <= 85$\n",
        "\n",
        "against the alternate hypothesis\n",
        "\n",
        ">$H_a: \\mu > 85$"
      ],
      "metadata": {
        "id": "BfJrVrJupSUV"
      }
    },
    {
      "cell_type": "markdown",
      "source": [
        "It is known that the standard deviation of the scores is 10."
      ],
      "metadata": {
        "id": "SHYjizd_nsZB"
      }
    },
    {
      "cell_type": "code",
      "source": [
        "# Given population standard deviation\n",
        "sigma = 10"
      ],
      "metadata": {
        "id": "PAih-BKnnsZQ"
      },
      "execution_count": null,
      "outputs": []
    },
    {
      "cell_type": "markdown",
      "source": [
        "###**Computer Science**"
      ],
      "metadata": {
        "id": "O7oO0ztWP-lq"
      }
    },
    {
      "cell_type": "markdown",
      "source": [
        "**Calculate the Z-statistic value**"
      ],
      "metadata": {
        "id": "-vEQiv_OqDT9"
      }
    },
    {
      "cell_type": "code",
      "source": [
        "# set the values of population mean and population standard deviation\n",
        "mu = 85\n",
        "\n",
        "# calculate the value of the sample mean from the data\n",
        "score_1 = df.Computer_Science.mean()\n",
        "\n",
        "# calculate the test statistic\n",
        "Computer_Science_Score = (score_1 - mu) / (sigma/np.sqrt(600))\n",
        "Computer_Science_Score"
      ],
      "metadata": {
        "colab": {
          "base_uri": "https://localhost:8080/"
        },
        "id": "up1SnSxcqLVE",
        "outputId": "12dce1b7-4803-45dc-c363-ed96667895dc"
      },
      "execution_count": null,
      "outputs": [
        {
          "output_type": "execute_result",
          "data": {
            "text/plain": [
              "np.float64(-0.19481608420934812)"
            ]
          },
          "metadata": {},
          "execution_count": 30
        }
      ]
    },
    {
      "cell_type": "markdown",
      "source": [
        "**The Z-test statistic follows a standard normal distribution.**\n",
        "\n",
        "Let's plot the distribution of the Z-test statistic and see where the computed test statistic lies in the plot."
      ],
      "metadata": {
        "id": "SmQNA59uQMB-"
      }
    },
    {
      "cell_type": "code",
      "source": [
        "# Plotting the distribution of Z test statistic along with the computed test statistic\n",
        "x = np.linspace(-4, 4, 100)  # create an array of 100 numbers starting from -4 and ending at 4\n",
        "plt.plot(x, norm.pdf(x, 0, 1) )  # plot the pdf of the normal distribution\n",
        "plt.axvline(x=Computer_Science_Score, c='r')  # draw a vertical red dashed line at Mathematics\n",
        "plt.xlabel('Z Test Statistic - Computer Science')  # specify the x-axis label\n",
        "plt.ylabel('Probability Density Function (PDF)')  # specify the y-axis label\n",
        "plt.show()  # display the plot"
      ],
      "metadata": {
        "colab": {
          "base_uri": "https://localhost:8080/",
          "height": 449
        },
        "id": "ix5veqlvQO1d",
        "outputId": "3bc4639e-0ae2-4c18-aef6-9976b1f1caed"
      },
      "execution_count": null,
      "outputs": [
        {
          "output_type": "display_data",
          "data": {
            "text/plain": [
              "<Figure size 640x480 with 1 Axes>"
            ],
            "image/png": "[encoded data removed]"
          },
          "metadata": {}
        }
      ]
    },
    {
      "cell_type": "markdown",
      "source": [
        "**P-Value**\n",
        "\n",
        "As this is a right-tailed test, the p-value will be the area to the right of the test statistic under the standard normal curve."
      ],
      "metadata": {
        "id": "Xpe8ATO4QT7G"
      }
    },
    {
      "cell_type": "code",
      "source": [
        "# calculate the p-value using the cdf() function\n",
        "1 - norm.cdf(Computer_Science_Score)"
      ],
      "metadata": {
        "colab": {
          "base_uri": "https://localhost:8080/"
        },
        "id": "Igy8_Mu7QhiK",
        "outputId": "2f644e73-3e4d-4789-f416-64a0cc828636"
      },
      "execution_count": null,
      "outputs": [
        {
          "output_type": "execute_result",
          "data": {
            "text/plain": [
              "np.float64(0.5772315349175678)"
            ]
          },
          "metadata": {},
          "execution_count": 32
        }
      ]
    },
    {
      "cell_type": "markdown",
      "source": [
        "**Observation**\n",
        "\n",
        "* As the p-value ~0.58 is greater than the level of significance (0.05), we fail to reject the null hypothesis\n",
        "* We do not have enough statistical evidence to say that the computer science score of all aspirants who enroll in the institute's program is greater than last year's cutoff of 85\n"
      ],
      "metadata": {
        "id": "7USwIe5nmyIp"
      }
    },
    {
      "cell_type": "markdown",
      "source": [
        "###**Chemistry**"
      ],
      "metadata": {
        "id": "BFvKgjwSQHd_"
      }
    },
    {
      "cell_type": "markdown",
      "source": [
        "**Calculate the Z-statistic value**"
      ],
      "metadata": {
        "id": "pdqyqZPJTv5i"
      }
    },
    {
      "cell_type": "code",
      "source": [
        "# set the values of population mean and population standard deviation\n",
        "mu, sigma = 85, 10\n",
        "\n",
        "# calculate the value of the sample mean from the data\n",
        "score_2 = df.Chemistry.mean()\n",
        "\n",
        "# calculate the test statistic\n",
        "Chemistry_Score = (score_2 - mu) / (sigma/np.sqrt(600))\n",
        "Chemistry_Score"
      ],
      "metadata": {
        "colab": {
          "base_uri": "https://localhost:8080/"
        },
        "id": "iNcqx4_DqQet",
        "outputId": "28f60c57-5cb5-4818-f434-06f8b84b78e4"
      },
      "execution_count": null,
      "outputs": [
        {
          "output_type": "execute_result",
          "data": {
            "text/plain": [
              "np.float64(1.7819629630457297)"
            ]
          },
          "metadata": {},
          "execution_count": 33
        }
      ]
    },
    {
      "cell_type": "markdown",
      "source": [
        "**The Z-test statistic follows a standard normal distribution.**\n",
        "\n",
        "Let's plot the distribution of the Z-test statistic and see where the computed test statistic lies in the plot."
      ],
      "metadata": {
        "id": "PB1AUslMyQH2"
      }
    },
    {
      "cell_type": "code",
      "source": [
        "# plotting the distribution of Z test statistic along with the computed test statistic\n",
        "# We are plotting the distributions here to better visualize the calculations\n",
        "x = np.linspace(-4, 4, 100) # create an array of 100 numbers starting from -4 and ending at 4\n",
        "plt.plot(x, norm.pdf(x, 0, 1)) # plot the pdf of the normal distribution\n",
        "plt.axvline(x = Chemistry_Score, c = 'r') # draw a vertical red line through the mentioned point\n",
        "plt.xlabel('Z Test Statistic - Chemistry')  # specify the x-axis label\n",
        "plt.ylabel('Probability Density Function (PDF)')  # specify the y-axis label\n",
        "plt.show() # display the plot"
      ],
      "metadata": {
        "colab": {
          "base_uri": "https://localhost:8080/",
          "height": 449
        },
        "id": "gT3szlOPyUwe",
        "outputId": "5b77ef06-8d61-4a27-e607-f1cc1a2f249a"
      },
      "execution_count": null,
      "outputs": [
        {
          "output_type": "display_data",
          "data": {
            "text/plain": [
              "<Figure size 640x480 with 1 Axes>"
            ],
            "image/png": "[encoded data removed]"
          },
          "metadata": {}
        }
      ]
    },
    {
      "cell_type": "markdown",
      "source": [
        "**P-Value**\n",
        "\n",
        "As this is a right-tailed test, the p-value will be the area to the right of the test statistic under the standard normal curve."
      ],
      "metadata": {
        "id": "muoGSdjtybpo"
      }
    },
    {
      "cell_type": "code",
      "source": [
        "# calculate the p-value using the cdf() function\n",
        "1 - norm.cdf(Chemistry_Score)"
      ],
      "metadata": {
        "colab": {
          "base_uri": "https://localhost:8080/"
        },
        "id": "j_rhlOtzyimG",
        "outputId": "43c75795-e8a8-440e-e207-a73c1722ac9d"
      },
      "execution_count": null,
      "outputs": [
        {
          "output_type": "execute_result",
          "data": {
            "text/plain": [
              "np.float64(0.037377635842128054)"
            ]
          },
          "metadata": {},
          "execution_count": 35
        }
      ]
    },
    {
      "cell_type": "markdown",
      "source": [
        "**Observation**\n",
        "\n",
        "* As the p-value ~0.03 is less than the level of significance (0.05), we have to reject the null hypothesis\n",
        "* We have enough statistical evidence to say that the chemistry score of all aspirants who enroll in the institute's program is greater than last year's cutoff of 85\n"
      ],
      "metadata": {
        "id": "uRqH05_Qn3Qr"
      }
    },
    {
      "cell_type": "markdown",
      "source": [
        "## **Conclusions and Recommendations**"
      ],
      "metadata": {
        "id": "JzXvUoscoK3B"
      }
    },
    {
      "cell_type": "markdown",
      "source": [
        "\n",
        "*  The average scores in Computer Science, Chemistry, Mathematics, and Physics for students enrolled in A2Z institute's program are 84.92, 85.73, 81.73, and 82.68, respectively.\n",
        "\n",
        "\n",
        "*   For each subject, a 95% confidence interval was constructed to provide a range of average scores with a high level of confidence.\n",
        "    - Computer Science: [84.12, 85.72]\n",
        "    - Chemistry: [84.93, 86.53]\n",
        "    - Mathematics: [80.93, 82.53]\n",
        "    - Physics: [81.88, 83.48]\n",
        "\n",
        "* There wasn't enough statistical evidence to support the critic's claim that the score of mathematics and physics for all aspirants who enroll in the institute's program is less than last year's cut-off of 82.\n",
        "\n",
        "* There wasn't enough statistical evidence to support the investor's belief that the score of computer science for all aspirants who enroll in the institute's program is greater than last year's cutoff of 85.\n",
        "\n",
        "* For chemistry, enough statistcal evidence is present to support the investor's belief that the score of chemistry for all aspirants who enroll in the institute's program is greater than 85.\n",
        "\n",
        "* The institute can extend the time frame of the data (check 5-10 years of data) to get more reliable estimates of the effect of the institute's curriculum on the aspirants' performance\n",
        "\n",
        "* Overall the institute demonstrates strong performance in chemistry, physics, and mathematics, where enrolled students excel. However, there is a notable opportunity for improvement in the computer science program.\n",
        "\n",
        "    - To address this, it is recommended to implement targeted interventions and support measures to enhance the academic performance of students in the computer science program.\n",
        "\n",
        "\n",
        "\n",
        "\n"
      ],
      "metadata": {
        "id": "8tBOaLMqoN2K"
      }
    },
    {
      "cell_type": "markdown",
      "source": [
        "___"
      ],
      "metadata": {
        "id": "s4YWav0Ps6Kl"
      }
    }
  ]
}