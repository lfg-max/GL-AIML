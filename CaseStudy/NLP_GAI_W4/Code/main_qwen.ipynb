{
 "cells": [
  {
   "cell_type": "markdown",
   "metadata": {},
   "source": [
    "<center><img src=\"https://upload.wikimedia.org/wikipedia/commons/e/e9/4_RGB_McCombs_School_Brand_Branded.png\" width=\"300\" height=\"100\"/>\n",
    "  <img src=\"https://mma.prnewswire.com/media/1458111/Great_Learning_Logo.jpg?p=facebook\" width=\"200\" height=\"100\"/></center>\n",
    "\n",
    "<center><font size=10>Artificial Intelligence and Machine Learning</center></font>\n",
    "<center><font size=6>Natural Language Processing with Generative AI - Retrieval Augmented Generation</center></font>\n",
    "\n",
    "<center><img src=\"https://i.ibb.co/pBF9nKpf/apple.png\" width=\"720\"></center>\n",
    "\n",
    "<center><font size=6>Apple HBR Report Document Q&A</center></font>\n",
    "\n",
    "# RAG LLM Application Notebook\n",
    "\n",
    "This notebook demonstrates the complete workflow of a Retrieval-Augmented Generation (RAG) LLM application. It covers data loading, chunking, embedding, vector database setup, question answering, and evaluation."
   ]
  },
  {
   "cell_type": "markdown",
   "metadata": {},
   "source": [
    "## 1. Setup and Library Installation\n",
    "\n",
    "First, we need to install all the necessary Python libraries. This ensures that all dependencies for data processing, LLM interaction, and vector database operations are met. If you are running this in a Colab environment, these commands will typically install the packages.\n",
    "\n",
    "**Note**: If you are running this locally, ensure you have Ollama installed and the `llama3.2` model pulled (`ollama pull llama3.2`)."
   ]
  },
  {
   "cell_type": "code",
   "execution_count": null,
   "metadata": {},
   "outputs": [],
   "source": [
    "# Install necessary packages\n",
    "%pip install -r requirements.txt\n",
    "print(\"All specified packages installed (or upgraded) successfully!\")\n",
    "print(\"Please ensure the model is pulled for Ollama with the command:\")"
   ]
  },
  {
   "cell_type": "markdown",
   "metadata": {},
   "source": [
    "## 2. Import Necessary Modules\n",
    "\n",
    "We import the `RAG_LLM` class from `functions.py` and constants from `config.py`. Make sure `functions.py`, `config.py`, and `prompt_templates.py` are in the same directory as this notebook."
   ]
  },
  {
   "cell_type": "code",
   "execution_count": 2,
   "metadata": {},
   "outputs": [
    {
     "name": "stdout",
     "output_type": "stream",
     "text": [
      "Modules imported successfully.\n"
     ]
    }
   ],
   "source": [
    "from functions import RAG_LLM\n",
    "from config import APPLE_PDF_PATH, DEFAULT_K_RETRIEVER, DEFAULT_MAX_TOKENS, DEFAULT_TEMPERATURE\n",
    "import os\n",
    "\n",
    "print(\"Modules imported successfully.\")"
   ]
  },
  {
   "cell_type": "markdown",
   "metadata": {},
   "source": [
    "## 3. Initialize the RAG_LLM System\n",
    "\n",
    "Here, we create an instance of our `RAG_LLM` class. This object will manage the entire RAG pipeline, including data loading, processing, retrieval, and LLM interaction."
   ]
  },
  {
   "cell_type": "code",
   "execution_count": 3,
   "metadata": {},
   "outputs": [
    {
     "name": "stdout",
     "output_type": "stream",
     "text": [
      "RAG_LLM initialized.\n",
      "RAG_LLM system initialized.\n"
     ]
    }
   ],
   "source": [
    "# Initialize the RAG_LLM class\n",
    "rag_system = RAG_LLM()\n",
    "print(\"RAG_LLM system initialized.\")"
   ]
  },
  {
   "cell_type": "markdown",
   "metadata": {},
   "source": [
    "## 4. Load the PDF Document\n",
    "\n",
    "We load the `HBR_How_Apple_Is_Organized_For_Innovation.pdf` document. Ensure this PDF file is available in the working directory."
   ]
  },
  {
   "cell_type": "code",
   "execution_count": 4,
   "metadata": {},
   "outputs": [
    {
     "name": "stdout",
     "output_type": "stream",
     "text": [
      "Loading data from: HBR_How_Apple_Is_Organized_For_Innovation.pdf\n",
      "Successfully loaded 11 pages.\n",
      "PDF document loaded successfully.\n"
     ]
    }
   ],
   "source": [
    "# Load the PDF document\n",
    "documents = rag_system.load_data(pdf_path=APPLE_PDF_PATH)\n",
    "if not documents:\n",
    "    print(\"Failed to load documents. Please check the PDF path and file existence.\")\n",
    "else:\n",
    "    print(\"PDF document loaded successfully.\")"
   ]
  },
  {
   "cell_type": "markdown",
   "metadata": {},
   "source": [
    "## 5. Chunk the Loaded Data\n",
    "\n",
    "The loaded document is chunked into smaller, overlapping segments. This is crucial for efficient retrieval and to fit content within the LLM's context window."
   ]
  },
  {
   "cell_type": "code",
   "execution_count": 5,
   "metadata": {},
   "outputs": [
    {
     "name": "stdout",
     "output_type": "stream",
     "text": [
      "Chunking data with chunk_size=1024, chunk_overlap=20\n",
      "Created 16 chunks.\n",
      "Documents chunked successfully.\n"
     ]
    }
   ],
   "source": [
    "# Chunk the loaded data\n",
    "document_chunks = rag_system.chunk_data(documents)\n",
    "if not document_chunks:\n",
    "    print(\"Failed to chunk documents.\")\n",
    "else:\n",
    "    print(\"Documents chunked successfully.\")"
   ]
  },
  {
   "cell_type": "markdown",
   "metadata": {},
   "source": [
    "## 6. Create Embedding Model\n",
    "\n",
    "An embedding model (SentenceTransformer) is initialized to convert text chunks into numerical vectors, enabling semantic search."
   ]
  },
  {
   "cell_type": "code",
   "execution_count": 6,
   "metadata": {},
   "outputs": [
    {
     "name": "stdout",
     "output_type": "stream",
     "text": [
      "Initializing embedding model: mixedbread-ai/mxbai-embed-large-v1\n"
     ]
    },
    {
     "name": "stderr",
     "output_type": "stream",
     "text": [
      "/Users/nra29/VScode/GL-AIML/CaseStudy/NLP_GAI_W4/.venv/lib/python3.13/site-packages/tqdm/auto.py:21: TqdmWarning: IProgress not found. Please update jupyter and ipywidgets. See https://ipywidgets.readthedocs.io/en/stable/user_install.html\n",
      "  from .autonotebook import tqdm as notebook_tqdm\n"
     ]
    },
    {
     "name": "stdout",
     "output_type": "stream",
     "text": [
      "Embedding model initialized successfully.\n",
      "Embedding model created successfully.\n"
     ]
    }
   ],
   "source": [
    "# Create embedding model\n",
    "rag_system.create_embeddings()\n",
    "if not rag_system.embedding_model:\n",
    "    print(\"Failed to create embedding model.\")\n",
    "else:\n",
    "    print(\"Embedding model created successfully.\")"
   ]
  },
  {
   "cell_type": "markdown",
   "metadata": {},
   "source": [
    "## 7. Set Up the Vector Database\n",
    "\n",
    "The Chroma vector database is set up using the chunked documents and the embedding model. This database will store the embeddings and facilitate quick retrieval of relevant context."
   ]
  },
  {
   "cell_type": "code",
   "execution_count": 7,
   "metadata": {},
   "outputs": [
    {
     "name": "stdout",
     "output_type": "stream",
     "text": [
      "Setting up vector database in: vector_db_1024\n",
      "Vector database loaded from existing directory.\n",
      "Retriever initialized.\n",
      "Vector database set up and retriever initialized.\n"
     ]
    }
   ],
   "source": [
    "# Set up the vector database\n",
    "rag_system.setup_vector_database(document_chunks=document_chunks)\n",
    "if not rag_system.vectorstore:\n",
    "    print(\"Failed to set up vector database.\")\n",
    "else:\n",
    "    print(\"Vector database set up and retriever initialized.\")"
   ]
  },
  {
   "cell_type": "markdown",
   "metadata": {},
   "source": [
    "## 8. Demonstrate Question Answering with RAG\n",
    "\n",
    "Now, we can ask questions and see how the RAG system retrieves relevant information and generates answers based on the loaded document."
   ]
  },
  {
   "cell_type": "code",
   "execution_count": 8,
   "metadata": {},
   "outputs": [
    {
     "name": "stdout",
     "output_type": "stream",
     "text": [
      "\n",
      "Query 1: Who are the authors of this article and who published this article ?\n",
      "Retrieving 3 relevant documents for the query.\n",
      "RAG prompt created.\n",
      "Generating LLM response using model: gemma3n:latest\n",
      "LLM response generated.\n",
      "Response 1: \n",
      "Joel M. Podolny, Morten T. Hansen\n",
      "Harvard Business Review\n"
     ]
    }
   ],
   "source": [
    "# Example Query 1\n",
    "user_input_1 = \"Who are the authors of this article and who published this article ?\"\n",
    "print(f\"\\nQuery 1: {user_input_1}\")\n",
    "llm_response_1 = rag_system.get_answer(user_input_1)\n",
    "print(f\"Response 1: \\n{llm_response_1}\")"
   ]
  },
  {
   "cell_type": "code",
   "execution_count": 9,
   "metadata": {},
   "outputs": [
    {
     "name": "stdout",
     "output_type": "stream",
     "text": [
      "\n",
      "Query 2: List down the three leadership characteristics in bulleted points and explain each one of the characteristics under two lines.\n",
      "Retrieving 3 relevant documents for the query.\n",
      "RAG prompt created.\n",
      "Generating LLM response using model: gemma3n:latest\n",
      "LLM response generated.\n",
      "Response 2: \n",
      "*   **Deep expertise:** Leaders are expected to possess deep expertise in their functional areas and be immersed in the details of their functions.\n",
      "*   **Collaborative debate:** Leaders are expected to engage in collaborative debate with their teams and other experts.\n",
      "*   **Experts-leading-experts:** The leadership model involves experts leading other experts, fostering a culture of knowledge sharing and mentorship.\n",
      "\n",
      "\n",
      "\n",
      "\n"
     ]
    }
   ],
   "source": [
    "# Example Query 2\n",
    "user_input_2 = \"List down the three leadership characteristics in bulleted points and explain each one of the characteristics under two lines.\"\n",
    "print(f\"\\nQuery 2: {user_input_2}\")\n",
    "# Adjust max_tokens to allow for a more complete answer for a list\n",
    "llm_response_2 = rag_system.get_answer(user_input_2, max_tokens=150, temperature=0.1)\n",
    "print(f\"Response 2: \\n{llm_response_2}\")"
   ]
  },
  {
   "cell_type": "code",
   "execution_count": 10,
   "metadata": {},
   "outputs": [
    {
     "name": "stdout",
     "output_type": "stream",
     "text": [
      "\n",
      "Query 3: Can you explain specific examples from the article where Apple's approach to leadership has led to successful innovations?\n",
      "Retrieving 3 relevant documents for the query.\n",
      "RAG prompt created.\n",
      "Generating LLM response using model: qwen3:4b\n",
      "LLM response generated.\n",
      "Response 3: \n",
      "<think>\n",
      "Okay, let's tackle this question. The user is asking for specific examples from the article where Apple's leadership approach led to successful innovations.\n",
      "\n",
      "First, I need to recall the context provided. The article discusses Apple's organizational structure, particularly its functional organization and the leadership model. It mentions that under Steve Jobs, they changed from a business unit structure to a functional one, which helped in innovation. Then, under Tim Cook, they've evolved further, like dividing hardware into engineering and technologies, adding AI as a function, and merging human interface with design.\n",
      "\n",
      "The user wants specific examples. The article mentions the iPhone's launch in 2006, but the context says that in 2006, the company had 17,000 employees. However, the example of the iPhone is not directly stated in the provided context. Wait, the context does mention that in 2006, before the iPhone, they had 17,000 employees, and by 2019, it was 137,000. But the actual example of the iPhone's success is not in the context. The context talks about the functional structure and how it allows cross-functional collaboration, but specific innovations like the iPhone are not mentioned here.\n",
      "\n",
      "Wait, the context does mention that Apple's functional structure has allowed for cross-functional collaboration. For example, the CEO, Tim Cook, is the only one who has oversight of all functions, which enables integration. Also, the example of Roger Rosner, the VP of applications, who has to manage a portfolio that includes new applications like News, Clips, Books, and Final Cut Pro. The article says that even though some aspects are outside his expertise, the functional structure allows for collaboration with other functions.\n",
      "\n",
      "Another example is the division of the hardware function into hardware engineering and hardware technologies, and adding AI as a functional area. These changes allowed Apple to adapt to new technologies and markets. Also, merging human interface with industrial design created an integrated design function, which likely contributed to product innovations.\n",
      "\n",
      "But the user is asking for specific examples where the leadership approach led to successful innovations. The context doesn't explicitly mention the iPhone as an example, but it does talk about the functional structure enabling cross-functional collaboration, which is key. The example of Roger Rosner's portfolio, which includes new applications, shows how the leadership model allows for handling diverse areas. Also, the adjustments made by Tim Cook, like dividing hardware and adding AI, are specific examples of how the leadership approach adapts to new technologies.\n",
      "\n",
      "However, the context doesn't mention the iPhone's success directly. It's possible that the user is expecting the iPhone as an example, but according to the provided context, that's not stated. The context does mention that Apple's approach has led to success in rapidly changing environments, but specific innovations like the iPhone are not detailed here. Therefore, based on the given context, the examples are the functional structure, the division of hardware, adding AI, and the integrated design function. These are the specific examples from the article.\n",
      "</think>\n",
      "\n",
      "The article provides examples of Apple's leadership approach leading to innovation, such as:  \n",
      "1. **Dividing the hardware function** into hardware engineering and hardware technologies, enabling specialized expertise.  \n",
      "2. **Adding artificial intelligence and machine learning** as a functional area to adapt to emerging technologies.  \n",
      "3. **Merging human interface with industrial design** to create an integrated design function, fostering cohesive product development.  \n",
      "4. **Roger Rosner’s portfolio** managing new applications (e.g., News, Clips, Final Cut Pro) while collaborating across functions to handle complex, cross-domain challenges.  \n",
      "\n",
      "These adjustments reflect Apple’s focus on cross-functional collaboration and expertise alignment, which support innovation in evolving technological and market landscapes.\n"
     ]
    }
   ],
   "source": [
    "# Example Query 3 (expected to be \"I don't know\" if not in context)\n",
    "user_input_3 = \"Can you explain specific examples from the article where Apple's approach to leadership has led to successful innovations?\"\n",
    "print(f\"\\nQuery 3: {user_input_3}\")\n",
    "llm_response_3 = rag_system.get_answer(user_input_3)\n",
    "print(f\"Response 3: \\n{llm_response_3}\")"
   ]
  },
  {
   "cell_type": "markdown",
   "metadata": {},
   "source": [
    "## 9. Demonstrate Fine-tuning Parameters\n",
    "\n",
    "We can adjust LLM generation parameters like `max_tokens` and `temperature` to control the length and creativity of the responses."
   ]
  },
  {
   "cell_type": "code",
   "execution_count": 11,
   "metadata": {},
   "outputs": [
    {
     "name": "stdout",
     "output_type": "stream",
     "text": [
      "\n",
      "Query 1 (max_tokens=100): Who are the authors of this article and who published this article ?\n",
      "Retrieving 3 relevant documents for the query.\n",
      "RAG prompt created.\n",
      "Generating LLM response using model: qwen3:4b\n",
      "LLM response generated.\n",
      "Response 1 (tuned): \n",
      "<think>\n",
      "Okay, let's see. The user is asking who the authors of the article are and who published it.\n",
      "\n",
      "First, I need to look through the provided context to find any mentions of authors or publishers. The context starts with \"PHOTOGRAPHER MIKAEL JANSSON\" but that's probably not relevant. Then there's a section with \"AUTHORS\" listed as Joel M. Podolny and Morten T. Hansen. They are mentioned as Dean and Faculty of Apple University. \n",
      "\n",
      "Next, the article is published by Harvard Business Review. The context includes \"Harvard Business Review November–December 2020\" and mentions that the article is made available by Apple Inc. But the authors are the two people listed. The publication is Harvard Business Review. So the answer should be the two authors and Harvard Business Review as the publisher. I need to check if there's any other mention, but I don't think so. The answer is present in the context.\n",
      "</think>\n",
      "\n",
      "The authors are Joel M. Podolny (Dean, Apple University) and Morten T. Hansen (Faculty, Apple University). The article is published by Harvard Business Review.\n"
     ]
    }
   ],
   "source": [
    "# Query 1 with different max_tokens (still concise)\n",
    "user_input_1 = \"Who are the authors of this article and who published this article ?\"\n",
    "print(f\"\\nQuery 1 (max_tokens=100): {user_input_1}\")\n",
    "llm_response_1_tuned = rag_system.get_answer(user_input_1, max_tokens=100)\n",
    "print(f\"Response 1 (tuned): \\n{llm_response_1_tuned}\")"
   ]
  },
  {
   "cell_type": "code",
   "execution_count": 12,
   "metadata": {},
   "outputs": [
    {
     "name": "stdout",
     "output_type": "stream",
     "text": [
      "\n",
      "Query 2 (max_tokens=10, temperature=0.1): List down the three leadership characteristics in bulleted points and explain each one of the characteristics under two lines.\n",
      "Retrieving 3 relevant documents for the query.\n",
      "RAG prompt created.\n",
      "Generating LLM response using model: qwen3:4b\n",
      "LLM response generated.\n",
      "Response 2 (tuned): \n",
      "<think>\n",
      "Okay, let's tackle this question. The user wants the three leadership characteristics from the context, each explained in two lines. First, I need to find where the three characteristics are mentioned.\n",
      "\n",
      "Looking through the text, there's a section about Roger Rosner's discretionary leadership model. The article mentions three categories: owning, learning, and delegating. But wait, the question says three leadership characteristics, not the boxes. Wait, the context mentions the discretionary leadership model, which includes the three boxes: owning, learning, and delegating. But the question is about leadership characteristics. Let me check again.\n",
      "\n",
      "The article says: \"Roger Rosner’s Discretionary Leadership.”) Now he guides and gives feedback to other team members so that they can develop software applications according to Apple’s norms. Being a teacher doesn’t mean that Rosner gives instruction at a whiteboard; rather, he offers strong, often passionate critiques of his team’s work. (Clearly, general managers without his core expertise would find it difficult to teach what they don’t know.)\"\n",
      "\n",
      "Then later, the three boxes are mentioned: owning, learning, delegating. But the leadership characteristics are the approach: experts leading experts, immersion in details, collaborative debate. Wait, the article says: \"We have codified these adaptions in what we call the discretionary leadership model, which we have incorporated into a new educational program for Apple’s VPs and directors. Its purpose is to address the challenge of getting this leadership approach to drive innovation in all areas of the company, not just product development, at an ever-greater scale.\"\n",
      "\n",
      "The three characteristics are: 1. Experts leading experts, 2. Immersion in the details, 3. Collaborative debate. These are mentioned in the context. Let me confirm.\n",
      "\n",
      "Yes, in the section about the discretionary leadership model, it says: \"the leadership approach described above: experts leading experts, immersion in the details, and collaborative debate.\" So those three are the characteristics. Each needs to be explained in two lines. Let me check the explanations.\n",
      "\n",
      "For \"experts leading experts\": The article says that Rosner leads other experts, and that managers at Apple work with other teams. Also, the model is about having experts lead experts.\n",
      "\n",
      "\"Immersion in the details\": When Apple was smaller, leaders were immersed in details. Now, they need to focus on what's most valuable. Rosner used to be immersed in details but now delegates some.\n",
      "\n",
      "\"Collaborative debate\": The article mentions that Apple has hundreds of specialist teams and that leaders engage in collaborative debate. Also, the leadership model includes collaborative debate.\n",
      "\n",
      "So the three characteristics are:\n",
      "\n",
      "1. Experts leading experts\n",
      "2. Immersion in the details\n",
      "3. Collaborative debate\n",
      "\n",
      "Each explanation should be two lines. Let me make sure the explanations are accurate based on the context.\n",
      "</think>\n",
      "\n",
      "- **Experts leading experts**: Leaders guide specialists within their domain, leveraging their expertise to drive innovation and ensure high standards. This approach allows teams to focus on specialized tasks while leaders provide oversight and mentorship.  \n",
      "- **Immersion in the details**: Leaders prioritize deep expertise in core areas, focusing on activities that create the most value for the company, while delegating less critical tasks to others. This ensures efficiency and maintains alignment with Apple’s strategic goals.  \n",
      "- **Collaborative debate**: Leaders engage in open, structured discussions with teams to refine ideas and decisions, fostering innovation and ensuring diverse perspectives are considered. This culture of collaboration is essential for complex, cross-functional projects.\n"
     ]
    }
   ],
   "source": [
    "# Query 2 with different max_tokens and temperature\n",
    "user_input_2 = \"List down the three leadership characteristics in bulleted points and explain each one of the characteristics under two lines.\"\n",
    "print(f\"\\nQuery 2 (max_tokens=10, temperature=0.1): {user_input_2}\")\n",
    "llm_response_2_tuned = rag_system.get_answer(user_input_2, max_tokens=10, temperature=0.1)\n",
    "print(f\"Response 2 (tuned): \\n{llm_response_2_tuned}\")\n",
    "# Note: A max_tokens of 10 is too low for this question, showing truncation."
   ]
  },
  {
   "cell_type": "code",
   "execution_count": 13,
   "metadata": {},
   "outputs": [
    {
     "name": "stdout",
     "output_type": "stream",
     "text": [
      "\n",
      "Query 3 (max_tokens=10, temperature=0.1): Can you explain specific examples from the article where Apple's approach to leadership has led to successful innovations?\n",
      "Retrieving 3 relevant documents for the query.\n",
      "RAG prompt created.\n",
      "Generating LLM response using model: qwen3:4b\n",
      "LLM response generated.\n",
      "Response 3 (tuned): \n",
      "<think>\n",
      "Okay, let's tackle this question. The user is asking for specific examples from the article where Apple's leadership approach led to successful innovations.\n",
      "\n",
      "First, I need to recall the context provided. The article discusses Apple's organizational structure, particularly its functional organization and the leadership model. It mentions that under Steve Jobs, they changed from a business unit structure to a functional one, which helped in innovation. Then, under Tim Cook, they've evolved further, like dividing hardware into engineering and technologies, adding AI as a function, and merging human interface with design.\n",
      "\n",
      "The user wants specific examples. The article mentions the iPhone's launch in 2006, but the context says that in 2006, the company had 17,000 employees, and by 2019, 137,000. The leadership model under Cook included adjustments like the hardware split and AI as a function. Also, Roger Rosner's example is given, where he manages a portfolio with different expertise levels, showing how leaders focus on high-expertise areas and delegate others.\n",
      "\n",
      "Another example is the integration of design and software, moving human interface out of software to merge with industrial design, creating an integrated design function. This likely contributed to the success of products like the iPhone, which required seamless design and functionality.\n",
      "\n",
      "The article also mentions that Apple's functional structure allows the CEO to have oversight of all products, which is crucial for innovation. The discretionary leadership model, where leaders focus on core expertise and delegate others, helps in managing growth and innovation.\n",
      "\n",
      "So, specific examples would be the hardware split, AI as a function, integrated design, and the leadership model that allows leaders to focus on core areas while delegating others. The iPhone's success is a result of these structural and leadership changes.\n",
      "</think>\n",
      "\n",
      "The article provides several examples of Apple's leadership approach leading to successful innovations:  \n",
      "1. **Hardware Division**: Tim Cook divided the hardware function into **hardware engineering** and **hardware technologies**, enabling specialized expertise for innovation.  \n",
      "2. **AI as a Function**: Apple added **artificial intelligence and machine learning** as a standalone functional area, adapting to emerging technologies.  \n",
      "3. **Integrated Design**: Human interface was moved out of software to merge with **industrial design**, creating an integrated design function that enhanced product cohesion (e.g., the iPhone).  \n",
      "4. **Discretionary Leadership**: Leaders like Roger Rosner focus on high-expertise areas (e.g., core app development) while delegating or teaching others, ensuring innovation across diverse projects.  \n",
      "\n",
      "These adjustments reflect Apple’s ability to align expertise with decision-making, fostering innovation despite growth.\n"
     ]
    }
   ],
   "source": [
    "# Query 3 with different max_tokens and temperature (still \"I don't know\")\n",
    "user_input_3 = \"Can you explain specific examples from the article where Apple's approach to leadership has led to successful innovations?\"\n",
    "print(f\"\\nQuery 3 (max_tokens=10, temperature=0.1): {user_input_3}\")\n",
    "llm_response_3_tuned = rag_system.get_answer(user_input_3, max_tokens=10, temperature=0.1)\n",
    "print(f\"Response 3 (tuned): \\n{llm_response_3_tuned}\")"
   ]
  },
  {
   "cell_type": "markdown",
   "metadata": {},
   "source": [
    "## 10. Demonstrate Output Evaluation (LLM-as-a-Judge)\n",
    "\n",
    "Finally, we demonstrate how the RAG system can evaluate its own answers for 'groundedness' (adherence to context) and 'relevance' (how well it answers the question)."
   ]
  },
  {
   "cell_type": "code",
   "execution_count": 14,
   "metadata": {},
   "outputs": [
    {
     "name": "stdout",
     "output_type": "stream",
     "text": [
      "\n",
      "Evaluating Query 1:\n",
      "\n",
      "--- Calculating Ratings for Question: 'Who are the authors of this article and who published this article ?' ---\n",
      "Retrieving 3 relevant documents for the query.\n",
      "RAG prompt created.\n",
      "Generating LLM response using model: qwen3:4b\n",
      "LLM response generated.\n",
      "Rating overall answer quality (groundedness and relevance)...\n",
      "Rating groundedness...\n",
      "Retrieving 3 relevant documents for the query.\n",
      "Generating LLM response using model: qwen3:4b\n",
      "LLM response generated.\n",
      "Rating relevance...\n",
      "Retrieving 3 relevant documents for the query.\n",
      "Generating LLM response using model: qwen3:4b\n",
      "LLM response generated.\n",
      "\n",
      "--- Results ---\n",
      "Question: \n",
      " Who are the authors of this article and who published this article ?\n",
      "\n",
      "Answer: \n",
      " <think>\n",
      "Okay, let's see. The user is asking who the authors of the article are and who published it.\n",
      "\n",
      "First, I need to look through the provided context to find any mentions of authors or publishers. The context starts with \"PHOTOGRAPHER MIKAEL JANSSON\" but that's probably not relevant. Then there's a section with \"AUTHORS\" listed as Joel M. Podolny and Morten T. Hansen. They are mentioned as Dean and Faculty of Apple University. \n",
      "\n",
      "Next, the article is published by Harvard Business Review. The context includes \"Harvard Business Review November–December 2020\" and mentions that the article is made available by Apple Inc. But the authors are the two people listed. The publication is Harvard Business Review. So the answer should be the two authors and Harvard Business Review as the publisher. I need to check if there's any other mention, but I don't think so. The answer is present in the context.\n",
      "</think>\n",
      "\n",
      "The authors are Joel M. Podolny (Dean, Apple University) and Morten T. Hansen (Faculty, Apple University). The article is published by Harvard Business Review.\n",
      "\n",
      "Groundedness Rating: \n",
      " <think>\n",
      "Okay, let's break this down. The user asked for the authors and the publisher of the article. \n",
      "\n",
      "First, I need to check the context for any mentions of authors. Looking through the text, there's a section under \"AUTHORS\" that lists Joel M. Podolny and Morten T. Hansen. They are associated with Apple University. That's the authors.\n",
      "\n",
      "Next, the publisher. The context mentions \"Harvard Business Review\" in the title and in the line \"FOR ARTICLE REPRINTS CALL... OR VISIT HBR.ORG\". Also, the article is made available by Apple Inc., but the publisher is Harvard Business Review. So the publisher is Harvard Business Review.\n",
      "\n",
      "The answer correctly identifies both the authors and the publisher based on the context. There's no mention of any other authors or publishers in the text. The answer is derived entirely from the provided information.\n",
      "</think>\n",
      "\n",
      "### Step-by-Step Evaluation:\n",
      "\n",
      "1. **Identify Authors**:  \n",
      "   - The context explicitly lists \"AUTHORS\" as Joel M. Podolny (Dean, Apple University) and Morten T. Hansen (Faculty, Apple University).  \n",
      "   - These names and titles are directly stated in the text.  \n",
      "\n",
      "2. **Identify Publisher**:  \n",
      "   - The context mentions \"Harvard Business Review\" in the title (\"Harvard Business Review November–December 2020\") and in the line \"FOR ARTICLE REPRINTS CALL... OR VISIT HBR.ORG\".  \n",
      "   - The publisher is explicitly named as \"Harvard Business Review\".  \n",
      "\n",
      "3. **Check for Additional Information**:  \n",
      "   - The text also states the article is made available by Apple Inc., but this is a licensing detail, not the publisher.  \n",
      "   - No other authors or publishers are mentioned.  \n",
      "\n",
      "4. **Verify Alignment with Metric**:  \n",
      "   - The answer only uses information from the context (authors and publisher) and does not introduce external knowledge.  \n",
      "\n",
      "### Conclusion:  \n",
      "The answer is derived entirely from the context. It correctly identifies the authors (Joel M. Podolny and Morten T. Hansen) and the publisher (Harvard Business Review). There is no deviation from the provided information.  \n",
      "\n",
      "**Score: 5** (The metric is followed completely.)\n",
      "\n",
      "Relevance Rating: \n",
      " <think>\n",
      "Okay, let's break this down. The user asked for the authors and the publisher of the article. \n",
      "\n",
      "First, I need to check the context for any mentions of authors. Scanning through the text, there's a section labeled \"AUTHORS\" with two names: Joel M. Podolny and Morten T. Hansen. They are associated with Apple University. That's the authors.\n",
      "\n",
      "Next, the publisher. The context mentions \"Harvard Business Review\" in the title and a line stating the article is made available by Apple Inc. However, the publication is explicitly named as Harvard Business Review. So the publisher is Harvard Business Review, not Apple Inc. Even though Apple Inc. is mentioned in the context, it's the source of the article, not the publisher. \n",
      "\n",
      "The answer correctly identifies both the authors and the publisher. The authors are clearly listed, and the publisher is explicitly stated. No other information is needed. The answer addresses both parts of the question directly.\n",
      "</think>\n",
      "\n",
      "### Evaluation Steps:\n",
      "1. **Identify Authors**: Look for sections in the context labeled \"AUTHORS\" or similar. The context lists \"Joel M. Podolny\" and \"Morten T. Hansen\" as authors, associated with Apple University.\n",
      "2. **Identify Publisher**: Check for explicit mentions of the publication. The context states \"Harvard Business Review\" in the title and mentions the article is made available by Apple Inc. However, the publisher is explicitly named as \"Harvard Business Review.\"\n",
      "3. **Verify Relevance**: Ensure the answer includes both authors and the publisher, as requested in the question.\n",
      "\n",
      "### Analysis:\n",
      "- The answer correctly identifies the authors (Joel M. Podolny and Morten T. Hansen) and the publisher (Harvard Business Review). \n",
      "- The context explicitly provides both pieces of information, and the answer does not include extraneous details (e.g., Apple Inc. is the source, not the publisher).\n",
      "- The answer directly addresses the question's two components: authors and publisher.\n",
      "\n",
      "### Score:\n",
      "**5 - The metric is followed completely**  \n",
      "The answer fully addresses the question by clearly stating the authors and the publisher, with no irrelevant or missing information.\n",
      "--------------------------------------------------\n"
     ]
    }
   ],
   "source": [
    "# Evaluate Query 1\n",
    "user_input_1 = \"Who are the authors of this article and who published this article ?\"\n",
    "print(\"\\nEvaluating Query 1:\")\n",
    "rag_system.calculate_rating(question=user_input_1)"
   ]
  },
  {
   "cell_type": "code",
   "execution_count": 15,
   "metadata": {},
   "outputs": [
    {
     "name": "stdout",
     "output_type": "stream",
     "text": [
      "\n",
      "Evaluating Query 2:\n",
      "\n",
      "--- Calculating Ratings for Question: 'List down the three leadership characteristics in bulleted points and explain each one of the characteristics under two lines.' ---\n",
      "Retrieving 3 relevant documents for the query.\n",
      "RAG prompt created.\n",
      "Generating LLM response using model: qwen3:4b\n",
      "LLM response generated.\n",
      "Rating overall answer quality (groundedness and relevance)...\n",
      "Rating groundedness...\n",
      "Retrieving 3 relevant documents for the query.\n",
      "Generating LLM response using model: qwen3:4b\n",
      "LLM response generated.\n",
      "Rating relevance...\n",
      "Retrieving 3 relevant documents for the query.\n",
      "Generating LLM response using model: qwen3:4b\n",
      "LLM response generated.\n",
      "\n",
      "--- Results ---\n",
      "Question: \n",
      " List down the three leadership characteristics in bulleted points and explain each one of the characteristics under two lines.\n",
      "\n",
      "Answer: \n",
      " <think>\n",
      "Okay, let's tackle this question. The user wants the three leadership characteristics from the context, each explained in two lines. First, I need to find where the three characteristics are mentioned.\n",
      "\n",
      "Looking through the text, there's a section about Roger Rosner's discretionary leadership model. The article mentions three categories: owning, learning, and delegating. But wait, the question says three leadership characteristics, not the boxes. Wait, the context mentions the discretionary leadership model, which includes the three boxes: owning, learning, and delegating. But the question is about leadership characteristics. Let me check again.\n",
      "\n",
      "The article says: \"Roger Rosner’s Discretionary Leadership.”) Now he guides and gives feedback to other team members so that they can develop software applications according to Apple’s norms. Being a teacher doesn’t mean that Rosner gives instruction at a whiteboard; rather, he offers strong, often passionate critiques of his team’s work. (Clearly, general managers without his core expertise would find it difficult to teach what they don’t know.)\"\n",
      "\n",
      "Then later, the three boxes are mentioned: owning, learning, and delegating. The article explains that leaders must decide which activities are in which box. The three characteristics might be the three boxes. But the question says \"leadership characteristics,\" which could refer to the approach or the model. However, the text specifically mentions the three boxes as part of the discretionary leadership model. \n",
      "\n",
      "Wait, the article says: \"the discretionary leadership model... which we have incorporated into a new educational program for Apple’s VPs and directors. Its purpose is to address the challenge of getting this leadership approach to drive innovation in all areas of the company...\" So the model is about how leaders manage their time and responsibilities. The three boxes (owning, learning, delegating) are part of that model. \n",
      "\n",
      "But the question asks for three leadership characteristics. The three boxes are part of the model, so maybe those are the three characteristics. Let me check the exact wording. The article says: \"Roger Rosner’s Discretionary Leadership. Apple’s VP of applications, Roger Rosner, oversees a portfolio comprising four distinct categories that require varying amounts of his time and attention to detail. In 2019 it looked like this: Low expertise, High expertise, Highly involved in the details, Not highly involved in the details.\" Then the percentages and the boxes. \n",
      "\n",
      "Wait, the four categories are: Low expertise, High expertise, Highly involved in details, Not highly involved. But the three boxes mentioned are owning, learning, delegating. Wait, the text says: \"he has moved some things from his owning box—including traditional productivity apps such as Keynote and Pages—into his teaching box. (See the exhibit “Roger Rosner’s Discretionary Leadership.”) Now he guides and gives feedback to other team members...\" Then later: \"he has delegated some areas—including iMovie and GarageBand, in which he is not an expert—to people with the requisite capabilities.\" \n",
      "\n",
      "So the three boxes are: owning, learning, delegating. But the article also mentions a fourth category, which is teaching. However, the question is about three characteristics. Wait, the text says: \"the discretionary leadership model... which we have incorporated into a new educational program for Apple’s VPs and directors. Its purpose is to address the challenge of getting this leadership approach to drive innovation in all areas of the company...\" The model is about how leaders manage their time and responsibilities. The three boxes are: owning, learning, delegating. But the text also mentions teaching as a box. However, the question is about three characteristics. Maybe the three are: 1) owning (core expertise), 2) learning (new skills), 3) delegating (non-expert areas). \n",
      "\n",
      "Alternatively, the three characteristics could be: 1) Immersion in details, 2) Collaborative debate, 3) Discretion in time allocation. But the text mentions that Apple leaders are expected to have deep expertise, be immersed in details, and engage in collaborative debate. \n",
      "\n",
      "Wait, the last part of the text says: \"Apple leaders are expected to possess deep expertise, be immersed in the details of their functions, and engage in collaborative debate.\" So those three are the characteristics. But the question is about the three leadership characteristics in the context. The answer might be those three. However, the article also talks about the discretionary leadership model with the three boxes. But the user's question is about the three characteristics. \n",
      "\n",
      "Looking back, the article says: \"Apple leaders are expected to possess deep expertise, be immersed in the details of their functions, and engage in collaborative debate.\" So those three are the characteristics. But the user's question is to list the three leadership characteristics. However, the answer might be the three boxes (owning, learning, delegating) as part of the discretionary model. But the text also mentions that the leaders are expected to have deep expertise, be immersed in details, and engage in collaborative debate. \n",
      "\n",
      "Wait, the user's question is to list the three leadership characteristics. The answer is in the last paragraph: \"Apple leaders are expected to possess deep expertise, be immersed in the details of their functions, and engage in collaborative debate.\" So those three are the characteristics. But the text also mentions the three boxes. However, the question is about leadership characteristics, not the boxes. Therefore, the answer is the three points mentioned in that last sentence. \n",
      "\n",
      "But the user's question is to list the three characteristics and explain each. So the answer would be:\n",
      "\n",
      "1. Deep expertise\n",
      "2. Immersion in details\n",
      "3. Collaborative debate\n",
      "\n",
      "Each explained in two lines. But I need to check if that's correct. The text says: \"Apple leaders are expected to possess deep expertise, be immersed in the details of their functions, and engage in collaborative debate.\" So those three are the characteristics. Therefore, the answer is those three points.\n",
      "</think>\n",
      "\n",
      "- **Deep expertise**: Leaders must have strong knowledge in their core areas to make informed decisions and guide their teams.  \n",
      "- **Immersion in details**: They focus on critical details within their expertise to ensure quality and alignment with Apple’s standards.  \n",
      "- **Collaborative debate**: Leaders engage in open discussions with teams to refine ideas, solve problems, and drive innovation.\n",
      "\n",
      "Groundedness Rating: \n",
      " <think>\n",
      "Okay, let's evaluate the answer based on the metric that it should be derived only from the context. The user asked for three leadership characteristics in bulleted points with explanations. The answer provided lists three points: deep expertise, immersion in details, and collaborative debate. \n",
      "\n",
      "First, I need to check if these points are explicitly mentioned in the context. The context does mention that Apple leaders are expected to \"possess deep expertise,\" \"be immersed in the details of their functions,\" and \"engage in collaborative debate.\" These are directly stated in the text. \n",
      "\n",
      "Next, the explanations for each point are concise and align with the context. For example, the explanation for deep expertise mentions making informed decisions and guiding teams, which is supported by the context. The immersion in details explanation refers to ensuring quality and alignment with Apple’s standards, which matches the context. The collaborative debate explanation talks about refining ideas and solving problems, which is also in line with the text.\n",
      "\n",
      "The answer does not introduce any external information or assumptions beyond what's in the context. It accurately reflects the three characteristics mentioned in the context. Therefore, the answer fully adheres to the metric of being derived only from the provided context.\n",
      "</think>\n",
      "\n",
      "### Evaluation Steps:\n",
      "1. **Identify the three leadership characteristics** mentioned in the context.  \n",
      "   - The context explicitly states: \"Apple leaders are expected to possess deep expertise, be immersed in the details of their functions, and engage in collaborative debate.\" These are the three characteristics.  \n",
      "\n",
      "2. **Check if the explanations are derived solely from the context**.  \n",
      "   - The explanations for each characteristic (e.g., \"make informed decisions,\" \"refine ideas\") are directly supported by the text. No external knowledge is added.  \n",
      "\n",
      "3. **Verify that the answer does not include information outside the context**.  \n",
      "   - The answer does not introduce new concepts or interpretations beyond what is explicitly stated in the text.  \n",
      "\n",
      "### Conclusion:  \n",
      "The answer is fully aligned with the metric, as it directly extracts the three leadership characteristics and their explanations from the provided context.  \n",
      "\n",
      "**Score: 10/10** (Completely adheres to the metric).\n",
      "\n",
      "Relevance Rating: \n",
      " <think>\n",
      "Okay, let's break this down. The user asked for three leadership characteristics from the context, each explained in two lines. The context provided in the question is about Apple's leadership model, specifically the \"discretionary leadership model\" and Roger Rosner's approach. \n",
      "\n",
      "First, I need to identify the three leadership characteristics mentioned in the context. The key part is the last paragraph, which states: \"Apple leaders are expected to possess deep expertise, be immersed in the details of their functions, and engage in collaborative debate.\" These three points directly answer the question.\n",
      "\n",
      "Next, I need to check if the answer provided by the AI matches these points. The AI's answer lists the three characteristics as \"Deep expertise,\" \"Immersion in details,\" and \"Collaborative debate,\" each with a brief explanation. The explanations are concise and align with the context. \n",
      "\n",
      "The context also mentions the three boxes (owning, learning, delegating) in the discretionary model, but the question specifically asks for leadership characteristics, not the boxes. The answer correctly focuses on the three characteristics mentioned in the final paragraph, which are explicitly tied to Apple's leadership expectations. \n",
      "\n",
      "The answer is relevant because it directly addresses the question by extracting the three characteristics from the context. Each explanation is two lines, as required. There's no mention of the boxes or other elements, so it's focused on the main aspects. Therefore, the answer adheres to the metric of relevance.\n",
      "</think>\n",
      "\n",
      "### Step-by-Step Evaluation:\n",
      "\n",
      "1. **Identify the question's main aspects**: The user asked for three leadership characteristics, each explained in two lines. The key is to extract the main leadership traits from the context.\n",
      "\n",
      "2. **Locate the relevant information in the context**: The context explicitly states: \"Apple leaders are expected to possess deep expertise, be immersed in the details of their functions, and engage in collaborative debate.\" These three points are the core leadership characteristics.\n",
      "\n",
      "3. **Check if the answer matches the context**: The AI's answer correctly lists these three characteristics and provides concise explanations aligned with the context. The explanations are two lines each and directly reference the text.\n",
      "\n",
      "4. **Verify relevance**: The answer focuses on the three characteristics mentioned in the context, avoiding extraneous details like the \"owning, learning, delegating\" boxes, which are part of the model but not the characteristics themselves.\n",
      "\n",
      "### Conclusion:\n",
      "The answer is **relevant** because it directly addresses the three leadership characteristics (deep expertise, immersion in details, collaborative debate) as explicitly stated in the context. The explanations are concise and align with the text, meeting the user's request.\n",
      "--------------------------------------------------\n"
     ]
    }
   ],
   "source": [
    "# Evaluate Query 2\n",
    "user_input_2 = \"List down the three leadership characteristics in bulleted points and explain each one of the characteristics under two lines.\"\n",
    "print(\"\\nEvaluating Query 2:\")\n",
    "# Using parameters that yield a better answer for evaluation\n",
    "rag_system.calculate_rating(question=user_input_2)"
   ]
  },
  {
   "cell_type": "code",
   "execution_count": 16,
   "metadata": {},
   "outputs": [
    {
     "name": "stdout",
     "output_type": "stream",
     "text": [
      "\n",
      "Evaluating Query 3:\n",
      "\n",
      "--- Calculating Ratings for Question: 'Can you explain specific examples from the article where Apple's approach to leadership has led to successful innovations?' ---\n",
      "Retrieving 3 relevant documents for the query.\n",
      "RAG prompt created.\n",
      "Generating LLM response using model: qwen3:4b\n",
      "LLM response generated.\n",
      "Rating overall answer quality (groundedness and relevance)...\n",
      "Rating groundedness...\n",
      "Retrieving 3 relevant documents for the query.\n",
      "Generating LLM response using model: qwen3:4b\n",
      "LLM response generated.\n",
      "Rating relevance...\n",
      "Retrieving 3 relevant documents for the query.\n",
      "Generating LLM response using model: qwen3:4b\n",
      "LLM response generated.\n",
      "\n",
      "--- Results ---\n",
      "Question: \n",
      " Can you explain specific examples from the article where Apple's approach to leadership has led to successful innovations?\n",
      "\n",
      "Answer: \n",
      " <think>\n",
      "Okay, let's tackle this question. The user is asking for specific examples from the article where Apple's leadership approach led to successful innovations.\n",
      "\n",
      "First, I need to recall the context provided. The article discusses Apple's organizational structure, particularly its functional organization and the leadership model. It mentions that under Steve Jobs, they changed from a business unit structure to a functional one, which helped in innovation. Then, under Tim Cook, they've evolved further, like dividing hardware into engineering and technologies, adding AI as a function, and merging human interface with design.\n",
      "\n",
      "The user wants specific examples. The article mentions the iPhone's launch in 2006, but the context says that in 2006, the company had 17,000 employees. However, the example of the iPhone is not directly stated in the provided context. Wait, the context does mention that in 2006, before the iPhone, they had 17,000 employees, and by 2019, it was 137,000. But the actual example of the iPhone's success is not in the context. The context talks about the functional structure and how it allows cross-functional collaboration, but specific innovations like the iPhone are not mentioned here.\n",
      "\n",
      "Wait, the context does mention that Apple's functional structure has allowed for cross-functional collaboration. For example, the CEO, Tim Cook, is the only one who has oversight of all functions, which enables integration. Also, the example of Roger Rosner, the VP of applications, who has to manage a portfolio that includes new applications like News, Clips, Books, and Final Cut Pro. The article says that even though some aspects are outside his expertise, the functional structure allows for collaboration with other functions.\n",
      "\n",
      "Another example is the division of the hardware function into hardware engineering and hardware technologies, and adding AI as a functional area. These changes allowed Apple to adapt to new technologies and markets. Also, merging human interface with industrial design created an integrated design function, which likely contributed to product innovations.\n",
      "\n",
      "But the user is asking for specific examples where the leadership approach led to successful innovations. The context doesn't explicitly mention the iPhone as an example, but it does talk about the functional structure enabling cross-functional collaboration, which is key. The example of Roger Rosner's portfolio, which includes new applications, shows how the leadership model allows for handling diverse areas. Also, the adjustments made by Tim Cook, like dividing hardware and adding AI, are specific examples of how the leadership approach adapts to new technologies.\n",
      "\n",
      "However, the context doesn't mention the iPhone's success directly. It's possible that the user is expecting the iPhone as an example, but according to the provided context, that's not stated. The context does mention that Apple's approach has led to success in rapidly changing environments, but specific innovations like the iPhone are not detailed here. Therefore, based on the given context, the examples are the functional structure, the division of hardware, adding AI, and the integrated design function. These are the specific examples from the article.\n",
      "</think>\n",
      "\n",
      "The article provides examples of Apple's leadership approach leading to innovation, such as:  \n",
      "1. **Dividing the hardware function** into hardware engineering and hardware technologies, enabling specialized expertise.  \n",
      "2. **Adding artificial intelligence and machine learning** as a functional area to adapt to emerging technologies.  \n",
      "3. **Merging human interface with industrial design** to create an integrated design function, fostering cohesive product development.  \n",
      "4. **Roger Rosner’s portfolio** managing new applications (e.g., News, Clips, Final Cut Pro) while collaborating across functions to handle complex, cross-domain challenges.  \n",
      "\n",
      "These adjustments reflect Apple’s focus on cross-functional collaboration and expertise alignment, which support innovation in evolving technological and market landscapes.\n",
      "\n",
      "Groundedness Rating: \n",
      " <think>\n",
      "Okay, let's evaluate the answer based on the metric that the answer should be derived only from the context. \n",
      "\n",
      "First, I need to check if the answer includes any information not present in the provided context. The user's question asks for specific examples from the article where Apple's leadership approach led to successful innovations. The answer given mentions the division of hardware, AI as a function, merged design, and Roger Rosner's portfolio. \n",
      "\n",
      "Looking at the context, the article does mention these points. For example, it states that Tim Cook divided the hardware function, added AI, and merged human interface with design. It also discusses Roger Rosner's role in managing new applications and collaborating across functions. \n",
      "\n",
      "The answer does not mention the iPhone or any other specific product, which are not discussed in the context. The examples provided are all directly supported by the context. The answer also avoids any external knowledge, sticking strictly to the information in the article. \n",
      "\n",
      "Therefore, the answer adheres to the metric of being derived solely from the context. It provides specific examples from the text, such as the hardware division, AI, design integration, and Rosner's role. There's no mention of external examples or information not in the context. \n",
      "\n",
      "The answer is accurate and directly references the context, so it meets the metric completely.\n",
      "</think>\n",
      "\n",
      "### Step-by-Step Evaluation:\n",
      "\n",
      "1. **Check for Context-Only Information**:  \n",
      "   The answer references specific examples from the context, such as the division of the hardware function, the addition of AI as a functional area, the merging of human interface with design, and Roger Rosner’s portfolio. These are all explicitly mentioned in the context.\n",
      "\n",
      "2. **Avoid External Knowledge**:  \n",
      "   The answer does not introduce any external examples (e.g., the iPhone) or concepts not present in the context. All claims are directly supported by the text.\n",
      "\n",
      "3. **Alignment with the Metric**:  \n",
      "   The metric requires the answer to be derived solely from the context. The answer adheres to this by focusing on the functional structure, leadership model, and specific organizational changes described in the article.\n",
      "\n",
      "### Conclusion:  \n",
      "The answer is **completely derived from the context** and provides specific examples of Apple’s leadership approach leading to innovation. It does not include any external information or interpretations beyond what is explicitly stated in the article. \n",
      "\n",
      "**Score: 5** (The metric is followed completely.)\n",
      "\n",
      "Relevance Rating: \n",
      " <think>\n",
      "Okay, let's evaluate the answer based on the metric of relevance. The question asks for specific examples from the article where Apple's leadership approach led to successful innovations. The answer provided lists four examples: dividing hardware, adding AI, merging design functions, and Roger Rosner's portfolio. \n",
      "\n",
      "First, I need to check if these examples are indeed from the article. The context mentions that under Tim Cook, Apple adjusted the structure by dividing hardware, adding AI, and merging design functions. It also discusses Roger Rosner's role in managing new applications and collaborating across functions. These are all explicitly mentioned in the context.\n",
      "\n",
      "Next, the answer addresses the question by directly linking these structural changes to innovation. For instance, the functional structure allows cross-functional collaboration, which is key to innovation. The examples given are specific and tied to the article's content. However, the answer doesn't mention the iPhone or other specific products, which might be expected. But the article doesn't detail the iPhone's success in the context provided, so the answer is accurate based on the given text.\n",
      "\n",
      "The answer covers the main aspects of the question: it identifies specific organizational changes and their impact on innovation. It doesn't add any external information, so it's relevant. The examples are all from the context and directly relate to how Apple's leadership model drives innovation. Therefore, the answer is relevant and meets the metric.\n",
      "</think>\n",
      "\n",
      "### Evaluation of Relevance\n",
      "\n",
      "**Step 1:** Identify the key aspects of the question. The user asks for **specific examples** from the article where Apple's leadership approach led to **successful innovations**. The answer must directly reference the article's content and explicitly tie organizational changes to innovation outcomes.\n",
      "\n",
      "**Step 2:** Analyze the answer. The answer lists four examples:  \n",
      "1. Dividing hardware into engineering and technologies.  \n",
      "2. Adding AI/ML as a functional area.  \n",
      "3. Merging human interface with design.  \n",
      "4. Roger Rosner’s portfolio managing new applications.  \n",
      "\n",
      "These examples are explicitly mentioned in the context and directly relate to how Apple’s leadership model (functional structure, cross-functional collaboration) enables innovation. The answer does not introduce external information (e.g., the iPhone) but focuses on the article’s content.  \n",
      "\n",
      "**Step 3:** Check if the answer addresses the question fully. The answer provides **specific organizational changes** and links them to **innovation outcomes** (e.g., adapting to new technologies, cross-functional collaboration). It avoids vague statements and adheres strictly to the article’s examples.  \n",
      "\n",
      "**Step 4:** Determine if the answer is relevant. The answer is **completely relevant** to the question, as it directly addresses the article’s examples and their connection to innovation. It does not include extraneous information or misinterpretations.  \n",
      "\n",
      "### Score: **5** (The metric is followed completely)  \n",
      "The answer precisely addresses the question by providing specific examples from the article that demonstrate how Apple’s leadership approach (functional structure, cross-functional collaboration) has driven successful innovations. All key aspects of the question are covered without deviation.\n",
      "--------------------------------------------------\n"
     ]
    }
   ],
   "source": [
    "# Evaluate Query 3\n",
    "user_input_3 = \"Can you explain specific examples from the article where Apple's approach to leadership has led to successful innovations?\"\n",
    "print(\"\\nEvaluating Query 3:\")\n",
    "rag_system.calculate_rating(question=user_input_3)"
   ]
  },
  {
   "cell_type": "markdown",
   "metadata": {},
   "source": [
    "## Conclusion\n",
    "\n",
    "This notebook provides a comprehensive walkthrough of setting up and using a RAG LLM system for document Q&A and evaluation. You can modify the parameters and queries to experiment further."
   ]
  },
  {
   "cell_type": "markdown",
   "id": "8f0e1869",
   "metadata": {},
   "source": []
  }
 ],
 "metadata": {
  "kernelspec": {
   "display_name": ".venv",
   "language": "python",
   "name": "python3"
  },
  "language_info": {
   "codemirror_mode": {
    "name": "ipython",
    "version": 3
   },
   "file_extension": ".py",
   "mimetype": "text/x-python",
   "name": "python",
   "nbconvert_exporter": "python",
   "pygments_lexer": "ipython3",
   "version": "3.13.1"
  }
 },
 "nbformat": 4,
 "nbformat_minor": 5
}
